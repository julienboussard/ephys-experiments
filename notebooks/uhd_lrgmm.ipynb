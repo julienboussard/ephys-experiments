{
 "cells": [
  {
   "cell_type": "code",
   "execution_count": 1,
   "id": "7c20b627-9923-4888-9db0-c3dd82953899",
   "metadata": {
    "tags": []
   },
   "outputs": [
    {
     "data": {
      "text/plain": [
       "1"
      ]
     },
     "execution_count": 1,
     "metadata": {},
     "output_type": "execute_result"
    }
   ],
   "source": [
    "1"
   ]
  },
  {
   "cell_type": "code",
   "execution_count": 2,
   "id": "9c24a37b-05c9-4fcf-abf0-93c12c5fd1ef",
   "metadata": {
    "tags": []
   },
   "outputs": [],
   "source": [
    "%load_ext autoreload\n",
    "%autoreload 2"
   ]
  },
  {
   "cell_type": "code",
   "execution_count": 3,
   "id": "c4ce0870-31cb-4bf5-a1e9-d3ca1ed2fc77",
   "metadata": {
    "tags": []
   },
   "outputs": [],
   "source": [
    "import dartsort\n",
    "import numpy as np\n",
    "import dartsort.vis as dartvis\n",
    "import matplotlib.pyplot as plt\n",
    "from pathlib import Path\n",
    "import h5py\n",
    "import torch\n",
    "import torch.nn.functional as F\n",
    "from sklearn.decomposition import PCA, TruncatedSVD\n",
    "import spikeinterface.full as si\n",
    "from dartsort.config import *\n",
    "from dartsort.cluster import initial, density\n",
    "import dataclasses\n",
    "from dartsort.util import drift_util\n",
    "import warnings\n",
    "from tqdm.auto import trange, tqdm\n",
    "from scipy.stats import chi2\n",
    "from ephysx import spike_gmm, spike_lrgmm, spike_basic, ppca\n",
    "from matplotlib import colors\n",
    "import seaborn as sns\n",
    "from scipy.cluster.hierarchy import linkage, fcluster"
   ]
  },
  {
   "cell_type": "code",
   "execution_count": 4,
   "id": "be989e76-63d9-4a80-9b6c-806e6aeb995c",
   "metadata": {
    "tags": []
   },
   "outputs": [],
   "source": [
    "%config InlineBackend.figure_format = 'retina'\n",
    "import matplotlib.pyplot as plt\n",
    "from matplotlib.markers import MarkerStyle\n",
    "from matplotlib.transforms import offset_copy\n",
    "from matplotlib.patches import Ellipse, Rectangle, ConnectionPatch\n",
    "from matplotlib.lines import Line2D\n",
    "from matplotlib.legend_handler import HandlerTuple\n",
    "import contextlib\n",
    "import colorcet as cc\n",
    "\n",
    "plt.rc(\"figure\", dpi=300)\n",
    "plt.rc(\"figure\", figsize=(2, 2))\n",
    "SMALL_SIZE = 5\n",
    "MEDIUM_SIZE = 7\n",
    "BIGGER_SIZE =  8\n",
    "plt.rc('font', size=SMALL_SIZE)\n",
    "plt.rc('axes', titlesize=MEDIUM_SIZE)\n",
    "plt.rc('axes', labelsize=SMALL_SIZE)\n",
    "plt.rc('xtick', labelsize=SMALL_SIZE)\n",
    "plt.rc('ytick', labelsize=SMALL_SIZE)\n",
    "plt.rc('legend', fontsize=SMALL_SIZE)\n",
    "plt.rc('figure', titlesize=BIGGER_SIZE)"
   ]
  },
  {
   "cell_type": "code",
   "execution_count": 5,
   "id": "dcf065ca-92ac-4b51-97b9-18347eb19a47",
   "metadata": {
    "tags": []
   },
   "outputs": [],
   "source": [
    "# global\n",
    "model_radius = 15.0\n",
    "cfg = DARTsortConfig(\n",
    "    matching_iterations=2,\n",
    "    subtraction_config=SubtractionConfig(\n",
    "        detection_thresholds=(12, 9, 6, 5),\n",
    "        extract_radius=75.0,\n",
    "        max_waveforms_fit=20_000,\n",
    "        subtraction_denoising_config=FeaturizationConfig(\n",
    "            denoise_only=True,\n",
    "            input_waveforms_name=\"raw\",\n",
    "            output_waveforms_name=\"subtracted\",\n",
    "            tpca_fit_radius=model_radius,\n",
    "        ),\n",
    "        residnorm_decrease_threshold=20.0,\n",
    "    ),\n",
    "    matching_config=MatchingConfig(\n",
    "        threshold=2500.0,\n",
    "        max_waveforms_fit=20_000,\n",
    "        extract_radius=75.0,\n",
    "    ),\n",
    "    template_config=TemplateConfig(\n",
    "        denoising_fit_radius=model_radius,\n",
    "        denoising_snr_threshold=100.0,\n",
    "        superres_templates=False,\n",
    "    ),\n",
    "    clustering_config=ClusteringConfig(\n",
    "        cluster_strategy=\"density_peaks\",\n",
    "        sigma_regional=25.0,\n",
    "        noise_density=1.0,\n",
    "        ensemble_strategy=None,\n",
    "    ),\n",
    "    split_merge_config=SplitMergeConfig(\n",
    "        min_spatial_cosine=0.0,\n",
    "        linkage=\"single\",\n",
    "        # linkage=\"weighted_template\",\n",
    "        split_strategy_kwargs=dict(\n",
    "            channel_selection_radius=model_radius,\n",
    "            max_spikes=10_000,\n",
    "        ),\n",
    "        merge_template_config=TemplateConfig(\n",
    "            denoising_fit_radius=model_radius,\n",
    "            denoising_snr_threshold=100.0,\n",
    "            superres_templates=False,\n",
    "        )\n",
    "    ),\n",
    "    featurization_config=FeaturizationConfig(\n",
    "        tpca_fit_radius=model_radius,\n",
    "        localization_radius=50.0,\n",
    "        localization_model=\"dipole\",\n",
    "    ),\n",
    "    motion_estimation_config=MotionEstimationConfig(\n",
    "        max_dt_s=1000,\n",
    "        window_scale_um=250,\n",
    "        window_step_um=75,\n",
    "        window_margin_um=-150,\n",
    "        min_amplitude=15.0,\n",
    "    ),\n",
    ")"
   ]
  },
  {
   "cell_type": "code",
   "execution_count": 31,
   "id": "bdfaea63-17a3-48a7-9e9b-09fe95c7b909",
   "metadata": {
    "tags": []
   },
   "outputs": [
    {
     "name": "stdout",
     "output_type": "stream",
     "text": [
      "/home/charlie/data/uhdzye57_20220204\n"
     ]
    }
   ],
   "source": [
    "!ls /home/charlie/data/uhdzye57_20220204"
   ]
  },
  {
   "cell_type": "code",
   "execution_count": 29,
   "id": "2f5b5544-a9e2-4778-8ecf-296d91617ec2",
   "metadata": {
    "tags": []
   },
   "outputs": [
    {
     "ename": "NotADirectoryError",
     "evalue": "[Errno 20] Not a directory: '/home/charlie/data/uhdzye57_20220204/binary.json'",
     "output_type": "error",
     "traceback": [
      "\u001b[0;31m---------------------------------------------------------------------------\u001b[0m",
      "\u001b[0;31mNotADirectoryError\u001b[0m                        Traceback (most recent call last)",
      "Cell \u001b[0;32mIn[29], line 1\u001b[0m\n\u001b[0;32m----> 1\u001b[0m rec \u001b[38;5;241m=\u001b[39m \u001b[43msi\u001b[49m\u001b[38;5;241;43m.\u001b[39;49m\u001b[43mread_binary_folder\u001b[49m\u001b[43m(\u001b[49m\u001b[38;5;124;43m\"\u001b[39;49m\u001b[38;5;124;43m/home/charlie/data/uhdzye57_20220204\u001b[39;49m\u001b[38;5;124;43m\"\u001b[39;49m\u001b[43m)\u001b[49m\n",
      "File \u001b[0;32m~/my_spikeinterface/src/spikeinterface/core/binaryfolder.py:35\u001b[0m, in \u001b[0;36mBinaryFolderRecording.__init__\u001b[0;34m(self, folder_path)\u001b[0m\n\u001b[1;32m     32\u001b[0m \u001b[38;5;28;01mdef\u001b[39;00m \u001b[38;5;21m__init__\u001b[39m(\u001b[38;5;28mself\u001b[39m, folder_path):\n\u001b[1;32m     33\u001b[0m     folder_path \u001b[38;5;241m=\u001b[39m Path(folder_path)\n\u001b[0;32m---> 35\u001b[0m     \u001b[38;5;28;01mwith\u001b[39;00m \u001b[38;5;28;43mopen\u001b[39;49m\u001b[43m(\u001b[49m\u001b[43mfolder_path\u001b[49m\u001b[43m \u001b[49m\u001b[38;5;241;43m/\u001b[39;49m\u001b[43m \u001b[49m\u001b[38;5;124;43m\"\u001b[39;49m\u001b[38;5;124;43mbinary.json\u001b[39;49m\u001b[38;5;124;43m\"\u001b[39;49m\u001b[43m,\u001b[49m\u001b[43m \u001b[49m\u001b[38;5;124;43m\"\u001b[39;49m\u001b[38;5;124;43mr\u001b[39;49m\u001b[38;5;124;43m\"\u001b[39;49m\u001b[43m)\u001b[49m \u001b[38;5;28;01mas\u001b[39;00m f:\n\u001b[1;32m     36\u001b[0m         d \u001b[38;5;241m=\u001b[39m json\u001b[38;5;241m.\u001b[39mload(f)\n\u001b[1;32m     38\u001b[0m     \u001b[38;5;28;01mif\u001b[39;00m \u001b[38;5;129;01mnot\u001b[39;00m d[\u001b[38;5;124m\"\u001b[39m\u001b[38;5;124mclass\u001b[39m\u001b[38;5;124m\"\u001b[39m]\u001b[38;5;241m.\u001b[39mendswith(\u001b[38;5;124m\"\u001b[39m\u001b[38;5;124m.BinaryRecordingExtractor\u001b[39m\u001b[38;5;124m\"\u001b[39m):\n",
      "\u001b[0;31mNotADirectoryError\u001b[0m: [Errno 20] Not a directory: '/home/charlie/data/uhdzye57_20220204/binary.json'"
     ]
    }
   ],
   "source": [
    "rec = si.read_binary_folder(\"/home/charlie/data/uhdzye57_20220204\")"
   ]
  },
  {
   "cell_type": "code",
   "execution_count": 7,
   "id": "269cb1e3-3c80-4e18-a9ac-9ae69c89b378",
   "metadata": {
    "tags": []
   },
   "outputs": [
    {
     "data": {
      "text/plain": [
       "BinaryFolderRecording: 384 channels - 30.0kHz - 1 segments - 121,155,313 samples \n",
       "                       4,038.51s (1.12 hours) - float32 dtype - 173.31 GiB"
      ]
     },
     "execution_count": 7,
     "metadata": {},
     "output_type": "execute_result"
    }
   ],
   "source": [
    "rec"
   ]
  },
  {
   "cell_type": "code",
   "execution_count": 25,
   "id": "22c9f730-5430-4e3a-a153-5e75de7c9800",
   "metadata": {
    "tags": []
   },
   "outputs": [
    {
     "data": {
      "application/vnd.jupyter.widget-view+json": {
       "model_id": "4367ebf3237c4d09884036126e7df74c",
       "version_major": 2,
       "version_minor": 0
      },
      "text/plain": [
       "Fit subtraction denoisers 1.0s/it [spk/it=%%%]:   0%|          | 0/100 [00:00<?, ?it/s]"
      ]
     },
     "metadata": {},
     "output_type": "display_data"
    },
    {
     "name": "stdout",
     "output_type": "stream",
     "text": [
      "Got 20047 spikes, enough to stop early.\n"
     ]
    },
    {
     "data": {
      "application/vnd.jupyter.widget-view+json": {
       "model_id": "af3e078546064633ba83ade8c8f8561d",
       "version_major": 2,
       "version_minor": 0
      },
      "text/plain": [
       "Fit features 1.0s/it [spk/it=%%%]:   0%|          | 0/100 [00:00<?, ?it/s]"
      ]
     },
     "metadata": {},
     "output_type": "display_data"
    },
    {
     "name": "stdout",
     "output_type": "stream",
     "text": [
      "Got 20319 spikes, enough to stop early.\n"
     ]
    },
    {
     "data": {
      "application/vnd.jupyter.widget-view+json": {
       "model_id": "d907c4a1d04e481e9c45ec53bed6574f",
       "version_major": 2,
       "version_minor": 0
      },
      "text/plain": [
       "Subtraction 1.0s/it [spk/it=%%%]:   0%|          | 0/4039 [00:00<?, ?it/s]"
      ]
     },
     "metadata": {},
     "output_type": "display_data"
    },
    {
     "name": "stderr",
     "output_type": "stream",
     "text": [
      "\n",
      "KeyboardInterrupt\n",
      "\n"
     ]
    }
   ],
   "source": [
    "dartsort.subtract(\n",
    "    rec,\n",
    "    \"/home/charlie/data/uhdzigzagzye57cmr_sub2\",\n",
    "    subtraction_config=cfg.subtraction_config,\n",
    "    featurization_config=cfg.featurization_config,\n",
    "    overwrite=True,\n",
    "    # n_jobs=2,\n",
    "    \n",
    ")"
   ]
  },
  {
   "cell_type": "code",
   "execution_count": 26,
   "id": "0767f936-2476-4a7e-bb7e-63d0aa4a634e",
   "metadata": {
    "tags": []
   },
   "outputs": [
    {
     "data": {
      "text/plain": [
       "DARTsortSorting: 872513 spikes, 1 unit. extra features: denoised_logpeaktotrough, denoised_peak_amplitude_vectors, denoised_ptp_amplitude_vectors, denoised_ptp_amplitudes, point_source_localizations, times_seconds. from parent h5 file /home/charlie/data/uhdzigzagzye57cmr_sub2/subtraction.h5."
      ]
     },
     "execution_count": 26,
     "metadata": {},
     "output_type": "execute_result"
    }
   ],
   "source": [
    "sub_st = dartsort.DARTsortSorting.from_peeling_hdf5(\n",
    "    # \"/home/charlie/data/uhdzigzagzye57cmr_sub/subtraction.h5\",\n",
    "    \"/home/charlie/data/uhdzigzagzye57cmr_sub2/subtraction.h5\",\n",
    "    load_simple_features=True,\n",
    ")\n",
    "sub_st"
   ]
  },
  {
   "cell_type": "code",
   "execution_count": 13,
   "id": "e0df98d4-47c2-4cb6-8f80-7da312c52ded",
   "metadata": {
    "tags": []
   },
   "outputs": [
    {
     "data": {
      "application/vnd.jupyter.widget-view+json": {
       "model_id": "8b4524d515f44a3a8b5bca3604ffb55e",
       "version_major": 2,
       "version_minor": 0
      },
      "text/plain": [
       "Cross correlation:   0%|          | 0/3 [00:00<?, ?it/s]"
      ]
     },
     "metadata": {},
     "output_type": "display_data"
    },
    {
     "data": {
      "application/vnd.jupyter.widget-view+json": {
       "model_id": "eaebc2e57ba74c60ba3d397c2da6602c",
       "version_major": 2,
       "version_minor": 0
      },
      "text/plain": [
       "Solve:   0%|          | 0/2 [00:00<?, ?it/s]"
      ]
     },
     "metadata": {},
     "output_type": "display_data"
    }
   ],
   "source": [
    "motion_est = dartsort.estimate_motion(rec, sub_st, sub_st.parent_h5_path.parent, **dataclasses.asdict(cfg.motion_estimation_config))"
   ]
  },
  {
   "cell_type": "code",
   "execution_count": 14,
   "id": "d89540bb-b24b-4318-9326-3ed523b76ebc",
   "metadata": {
    "tags": []
   },
   "outputs": [],
   "source": [
    "chunk_time_ranges = initial.chunk_time_ranges(rec, chunk_length_samples=30_000 * 300)\n",
    "chunk11_dpc = initial.cluster_chunk(sub_st.parent_h5_path, cfg.clustering_config, chunk_time_range_s=chunk_time_ranges[10], motion_est=motion_est)"
   ]
  },
  {
   "cell_type": "code",
   "execution_count": 28,
   "id": "5b7546ca-5b61-4f2d-ada0-cdfb48f5addd",
   "metadata": {
    "tags": []
   },
   "outputs": [
    {
     "data": {
      "text/plain": [
       "(3417.2011076923077, 3727.8557538461537)"
      ]
     },
     "execution_count": 28,
     "metadata": {},
     "output_type": "execute_result"
    }
   ],
   "source": [
    "chunk_time_ranges[11]"
   ]
  },
  {
   "cell_type": "code",
   "execution_count": 15,
   "id": "c906dd8c-1940-4d28-b157-63fea1f87ce0",
   "metadata": {
    "tags": []
   },
   "outputs": [
    {
     "data": {
      "text/plain": [
       "DARTsortSorting: 872513 spikes, 102 units. extra features: point_source_localizations, denoised_ptp_amplitudes, times_seconds. from parent h5 file /home/charlie/data/uhdzigzagzye57cmr_sub2/subtraction.h5."
      ]
     },
     "execution_count": 15,
     "metadata": {},
     "output_type": "execute_result"
    }
   ],
   "source": [
    "chunk11_dpc"
   ]
  },
  {
   "cell_type": "code",
   "execution_count": 16,
   "id": "5c66847c-5a49-433a-88a3-7f169a3c3dfc",
   "metadata": {
    "tags": []
   },
   "outputs": [],
   "source": [
    "def dpcvis(gmm, multi_only=False, unit_ids=None):\n",
    "    if unit_ids is None:\n",
    "        unit_ids = gmm.unit_ids()\n",
    "    for uid in unit_ids:\n",
    "        print(uid)\n",
    "        z = gmm.train_loadings[uid]\n",
    "        in_unit = gmm.train_spike_indices[uid]\n",
    "        valid = np.flatnonzero(in_unit >= 0)\n",
    "        in_unit = in_unit[valid]\n",
    "        z = z[valid, :2]\n",
    "        dens = density.density_peaks_clustering(\n",
    "            z[:, :2],\n",
    "            sigma_local=\"rule_of_thumb\",\n",
    "            # sigma_regional=\"rule_of_thumb\",\n",
    "            n_neighbors_search=500,\n",
    "            return_extra=True,\n",
    "        )\n",
    "        if \"density\" not in dens:\n",
    "            print(\"Clustering threw everyone away\")\n",
    "            continue\n",
    "        ru = np.unique(dens[\"labels\"])\n",
    "        print(\"num units after split\", ru[ru >= 0].size)\n",
    "        if multi_only and ru[ru >= 0].size <= 1:\n",
    "            continue\n",
    "        fig, axes = dartvis.analysis_plots.density_peaks_study(z, dens, s=10)\n",
    "        plt.show()\n",
    "        plt.close(fig)"
   ]
  },
  {
   "cell_type": "code",
   "execution_count": 17,
   "id": "fb5609ff-0845-47bd-8c11-450bb623f207",
   "metadata": {
    "tags": []
   },
   "outputs": [],
   "source": [
    "analysis_tcfg = dartsort.TemplateConfig(superres_templates=False, realign_peaks=False, denoising_snr_threshold=100.0, denoising_fit_radius=25.0)\n",
    "analysis_tpca = None\n",
    "def get_analysis(labels, keepers=None, base_sorting=None):\n",
    "    if base_sorting is None:\n",
    "        base_sorting=chunk11_dpc\n",
    "    global analysis_tpca\n",
    "    if analysis_tpca is None:\n",
    "        analysis_tpca = dartsort.templates.get_templates.fit_tsvd(rec, base_sorting)\n",
    "\n",
    "    if keepers is not None:\n",
    "        labels_ = np.full_like(base_sorting.labels, -1)\n",
    "        labels_[keepers] = labels\n",
    "        labels = labels_\n",
    "    sorting = dataclasses.replace(\n",
    "        base_sorting,\n",
    "        labels=labels,\n",
    "    )\n",
    "    return dartsort.DARTsortAnalysis.from_sorting(\n",
    "        rec,\n",
    "        sorting,\n",
    "        motion_est=motion_est,\n",
    "        allow_template_reload=False,\n",
    "        template_config=analysis_tcfg,\n",
    "        denoising_tsvd=analysis_tpca,\n",
    "    )"
   ]
  },
  {
   "cell_type": "code",
   "execution_count": 18,
   "id": "12322f9c-ec09-4b3f-95ff-c4c608116fad",
   "metadata": {
    "tags": []
   },
   "outputs": [],
   "source": [
    "geom = rec.get_channel_locations()"
   ]
  },
  {
   "cell_type": "code",
   "execution_count": 19,
   "id": "64a710fd-1646-4322-9b45-1f6e64d5359e",
   "metadata": {
    "tags": []
   },
   "outputs": [
    {
     "data": {
      "text/plain": [
       "<torch.autograd.grad_mode.set_grad_enabled at 0x7f4063e344d0>"
      ]
     },
     "execution_count": 19,
     "metadata": {},
     "output_type": "execute_result"
    }
   ],
   "source": [
    "torch.set_grad_enabled(False)"
   ]
  },
  {
   "cell_type": "code",
   "execution_count": 20,
   "id": "3d251608-654f-4b02-9ded-90244fa03740",
   "metadata": {
    "tags": []
   },
   "outputs": [],
   "source": [
    "def makeplots(i, subdir, gmm=None, sorting=None, n_jobs=0, with_summaries=True, with_dpcs=True):\n",
    "    if gmm is None:\n",
    "        a0 = get_analysis(sorting.labels)\n",
    "    else:\n",
    "        a0 = get_analysis(gmm.labels, gmm.data.keepers)\n",
    "    fig = plt.figure(figsize=(15, 15))\n",
    "    fig = dartvis.make_sorting_summary(a0, figure=fig);\n",
    "    fig.savefig(subdir / \"sorting.png\", dpi=200)\n",
    "    plt.close(fig)\n",
    "\n",
    "    fig = plt.figure(figsize=(15, 15))\n",
    "    fig, ax, ss = dartvis.scatter_spike_features(sorting=a0.sorting, show_triaged=False, figure=fig, width_ratios=[1, 1, 1]);\n",
    "    fig.savefig(subdir / \"scatter.png\", dpi=200)\n",
    "    plt.close(fig)\n",
    "\n",
    "    if with_dpcs:\n",
    "        (subdir / \"dens\").mkdir(exist_ok=True)\n",
    "        for uid in tqdm(gmm.unit_ids()):\n",
    "            z = gmm.train_loadings[uid]\n",
    "            in_unit = gmm.train_spike_indices[uid]\n",
    "            valid = np.flatnonzero(in_unit >= 0)\n",
    "            in_unit = in_unit[valid]\n",
    "            z = z[valid, :2]\n",
    "            dens = density.density_peaks_clustering(\n",
    "                z[:, :2],\n",
    "                sigma_local=\"rule_of_thumb\",\n",
    "                # sigma_regional=\"rule_of_thumb\",\n",
    "                n_neighbors_search=500,\n",
    "                return_extra=True,\n",
    "            )\n",
    "            if \"density\" not in dens:\n",
    "                print(\"Clustering threw everyone away\")\n",
    "                continue\n",
    "            ru = np.unique(dens[\"labels\"])\n",
    "            fig, axes = dartvis.analysis_plots.density_peaks_study(z, dens, s=10)\n",
    "            fig.savefig(subdir / \"dens\" / f\"{uid:04d}.png\", dpi=200)\n",
    "            plt.close(fig)\n",
    "\n",
    "    if with_summaries:\n",
    "        dartvis.make_all_summaries(\n",
    "            a0,\n",
    "            subdir / \"summaries\",\n",
    "            channel_show_radius_um=15,\n",
    "            overwrite=True,\n",
    "            n_jobs=n_jobs)\n",
    "\n"
   ]
  },
  {
   "cell_type": "code",
   "execution_count": 21,
   "id": "9aff4e95-a396-4564-8d9b-3df00257b9ff",
   "metadata": {
    "tags": []
   },
   "outputs": [],
   "source": [
    "figdir = Path(\"~/data/gmmfigs\").expanduser()\n",
    "figdir.mkdir(exist_ok=True)"
   ]
  },
  {
   "cell_type": "code",
   "execution_count": 27,
   "id": "902410ec-af29-4546-9175-983ae7e8e21a",
   "metadata": {
    "tags": []
   },
   "outputs": [
    {
     "data": {
      "application/vnd.jupyter.widget-view+json": {
       "model_id": "218dc66453e24701966ecbf7c3b41baf",
       "version_major": 2,
       "version_minor": 0
      },
      "text/plain": [
       "Denoised templates:   0%|          | 0/65 [00:00<?, ?template/s]"
      ]
     },
     "metadata": {},
     "output_type": "display_data"
    },
    {
     "name": "stdout",
     "output_type": "stream",
     "text": [
      "q\n"
     ]
    },
    {
     "data": {
      "application/vnd.jupyter.widget-view+json": {
       "model_id": "82719cec0d9b4558b5b0818a41c45bfc",
       "version_major": 2,
       "version_minor": 0
      },
      "text/plain": [
       "Pairwise convolution:   0%|          | 0/81 [00:00<?, ?pair block/s]"
      ]
     },
     "metadata": {},
     "output_type": "display_data"
    },
    {
     "data": {
      "application/vnd.jupyter.widget-view+json": {
       "model_id": "f84ece7eff7543fc894043c007d9cce6",
       "version_major": 2,
       "version_minor": 0
      },
      "text/plain": [
       "  0%|          | 0/65 [00:00<?, ?it/s]"
      ]
     },
     "metadata": {},
     "output_type": "display_data"
    },
    {
     "data": {
      "application/vnd.jupyter.widget-view+json": {
       "model_id": "19d44a4b04ca4c26b4c2367c3d8f3aa9",
       "version_major": 2,
       "version_minor": 0
      },
      "text/plain": [
       "Unit summaries:   0%|          | 0/65 [00:00<?, ?it/s]"
      ]
     },
     "metadata": {},
     "output_type": "display_data"
    }
   ],
   "source": [
    "subdir = figdir / f\"newsub_chunk11dpc\"\n",
    "subdir.mkdir(exist_ok=True)\n",
    "makeplots(0, subdir, gmm, n_jobs=4, with_summaries=True, with_dpcs=True)"
   ]
  },
  {
   "cell_type": "code",
   "execution_count": 22,
   "id": "d1c00f7b-4f84-41e9-9785-76b0eac87427",
   "metadata": {
    "tags": []
   },
   "outputs": [
    {
     "name": "stdout",
     "output_type": "stream",
     "text": [
      "0.8% in 37 too-small units\n"
     ]
    },
    {
     "data": {
      "application/vnd.jupyter.widget-view+json": {
       "model_id": "d669463b897a4e4dbe2fa68a6a50acb8",
       "version_major": 2,
       "version_minor": 0
      },
      "text/plain": [
       "Fit:   0%|          | 0/65 [00:00<?, ?it/s]"
      ]
     },
     "metadata": {},
     "output_type": "display_data"
    }
   ],
   "source": [
    "gmm = spike_basic.BasicSpikePCAClusterer(\n",
    "    chunk11_dpc,\n",
    "    motion_est=motion_est,\n",
    "    centered=True,\n",
    "    rank=2,\n",
    "    in_memory=True,\n",
    "    fit_radius=15.0,\n",
    "    wf_radius=15.0,\n",
    "    whiten_input=True,\n",
    ")\n",
    "gmm.cuda()\n",
    "gmm.m_step()\n",
    "# gmm.dpc_split()"
   ]
  },
  {
   "cell_type": "code",
   "execution_count": 48,
   "id": "b892226e-6512-4627-9840-cece5280ea8b",
   "metadata": {
    "tags": []
   },
   "outputs": [],
   "source": [
    "overlaps, rel_ix, static_channels_b = gmm.centroid_overlaps()"
   ]
  },
  {
   "cell_type": "code",
   "execution_count": 21,
   "id": "372212f7-3aa1-41c4-8ef6-128ba18647e7",
   "metadata": {
    "tags": []
   },
   "outputs": [
    {
     "data": {
      "text/plain": [
       "<matplotlib.colorbar.Colorbar at 0x7f98adadb090>"
      ]
     },
     "execution_count": 21,
     "metadata": {},
     "output_type": "execute_result"
    },
    {
     "data": {
      "image/png": "[encoded data removed]",
      "text/plain": [
       "<Figure size 600x600 with 2 Axes>"
      ]
     },
     "metadata": {
      "image/png": {
       "height": 542,
       "width": 609
      }
     },
     "output_type": "display_data"
    }
   ],
   "source": [
    "plt.imshow(overlaps)\n",
    "plt.colorbar()"
   ]
  },
  {
   "cell_type": "code",
   "execution_count": 65,
   "id": "cc638241-5ef5-4ef0-80ae-9d84678db2f0",
   "metadata": {
    "tags": []
   },
   "outputs": [],
   "source": [
    "lres = gmm.centroid_likelihoods()\n",
    "cres = gmm.centroid_likelihoods(centroid_only=True)"
   ]
  },
  {
   "cell_type": "code",
   "execution_count": 82,
   "id": "37d022e8-408c-49c2-b36d-fe31a6926686",
   "metadata": {
    "tags": []
   },
   "outputs": [
    {
     "data": {
      "text/plain": [
       "array([66.65608215, 64.7930069 ,         inf,         inf,         inf,\n",
       "               inf,  0.        , 90.20801544,         inf,         inf,\n",
       "       29.83380127,         inf, 31.94803047,         inf,         inf,\n",
       "       92.15982819,         inf,         inf, 36.63697052,         inf,\n",
       "               inf,         inf,         inf,         inf,         inf,\n",
       "               inf,         inf,         inf,         inf,         inf,\n",
       "               inf,         inf,         inf,         inf,         inf,\n",
       "               inf,         inf,         inf,         inf,         inf,\n",
       "               inf,         inf,         inf,         inf,         inf,\n",
       "               inf,         inf,         inf,         inf,         inf,\n",
       "               inf,         inf,         inf,         inf,         inf,\n",
       "               inf,         inf,         inf,         inf,         inf,\n",
       "               inf,         inf,         inf,         inf,         inf,\n",
       "               inf,         inf,         inf,         inf,         inf,\n",
       "               inf,         inf,         inf,         inf,         inf,\n",
       "               inf,         inf,         inf,         inf,         inf,\n",
       "               inf,         inf,         inf,         inf,         inf,\n",
       "               inf,         inf,         inf,         inf,         inf,\n",
       "               inf,         inf,         inf,         inf,         inf,\n",
       "               inf,         inf,         inf,         inf,         inf,\n",
       "               inf,         inf,         inf,         inf,         inf,\n",
       "               inf,         inf,         inf,         inf])"
      ]
     },
     "execution_count": 82,
     "metadata": {},
     "output_type": "execute_result"
    }
   ],
   "source": [
    "cres[\"mahals\"][6]"
   ]
  },
  {
   "cell_type": "code",
   "execution_count": 84,
   "id": "bd1610e8-76fe-4468-bdb8-5fcaa6de23ff",
   "metadata": {
    "tags": []
   },
   "outputs": [
    {
     "data": {
      "text/plain": [
       "array([4.38606922e-09, 1.41411855e-09,            nan,            nan,\n",
       "                  nan,            nan, 0.00000000e+00, 1.35700222e-04,\n",
       "                  nan,            nan, 6.14698239e-14,            nan,\n",
       "       7.72299994e-13,            nan,            nan, 2.09639819e-01,\n",
       "                  nan,            nan, 9.77307588e-11,            nan,\n",
       "                  nan,            nan,            nan,            nan,\n",
       "                  nan,            nan,            nan,            nan,\n",
       "                  nan,            nan,            nan,            nan,\n",
       "                  nan,            nan,            nan,            nan,\n",
       "                  nan,            nan,            nan,            nan,\n",
       "                  nan,            nan,            nan,            nan,\n",
       "                  nan,            nan,            nan,            nan,\n",
       "                  nan,            nan,            nan,            nan,\n",
       "                  nan,            nan,            nan,            nan,\n",
       "                  nan,            nan,            nan,            nan,\n",
       "                  nan,            nan,            nan,            nan,\n",
       "                  nan,            nan,            nan,            nan,\n",
       "                  nan,            nan,            nan,            nan,\n",
       "                  nan,            nan,            nan,            nan,\n",
       "                  nan,            nan,            nan,            nan,\n",
       "                  nan,            nan,            nan,            nan,\n",
       "                  nan,            nan,            nan,            nan,\n",
       "                  nan,            nan,            nan,            nan,\n",
       "                  nan,            nan,            nan,            nan,\n",
       "                  nan,            nan,            nan,            nan,\n",
       "                  nan,            nan,            nan,            nan,\n",
       "                  nan,            nan,            nan,            nan,\n",
       "                  nan])"
      ]
     },
     "execution_count": 84,
     "metadata": {},
     "output_type": "execute_result"
    }
   ],
   "source": [
    "chi2.cdf(cres[\"mahals\"], df=cres[\"nobs\"])[6]"
   ]
  },
  {
   "cell_type": "code",
   "execution_count": 78,
   "id": "270cec2e-d1be-4034-b959-df0ec3d22a88",
   "metadata": {
    "tags": []
   },
   "outputs": [
    {
     "data": {
      "text/plain": [
       "<matplotlib.colorbar.Colorbar at 0x7f98507f6d10>"
      ]
     },
     "execution_count": 78,
     "metadata": {},
     "output_type": "execute_result"
    },
    {
     "data": {
      "image/png": "[encoded data removed]",
      "text/plain": [
       "<Figure size 600x600 with 2 Axes>"
      ]
     },
     "metadata": {
      "image/png": {
       "height": 542,
       "width": 609
      }
     },
     "output_type": "display_data"
    }
   ],
   "source": [
    "plt.imshow(chi2.cdf(cres[\"mahals\"], df=cres[\"nobs\"]))\n",
    "plt.colorbar()"
   ]
  },
  {
   "cell_type": "code",
   "execution_count": 81,
   "id": "81e0eef4-ecff-428f-96d7-b30726b55573",
   "metadata": {
    "tags": []
   },
   "outputs": [
    {
     "data": {
      "text/plain": [
       "<matplotlib.colorbar.Colorbar at 0x7f982e68f9d0>"
      ]
     },
     "execution_count": 81,
     "metadata": {},
     "output_type": "execute_result"
    },
    {
     "data": {
      "image/png": "[encoded data removed]",
      "text/plain": [
       "<Figure size 600x600 with 2 Axes>"
      ]
     },
     "metadata": {
      "image/png": {
       "height": 542,
       "width": 609
      }
     },
     "output_type": "display_data"
    }
   ],
   "source": [
    "plt.imshow(chi2.cdf(lres[\"mahals\"], df=lres[\"nobs\"]))\n",
    "plt.colorbar()"
   ]
  },
  {
   "cell_type": "code",
   "execution_count": 80,
   "id": "36b0e401-9c41-4f5c-9bb1-23fb52f38389",
   "metadata": {
    "tags": []
   },
   "outputs": [
    {
     "data": {
      "text/plain": [
       "<matplotlib.colorbar.Colorbar at 0x7f982e554d90>"
      ]
     },
     "execution_count": 80,
     "metadata": {},
     "output_type": "execute_result"
    },
    {
     "data": {
      "image/png": "[encoded data removed]",
      "text/plain": [
       "<Figure size 600x600 with 2 Axes>"
      ]
     },
     "metadata": {
      "image/png": {
       "height": 541,
       "width": 626
      }
     },
     "output_type": "display_data"
    }
   ],
   "source": [
    "plt.imshow(chi2.cdf(lres[\"mahals\"], df=lres[\"nobs\"]) - chi2.cdf(cres[\"mahals\"], df=cres[\"nobs\"]))\n",
    "plt.colorbar()"
   ]
  },
  {
   "cell_type": "code",
   "execution_count": 74,
   "id": "6903e323-a039-4ec9-b9ff-e17824a1cc5a",
   "metadata": {
    "tags": []
   },
   "outputs": [
    {
     "data": {
      "text/plain": [
       "<matplotlib.colorbar.Colorbar at 0x7f985198a150>"
      ]
     },
     "execution_count": 74,
     "metadata": {},
     "output_type": "execute_result"
    },
    {
     "data": {
      "image/png": "[encoded data removed]",
      "text/plain": [
       "<Figure size 600x600 with 2 Axes>"
      ]
     },
     "metadata": {
      "image/png": {
       "height": 542,
       "width": 609
      }
     },
     "output_type": "display_data"
    }
   ],
   "source": [
    "plt.imshow(cres[\"chis\"] < 1); plt.colorbar()"
   ]
  },
  {
   "cell_type": "code",
   "execution_count": 71,
   "id": "b80dc44c-1af3-4138-b681-760c84a78666",
   "metadata": {
    "tags": []
   },
   "outputs": [
    {
     "data": {
      "text/plain": [
       "<matplotlib.image.AxesImage at 0x7f9851cc9c10>"
      ]
     },
     "execution_count": 71,
     "metadata": {},
     "output_type": "execute_result"
    },
    {
     "data": {
      "image/png": "[encoded data removed]",
      "text/plain": [
       "<Figure size 600x600 with 1 Axes>"
      ]
     },
     "metadata": {
      "image/png": {
       "height": 576,
       "width": 590
      }
     },
     "output_type": "display_data"
    }
   ],
   "source": [
    "plt.imshow(lres[\"chis\"])"
   ]
  },
  {
   "cell_type": "code",
   "execution_count": 24,
   "id": "ec5bd6bc-c547-4cce-aa85-4150a7a5b7dc",
   "metadata": {
    "tags": []
   },
   "outputs": [],
   "source": [
    "m = gmm.mean.numpy(force=True)"
   ]
  },
  {
   "cell_type": "code",
   "execution_count": 28,
   "id": "9bfe823c-df79-4fbd-8fac-888fb8f2c40c",
   "metadata": {
    "tags": []
   },
   "outputs": [
    {
     "data": {
      "text/plain": [
       "array([ 2, 21,  5,  6,  7, 10, 11, 12, 15, 16, 17, 20, 21, 21, 21, 21, 21,\n",
       "       21, 21, 21, 21])"
      ]
     },
     "execution_count": 28,
     "metadata": {},
     "output_type": "execute_result"
    }
   ],
   "source": [
    "rel_ix[107, 108]"
   ]
  },
  {
   "cell_type": "code",
   "execution_count": 30,
   "id": "a6318154-ecb8-497d-a232-a6e95a390cf4",
   "metadata": {
    "tags": []
   },
   "outputs": [
    {
     "data": {
      "text/plain": [
       "array([388, 389, 390, 395, 396, 397, 398, 399, 403, 404, 405, 406, 407,\n",
       "       411, 412, 413, 414, 415, 420, 421, 422])"
      ]
     },
     "execution_count": 30,
     "metadata": {},
     "output_type": "execute_result"
    }
   ],
   "source": [
    "scb[107]"
   ]
  },
  {
   "cell_type": "code",
   "execution_count": 31,
   "id": "fa6a6ba8-6b49-42bf-b239-9a03fa69d204",
   "metadata": {
    "tags": []
   },
   "outputs": [
    {
     "data": {
      "text/plain": [
       "array([390, 391, 397, 398, 399, 405, 406, 407, 413, 414, 415, 422, 423,\n",
       "       592, 592, 592, 592, 592, 592, 592, 592])"
      ]
     },
     "execution_count": 31,
     "metadata": {},
     "output_type": "execute_result"
    }
   ],
   "source": [
    "scb[108]"
   ]
  },
  {
   "cell_type": "code",
   "execution_count": 32,
   "id": "df8f6d75-bd5c-4bf2-af5b-f63f28d0583c",
   "metadata": {
    "tags": []
   },
   "outputs": [],
   "source": [
    "rg = np.pad(gmm.data.registered_geom, [(0, 1), (0, 0)], constant_values=np.nan)"
   ]
  },
  {
   "cell_type": "code",
   "execution_count": 37,
   "id": "0fb6cfc8-7630-4eb5-911f-2960a92ae30f",
   "metadata": {
    "tags": []
   },
   "outputs": [
    {
     "data": {
      "text/plain": [
       "<matplotlib.collections.PathCollection at 0x7f9871519e90>"
      ]
     },
     "execution_count": 37,
     "metadata": {},
     "output_type": "execute_result"
    },
    {
     "data": {
      "image/png": "[encoded data removed]",
      "text/plain": [
       "<Figure size 600x600 with 1 Axes>"
      ]
     },
     "metadata": {
      "image/png": {
       "height": 571,
       "width": 593
      }
     },
     "output_type": "display_data"
    }
   ],
   "source": [
    "plt.scatter(*rg.T, color=\"k\", lw=0, marker=\".\")\n",
    "plt.scatter(*rg[scb[107]].T, color=\"r\", lw=0, marker=\".\")\n",
    "plt.scatter(*rg[scb[108]].T, color=\"g\", lw=0, marker=\".\")"
   ]
  },
  {
   "cell_type": "code",
   "execution_count": null,
   "id": "437a5159-0884-4ef2-ad5a-65a459d1bb41",
   "metadata": {},
   "outputs": [],
   "source": []
  },
  {
   "cell_type": "code",
   "execution_count": null,
   "id": "e7e10742-376a-473f-b76e-dffe68c17a8c",
   "metadata": {},
   "outputs": [],
   "source": []
  },
  {
   "cell_type": "code",
   "execution_count": 27,
   "id": "222c0caa-2b20-4f84-b9f6-67082417d079",
   "metadata": {
    "tags": []
   },
   "outputs": [
    {
     "data": {
      "text/plain": [
       "<matplotlib.image.AxesImage at 0x7f98891c9a10>"
      ]
     },
     "execution_count": 27,
     "metadata": {},
     "output_type": "execute_result"
    },
    {
     "data": {
      "image/png": "[encoded data removed]",
      "text/plain": [
       "<Figure size 600x600 with 3 Axes>"
      ]
     },
     "metadata": {
      "image/png": {
       "height": 571,
       "width": 577
      }
     },
     "output_type": "display_data"
    }
   ],
   "source": [
    "fig, (aa, ab, ac) = plt.subplots(ncols=3)\n",
    "vm = np.abs(m[107:109]).max()\n",
    "aa.imshow(m[108].reshape(8, -1), vmin=-vm, vmax=vm, aspect=\"auto\")\n",
    "ab.imshow(m[107].reshape(8, -1), vmin=-vm, vmax=vm, aspect=\"auto\")\n",
    "ac.imshow((m[107] - m[108]).reshape(8, -1), aspect=\"auto\")"
   ]
  },
  {
   "cell_type": "code",
   "execution_count": 41,
   "id": "95e223dd-fa5e-47e3-8bcd-26c67503f721",
   "metadata": {
    "tags": []
   },
   "outputs": [],
   "source": [
    "pairs = cres[\"overlaps\"] > 0.5"
   ]
  },
  {
   "cell_type": "code",
   "execution_count": 42,
   "id": "45a3fc66-4d38-4b12-98de-a6a53313b245",
   "metadata": {
    "tags": []
   },
   "outputs": [],
   "source": [
    "unit_a = 95\n",
    "row_a = pairs[unit_a]"
   ]
  },
  {
   "cell_type": "code",
   "execution_count": 44,
   "id": "d3f5512b-3cae-4149-b6ff-a15dee8079d6",
   "metadata": {
    "tags": []
   },
   "outputs": [],
   "source": [
    "units_b = np.flatnonzero(row_a)"
   ]
  },
  {
   "cell_type": "code",
   "execution_count": 55,
   "id": "7ef647e9-fb94-4124-bdcb-3c111bea0c18",
   "metadata": {
    "tags": []
   },
   "outputs": [
    {
     "data": {
      "text/plain": [
       "(95, 88)"
      ]
     },
     "execution_count": 55,
     "metadata": {},
     "output_type": "execute_result"
    }
   ],
   "source": [
    "unit_a, units_b[0]"
   ]
  },
  {
   "cell_type": "code",
   "execution_count": 49,
   "id": "5d99ceee-6974-49bc-9d8a-928f8efdb6d0",
   "metadata": {
    "tags": []
   },
   "outputs": [],
   "source": [
    "centroids_b = gmm.mean[units_b]\n",
    "rel_ix_b = torch.tensor(rel_ix[unit_a, units_b]).to(centroids_b.device)\n",
    "scb = static_channels_b[units_b]"
   ]
  },
  {
   "cell_type": "code",
   "execution_count": 51,
   "id": "0e468b53-64d8-428e-9d9a-da4913bc288f",
   "metadata": {
    "tags": []
   },
   "outputs": [],
   "source": [
    "centroid_a_rel = gmm.centroid_to_spike_channels(\n",
    "    unit_a, rel_ix_b\n",
    ")\n",
    "comps_a_rel = None\n",
    "sds = None"
   ]
  },
  {
   "cell_type": "code",
   "execution_count": 54,
   "id": "b113d821-9552-412d-ba4e-a1ac8cd4ebba",
   "metadata": {
    "tags": []
   },
   "outputs": [
    {
     "data": {
      "text/plain": [
       "<matplotlib.image.AxesImage at 0x7f9888a2b750>"
      ]
     },
     "execution_count": 54,
     "metadata": {},
     "output_type": "execute_result"
    },
    {
     "data": {
      "image/png": "[encoded data removed]",
      "text/plain": [
       "<Figure size 600x600 with 2 Axes>"
      ]
     },
     "metadata": {
      "image/png": {
       "height": 192,
       "width": 575
      }
     },
     "output_type": "display_data"
    }
   ],
   "source": [
    "fig, (aa, ab) = plt.subplots(ncols=2)\n",
    "aa.imshow(centroids_b[0].numpy(force=True).reshape(8,-1))\n",
    "ab.imshow(centroid_a_rel[0].numpy(force=True).reshape(8,-1))"
   ]
  },
  {
   "cell_type": "code",
   "execution_count": 59,
   "id": "5d3ebbff-4a43-49f4-8de9-54a7d2e6b8bf",
   "metadata": {
    "tags": []
   },
   "outputs": [],
   "source": [
    "nb = units_b.size"
   ]
  },
  {
   "cell_type": "code",
   "execution_count": 61,
   "id": "9116f090-3423-45a6-a518-f1c65b1970e3",
   "metadata": {
    "tags": []
   },
   "outputs": [],
   "source": [
    "rc = np.prod(centroids_b.shape[1:])\n",
    "X = centroids_b.reshape(nb, rc)\n",
    "masks = torch.tensor(scb < gmm.data.n_chans_cluster, device=X.device)\n",
    "masks = masks.unsqueeze(1).broadcast_to(nb, gmm.data.tpca_rank, gmm.data.n_chans_cluster).reshape(X.shape)\n",
    "centroid_a_rel = centroid_a_rel.reshape(nb, rc)"
   ]
  },
  {
   "cell_type": "code",
   "execution_count": 63,
   "id": "cdf7763b-5f5d-4c75-ac04-7c2772dd5cc5",
   "metadata": {
    "tags": []
   },
   "outputs": [
    {
     "data": {
      "text/plain": [
       "<matplotlib.image.AxesImage at 0x7f9871f85b10>"
      ]
     },
     "execution_count": 63,
     "metadata": {},
     "output_type": "execute_result"
    },
    {
     "data": {
      "image/png": "[encoded data removed]",
      "text/plain": [
       "<Figure size 600x600 with 3 Axes>"
      ]
     },
     "metadata": {
      "image/png": {
       "height": 165,
       "width": 577
      }
     },
     "output_type": "display_data"
    }
   ],
   "source": [
    "fig, (aa, ab, ac) = plt.subplots(ncols=3)\n",
    "aa.imshow(X[0].numpy(force=True).reshape(8,-1))\n",
    "ab.imshow(centroid_a_rel[0].numpy(force=True).reshape(8,-1))\n",
    "ac.imshow(masks[0].numpy(force=True).reshape(8,-1))"
   ]
  },
  {
   "cell_type": "code",
   "execution_count": 64,
   "id": "c13da181-ec24-4199-ad66-670ce4b56132",
   "metadata": {
    "tags": []
   },
   "outputs": [
    {
     "data": {
      "text/plain": [
       "tensor([[False, False, False,  ..., False, False, False],\n",
       "        [False, False, False,  ..., False, False, False],\n",
       "        [False, False, False,  ..., False, False, False],\n",
       "        ...,\n",
       "        [False, False, False,  ..., False, False, False],\n",
       "        [False, False, False,  ..., False, False, False],\n",
       "        [False, False, False,  ..., False, False, False]], device='cuda:0')"
      ]
     },
     "execution_count": 64,
     "metadata": {},
     "output_type": "execute_result"
    }
   ],
   "source": [
    "masks"
   ]
  },
  {
   "cell_type": "code",
   "execution_count": null,
   "id": "342b028a-a3e6-46d7-8632-e17551988989",
   "metadata": {},
   "outputs": [],
   "source": []
  },
  {
   "cell_type": "code",
   "execution_count": 56,
   "id": "37fc784e-77da-4d6a-9fe0-9734b8d943c2",
   "metadata": {
    "tags": []
   },
   "outputs": [
    {
     "data": {
      "text/plain": [
       "0.0"
      ]
     },
     "execution_count": 56,
     "metadata": {},
     "output_type": "execute_result"
    }
   ],
   "source": [
    "cres[\"mahals\"][95, 88]"
   ]
  },
  {
   "cell_type": "code",
   "execution_count": 57,
   "id": "14c30d5c-b4a0-4e4a-8f6e-42c0c04eb2b0",
   "metadata": {
    "tags": []
   },
   "outputs": [
    {
     "data": {
      "text/plain": [
       "0.5384615384615384"
      ]
     },
     "execution_count": 57,
     "metadata": {},
     "output_type": "execute_result"
    }
   ],
   "source": [
    "overlaps[95, 88]"
   ]
  },
  {
   "cell_type": "code",
   "execution_count": null,
   "id": "861590cc-0743-4677-9acc-d878920628a0",
   "metadata": {},
   "outputs": [],
   "source": []
  },
  {
   "cell_type": "code",
   "execution_count": 27,
   "id": "3b7e05c9-8034-489d-85f1-ffb60dc6da49",
   "metadata": {
    "tags": []
   },
   "outputs": [
    {
     "data": {
      "text/plain": [
       "(109, 109, 21)"
      ]
     },
     "execution_count": 27,
     "metadata": {},
     "output_type": "execute_result"
    }
   ],
   "source": [
    "rel_ix.shape"
   ]
  },
  {
   "cell_type": "code",
   "execution_count": null,
   "id": "16fbae7f-d9e3-46e2-86f2-189b2516f3e2",
   "metadata": {},
   "outputs": [],
   "source": []
  },
  {
   "cell_type": "code",
   "execution_count": null,
   "id": "23611c17-9015-4e85-84e7-e21b30c82b9b",
   "metadata": {},
   "outputs": [],
   "source": []
  },
  {
   "cell_type": "code",
   "execution_count": 35,
   "id": "da31ecb8-f6fd-4c6f-8a6b-dc3fe4c5ccf5",
   "metadata": {
    "scrolled": true,
    "tags": []
   },
   "outputs": [
    {
     "name": "stdout",
     "output_type": "stream",
     "text": [
      "0.1% in 11 too-small units\n"
     ]
    },
    {
     "data": {
      "application/vnd.jupyter.widget-view+json": {
       "model_id": "45797af966ff447982a81a94a9b682c3",
       "version_major": 2,
       "version_minor": 0
      },
      "text/plain": [
       "Fit:   0%|          | 0/80 [00:00<?, ?it/s]"
      ]
     },
     "metadata": {},
     "output_type": "display_data"
    },
    {
     "data": {
      "application/vnd.jupyter.widget-view+json": {
       "model_id": "38a946c4ea9349fdb523290fcb6b8ee8",
       "version_major": 2,
       "version_minor": 0
      },
      "text/plain": [
       "Split round 1:   0%|          | 0/80 [00:00<?, ?it/s]"
      ]
     },
     "metadata": {},
     "output_type": "display_data"
    },
    {
     "data": {
      "application/vnd.jupyter.widget-view+json": {
       "model_id": "97efa4f449544970b269325352174b01",
       "version_major": 2,
       "version_minor": 0
      },
      "text/plain": [
       "Fit:   0%|          | 0/128 [00:00<?, ?it/s]"
      ]
     },
     "metadata": {},
     "output_type": "display_data"
    },
    {
     "data": {
      "application/vnd.jupyter.widget-view+json": {
       "model_id": "a5b2e4cf4f1c4e3b8db82f6e16a6572e",
       "version_major": 2,
       "version_minor": 0
      },
      "text/plain": [
       "Split round 2:   0%|          | 0/128 [00:00<?, ?it/s]"
      ]
     },
     "metadata": {},
     "output_type": "display_data"
    },
    {
     "data": {
      "application/vnd.jupyter.widget-view+json": {
       "model_id": "815a0d918d424ca488c9985252653a40",
       "version_major": 2,
       "version_minor": 0
      },
      "text/plain": [
       "Fit:   0%|          | 0/117 [00:00<?, ?it/s]"
      ]
     },
     "metadata": {},
     "output_type": "display_data"
    },
    {
     "data": {
      "application/vnd.jupyter.widget-view+json": {
       "model_id": "2c57d0813bcc47bbaa59e454b3c0b336",
       "version_major": 2,
       "version_minor": 0
      },
      "text/plain": [
       "Split round 3:   0%|          | 0/117 [00:00<?, ?it/s]"
      ]
     },
     "metadata": {},
     "output_type": "display_data"
    },
    {
     "data": {
      "application/vnd.jupyter.widget-view+json": {
       "model_id": "52f4c7d95fca46fa8ae864485f322408",
       "version_major": 2,
       "version_minor": 0
      },
      "text/plain": [
       "Fit:   0%|          | 0/57 [00:00<?, ?it/s]"
      ]
     },
     "metadata": {},
     "output_type": "display_data"
    },
    {
     "data": {
      "application/vnd.jupyter.widget-view+json": {
       "model_id": "78ef991aa6a647c3b376e688b5d8dd81",
       "version_major": 2,
       "version_minor": 0
      },
      "text/plain": [
       "Split round 4:   0%|          | 0/57 [00:00<?, ?it/s]"
      ]
     },
     "metadata": {},
     "output_type": "display_data"
    },
    {
     "data": {
      "application/vnd.jupyter.widget-view+json": {
       "model_id": "4877bc5c6df847689ae1359088818dee",
       "version_major": 2,
       "version_minor": 0
      },
      "text/plain": [
       "Fit:   0%|          | 0/31 [00:00<?, ?it/s]"
      ]
     },
     "metadata": {},
     "output_type": "display_data"
    },
    {
     "data": {
      "application/vnd.jupyter.widget-view+json": {
       "model_id": "3c7fe32f52af4b28b198fb34c4026943",
       "version_major": 2,
       "version_minor": 0
      },
      "text/plain": [
       "Split round 5:   0%|          | 0/31 [00:00<?, ?it/s]"
      ]
     },
     "metadata": {},
     "output_type": "display_data"
    },
    {
     "data": {
      "application/vnd.jupyter.widget-view+json": {
       "model_id": "a9746dcb10c14195b2d0c9c02736126a",
       "version_major": 2,
       "version_minor": 0
      },
      "text/plain": [
       "Fit:   0%|          | 0/19 [00:00<?, ?it/s]"
      ]
     },
     "metadata": {},
     "output_type": "display_data"
    },
    {
     "data": {
      "application/vnd.jupyter.widget-view+json": {
       "model_id": "49dd21075d314d9d87276d43fba75a22",
       "version_major": 2,
       "version_minor": 0
      },
      "text/plain": [
       "Split round 6:   0%|          | 0/19 [00:00<?, ?it/s]"
      ]
     },
     "metadata": {},
     "output_type": "display_data"
    },
    {
     "data": {
      "application/vnd.jupyter.widget-view+json": {
       "model_id": "dfe2269fee7349c9acd8baffa78fee86",
       "version_major": 2,
       "version_minor": 0
      },
      "text/plain": [
       "Fit:   0%|          | 0/10 [00:00<?, ?it/s]"
      ]
     },
     "metadata": {},
     "output_type": "display_data"
    },
    {
     "data": {
      "application/vnd.jupyter.widget-view+json": {
       "model_id": "03dcf612c6a24c98be9c6ff3c98f721e",
       "version_major": 2,
       "version_minor": 0
      },
      "text/plain": [
       "Split round 7:   0%|          | 0/10 [00:00<?, ?it/s]"
      ]
     },
     "metadata": {},
     "output_type": "display_data"
    },
    {
     "data": {
      "application/vnd.jupyter.widget-view+json": {
       "model_id": "3d09ac0b1d7c4315882cf58c74c42082",
       "version_major": 2,
       "version_minor": 0
      },
      "text/plain": [
       "Fit:   0%|          | 0/6 [00:00<?, ?it/s]"
      ]
     },
     "metadata": {},
     "output_type": "display_data"
    },
    {
     "data": {
      "application/vnd.jupyter.widget-view+json": {
       "model_id": "8cbcda9591474e4b99ffac98d18d04a6",
       "version_major": 2,
       "version_minor": 0
      },
      "text/plain": [
       "Split round 8:   0%|          | 0/6 [00:00<?, ?it/s]"
      ]
     },
     "metadata": {},
     "output_type": "display_data"
    },
    {
     "data": {
      "application/vnd.jupyter.widget-view+json": {
       "model_id": "2421cf37c47e4225ace3141c5ebb1034",
       "version_major": 2,
       "version_minor": 0
      },
      "text/plain": [
       "Fit:   0%|          | 0/2 [00:00<?, ?it/s]"
      ]
     },
     "metadata": {},
     "output_type": "display_data"
    },
    {
     "data": {
      "application/vnd.jupyter.widget-view+json": {
       "model_id": "98980f574da04789bd33e4570db39b50",
       "version_major": 2,
       "version_minor": 0
      },
      "text/plain": [
       "Split round 9:   0%|          | 0/2 [00:00<?, ?it/s]"
      ]
     },
     "metadata": {},
     "output_type": "display_data"
    },
    {
     "data": {
      "application/vnd.jupyter.widget-view+json": {
       "model_id": "d2c6adf7fc614eadb51dd0399fd0bfab",
       "version_major": 2,
       "version_minor": 0
      },
      "text/plain": [
       "Fit:   0%|          | 0/2 [00:00<?, ?it/s]"
      ]
     },
     "metadata": {},
     "output_type": "display_data"
    },
    {
     "data": {
      "application/vnd.jupyter.widget-view+json": {
       "model_id": "582bfedf029d476087643664b58250b0",
       "version_major": 2,
       "version_minor": 0
      },
      "text/plain": [
       "Split round 10:   0%|          | 0/2 [00:00<?, ?it/s]"
      ]
     },
     "metadata": {},
     "output_type": "display_data"
    },
    {
     "data": {
      "application/vnd.jupyter.widget-view+json": {
       "model_id": "3b477c73ec8e4179876a0cfb5f47856c",
       "version_major": 2,
       "version_minor": 0
      },
      "text/plain": [
       "Fit:   0%|          | 0/1 [00:00<?, ?it/s]"
      ]
     },
     "metadata": {},
     "output_type": "display_data"
    },
    {
     "data": {
      "application/vnd.jupyter.widget-view+json": {
       "model_id": "c1ede45b8e064e059d68d09c0443423e",
       "version_major": 2,
       "version_minor": 0
      },
      "text/plain": [
       "Split round 11:   0%|          | 0/1 [00:00<?, ?it/s]"
      ]
     },
     "metadata": {},
     "output_type": "display_data"
    },
    {
     "name": "stdout",
     "output_type": "stream",
     "text": [
      "Split: 80 -> 137\n",
      "0.1% in 11 too-small units\n"
     ]
    },
    {
     "data": {
      "application/vnd.jupyter.widget-view+json": {
       "model_id": "ab338ca855584809865f626cff6ef339",
       "version_major": 2,
       "version_minor": 0
      },
      "text/plain": [
       "Fit:   0%|          | 0/80 [00:00<?, ?it/s]"
      ]
     },
     "metadata": {},
     "output_type": "display_data"
    },
    {
     "data": {
      "application/vnd.jupyter.widget-view+json": {
       "model_id": "610665e88c9549fe9b135989e624c5c1",
       "version_major": 2,
       "version_minor": 0
      },
      "text/plain": [
       "Split round 1:   0%|          | 0/80 [00:00<?, ?it/s]"
      ]
     },
     "metadata": {},
     "output_type": "display_data"
    },
    {
     "data": {
      "application/vnd.jupyter.widget-view+json": {
       "model_id": "ddd5af7bfa694d09a157979d1c03cd3e",
       "version_major": 2,
       "version_minor": 0
      },
      "text/plain": [
       "Fit:   0%|          | 0/95 [00:00<?, ?it/s]"
      ]
     },
     "metadata": {},
     "output_type": "display_data"
    },
    {
     "data": {
      "application/vnd.jupyter.widget-view+json": {
       "model_id": "0c7706011f7348b094825d78543dfcf8",
       "version_major": 2,
       "version_minor": 0
      },
      "text/plain": [
       "Split round 2:   0%|          | 0/95 [00:00<?, ?it/s]"
      ]
     },
     "metadata": {},
     "output_type": "display_data"
    },
    {
     "data": {
      "application/vnd.jupyter.widget-view+json": {
       "model_id": "b5d90e4a670d4332b3cc26eddc126893",
       "version_major": 2,
       "version_minor": 0
      },
      "text/plain": [
       "Fit:   0%|          | 0/79 [00:00<?, ?it/s]"
      ]
     },
     "metadata": {},
     "output_type": "display_data"
    },
    {
     "data": {
      "application/vnd.jupyter.widget-view+json": {
       "model_id": "57be04d705694c9b8a8f2abad7ce8d3d",
       "version_major": 2,
       "version_minor": 0
      },
      "text/plain": [
       "Split round 3:   0%|          | 0/79 [00:00<?, ?it/s]"
      ]
     },
     "metadata": {},
     "output_type": "display_data"
    },
    {
     "data": {
      "application/vnd.jupyter.widget-view+json": {
       "model_id": "95b11dcd4ca840f49419ae28d9ee05ab",
       "version_major": 2,
       "version_minor": 0
      },
      "text/plain": [
       "Fit:   0%|          | 0/46 [00:00<?, ?it/s]"
      ]
     },
     "metadata": {},
     "output_type": "display_data"
    },
    {
     "data": {
      "application/vnd.jupyter.widget-view+json": {
       "model_id": "a324e38caeb847b8af2ed84f7bf6bf1e",
       "version_major": 2,
       "version_minor": 0
      },
      "text/plain": [
       "Split round 4:   0%|          | 0/46 [00:00<?, ?it/s]"
      ]
     },
     "metadata": {},
     "output_type": "display_data"
    },
    {
     "data": {
      "application/vnd.jupyter.widget-view+json": {
       "model_id": "fbbceaeaded246f7ace6def325838737",
       "version_major": 2,
       "version_minor": 0
      },
      "text/plain": [
       "Fit:   0%|          | 0/35 [00:00<?, ?it/s]"
      ]
     },
     "metadata": {},
     "output_type": "display_data"
    },
    {
     "data": {
      "application/vnd.jupyter.widget-view+json": {
       "model_id": "c5f343cbfc7540a5a980e02e312132c5",
       "version_major": 2,
       "version_minor": 0
      },
      "text/plain": [
       "Split round 5:   0%|          | 0/35 [00:00<?, ?it/s]"
      ]
     },
     "metadata": {},
     "output_type": "display_data"
    },
    {
     "data": {
      "application/vnd.jupyter.widget-view+json": {
       "model_id": "ccde3e5f04a742389c5b5bd26536a87a",
       "version_major": 2,
       "version_minor": 0
      },
      "text/plain": [
       "Fit:   0%|          | 0/20 [00:00<?, ?it/s]"
      ]
     },
     "metadata": {},
     "output_type": "display_data"
    },
    {
     "data": {
      "application/vnd.jupyter.widget-view+json": {
       "model_id": "058536be6cef4834b5c8d7463300be52",
       "version_major": 2,
       "version_minor": 0
      },
      "text/plain": [
       "Split round 6:   0%|          | 0/20 [00:00<?, ?it/s]"
      ]
     },
     "metadata": {},
     "output_type": "display_data"
    },
    {
     "data": {
      "application/vnd.jupyter.widget-view+json": {
       "model_id": "38647912fe3042739e4ebbfc3a4e65c5",
       "version_major": 2,
       "version_minor": 0
      },
      "text/plain": [
       "Fit:   0%|          | 0/6 [00:00<?, ?it/s]"
      ]
     },
     "metadata": {},
     "output_type": "display_data"
    },
    {
     "data": {
      "application/vnd.jupyter.widget-view+json": {
       "model_id": "db5f7a00ba914255a8e6b5137c4deed6",
       "version_major": 2,
       "version_minor": 0
      },
      "text/plain": [
       "Split round 7:   0%|          | 0/6 [00:00<?, ?it/s]"
      ]
     },
     "metadata": {},
     "output_type": "display_data"
    },
    {
     "name": "stdout",
     "output_type": "stream",
     "text": [
      "Split: 80 -> 109\n"
     ]
    }
   ],
   "source": [
    "split_labels = {}\n",
    "for w in (False, True):\n",
    "    if w in split_labels:\n",
    "        continue\n",
    "    gmm = spike_basic.BasicSpikePCAClusterer(\n",
    "        chunk11_dpc,\n",
    "        motion_est=motion_est,\n",
    "        centered=True,\n",
    "        rank=2,\n",
    "        in_memory=True,\n",
    "        fit_radius=15.0,\n",
    "        wf_radius=15.0,\n",
    "        whiten_input=w,\n",
    "    )\n",
    "    gmm.cuda()\n",
    "    gmm.m_step()\n",
    "    gmm.dpc_split()\n",
    "    split_labels[w] = gmm.labels.copy()"
   ]
  },
  {
   "cell_type": "code",
   "execution_count": 36,
   "id": "ed06fe6f-255b-4c64-a045-0a3e5c21cb94",
   "metadata": {
    "tags": []
   },
   "outputs": [
    {
     "name": "stdout",
     "output_type": "stream",
     "text": [
      "False 138\n",
      "True 110\n"
     ]
    }
   ],
   "source": [
    "for w, l in split_labels.items():\n",
    "    print(w, np.unique(l).size)"
   ]
  },
  {
   "cell_type": "code",
   "execution_count": 37,
   "id": "f6deff91-a780-4d4f-b403-faa42d4a5971",
   "metadata": {
    "tags": []
   },
   "outputs": [
    {
     "data": {
      "application/vnd.jupyter.widget-view+json": {
       "model_id": "55a8b4dcf69c4eb887fb604c0a8e25a7",
       "version_major": 2,
       "version_minor": 0
      },
      "text/plain": [
       "Fit:   0%|          | 0/109 [00:00<?, ?it/s]"
      ]
     },
     "metadata": {},
     "output_type": "display_data"
    },
    {
     "data": {
      "application/vnd.jupyter.widget-view+json": {
       "model_id": "8f32d18f2cd5428a9c434d33d8d9b4af",
       "version_major": 2,
       "version_minor": 0
      },
      "text/plain": [
       "Unit distances:   0%|          | 0/109 [00:00<?, ?it/s]"
      ]
     },
     "metadata": {},
     "output_type": "display_data"
    },
    {
     "data": {
      "application/vnd.jupyter.widget-view+json": {
       "model_id": "d7fadc64916a4edc99128659df0da4e8",
       "version_major": 2,
       "version_minor": 0
      },
      "text/plain": [
       "Fit:   0%|          | 0/109 [00:00<?, ?it/s]"
      ]
     },
     "metadata": {},
     "output_type": "display_data"
    },
    {
     "data": {
      "application/vnd.jupyter.widget-view+json": {
       "model_id": "0a8995fed90a470895130eec25fc2305",
       "version_major": 2,
       "version_minor": 0
      },
      "text/plain": [
       "Denoised templates:   0%|          | 0/109 [00:00<?, ?template/s]"
      ]
     },
     "metadata": {},
     "output_type": "display_data"
    },
    {
     "name": "stdout",
     "output_type": "stream",
     "text": [
      "q\n"
     ]
    },
    {
     "data": {
      "application/vnd.jupyter.widget-view+json": {
       "model_id": "90e6e8e55484455da2d2eff1dd203eeb",
       "version_major": 2,
       "version_minor": 0
      },
      "text/plain": [
       "Pairwise convolution:   0%|          | 0/196 [00:00<?, ?pair block/s]"
      ]
     },
     "metadata": {},
     "output_type": "display_data"
    },
    {
     "data": {
      "application/vnd.jupyter.widget-view+json": {
       "model_id": "fae1818a46844890be4bf115e9b583ce",
       "version_major": 2,
       "version_minor": 0
      },
      "text/plain": [
       "  0%|          | 0/109 [00:00<?, ?it/s]"
      ]
     },
     "metadata": {},
     "output_type": "display_data"
    },
    {
     "data": {
      "application/vnd.jupyter.widget-view+json": {
       "model_id": "7e0e8572a440499bb01db54ec5af73da",
       "version_major": 2,
       "version_minor": 0
      },
      "text/plain": [
       "Unit summaries:   0%|          | 0/109 [00:00<?, ?it/s]"
      ]
     },
     "metadata": {},
     "output_type": "display_data"
    },
    {
     "data": {
      "application/vnd.jupyter.widget-view+json": {
       "model_id": "217b6848c25b4a419a29652220701444",
       "version_major": 2,
       "version_minor": 0
      },
      "text/plain": [
       "Unit distances:   0%|          | 0/109 [00:00<?, ?it/s]"
      ]
     },
     "metadata": {},
     "output_type": "display_data"
    },
    {
     "data": {
      "application/vnd.jupyter.widget-view+json": {
       "model_id": "3dc8f9e0bb804ee38788cfa8f28b5d7b",
       "version_major": 2,
       "version_minor": 0
      },
      "text/plain": [
       "Fit:   0%|          | 0/109 [00:00<?, ?it/s]"
      ]
     },
     "metadata": {},
     "output_type": "display_data"
    },
    {
     "data": {
      "application/vnd.jupyter.widget-view+json": {
       "model_id": "df235edd415240c4bd8d1c6993a9d68b",
       "version_major": 2,
       "version_minor": 0
      },
      "text/plain": [
       "Denoised templates:   0%|          | 0/109 [00:00<?, ?template/s]"
      ]
     },
     "metadata": {},
     "output_type": "display_data"
    },
    {
     "name": "stdout",
     "output_type": "stream",
     "text": [
      "q\n"
     ]
    },
    {
     "data": {
      "application/vnd.jupyter.widget-view+json": {
       "model_id": "453f438f780e4284986a3bfd299c00e9",
       "version_major": 2,
       "version_minor": 0
      },
      "text/plain": [
       "Pairwise convolution:   0%|          | 0/196 [00:00<?, ?pair block/s]"
      ]
     },
     "metadata": {},
     "output_type": "display_data"
    },
    {
     "data": {
      "application/vnd.jupyter.widget-view+json": {
       "model_id": "c8be0291301b46d7a73e3b07b2692ca1",
       "version_major": 2,
       "version_minor": 0
      },
      "text/plain": [
       "  0%|          | 0/109 [00:00<?, ?it/s]"
      ]
     },
     "metadata": {},
     "output_type": "display_data"
    },
    {
     "data": {
      "application/vnd.jupyter.widget-view+json": {
       "model_id": "d6d241714225435f81be76b647afb044",
       "version_major": 2,
       "version_minor": 0
      },
      "text/plain": [
       "Unit summaries:   0%|          | 0/109 [00:00<?, ?it/s]"
      ]
     },
     "metadata": {},
     "output_type": "display_data"
    },
    {
     "data": {
      "application/vnd.jupyter.widget-view+json": {
       "model_id": "9ce5534e5fcd404da0535121de53a4fe",
       "version_major": 2,
       "version_minor": 0
      },
      "text/plain": [
       "Fit:   0%|          | 0/137 [00:00<?, ?it/s]"
      ]
     },
     "metadata": {},
     "output_type": "display_data"
    },
    {
     "data": {
      "application/vnd.jupyter.widget-view+json": {
       "model_id": "2d2a2a654ca74f9db861fe42b438799b",
       "version_major": 2,
       "version_minor": 0
      },
      "text/plain": [
       "Unit distances:   0%|          | 0/137 [00:00<?, ?it/s]"
      ]
     },
     "metadata": {},
     "output_type": "display_data"
    },
    {
     "name": "stdout",
     "output_type": "stream",
     "text": [
      "0.0% in 1 too-small units\n"
     ]
    },
    {
     "data": {
      "application/vnd.jupyter.widget-view+json": {
       "model_id": "560da3afa4d4424fbb174c25e0192a9a",
       "version_major": 2,
       "version_minor": 0
      },
      "text/plain": [
       "Fit:   0%|          | 0/137 [00:00<?, ?it/s]"
      ]
     },
     "metadata": {},
     "output_type": "display_data"
    },
    {
     "data": {
      "application/vnd.jupyter.widget-view+json": {
       "model_id": "c90a603b989f4656b65217496362d83c",
       "version_major": 2,
       "version_minor": 0
      },
      "text/plain": [
       "Denoised templates:   0%|          | 0/137 [00:00<?, ?template/s]"
      ]
     },
     "metadata": {},
     "output_type": "display_data"
    },
    {
     "name": "stdout",
     "output_type": "stream",
     "text": [
      "q\n"
     ]
    },
    {
     "data": {
      "application/vnd.jupyter.widget-view+json": {
       "model_id": "8b8cf7bec3c44826971c0d7bd907b8d8",
       "version_major": 2,
       "version_minor": 0
      },
      "text/plain": [
       "Pairwise convolution:   0%|          | 0/324 [00:00<?, ?pair block/s]"
      ]
     },
     "metadata": {},
     "output_type": "display_data"
    },
    {
     "data": {
      "application/vnd.jupyter.widget-view+json": {
       "model_id": "3feea132822646be9e145b8afac10ffc",
       "version_major": 2,
       "version_minor": 0
      },
      "text/plain": [
       "  0%|          | 0/137 [00:00<?, ?it/s]"
      ]
     },
     "metadata": {},
     "output_type": "display_data"
    },
    {
     "data": {
      "application/vnd.jupyter.widget-view+json": {
       "model_id": "bcc9460d384b4dddb38576cae2eb10c4",
       "version_major": 2,
       "version_minor": 0
      },
      "text/plain": [
       "Unit summaries:   0%|          | 0/137 [00:00<?, ?it/s]"
      ]
     },
     "metadata": {},
     "output_type": "display_data"
    },
    {
     "data": {
      "application/vnd.jupyter.widget-view+json": {
       "model_id": "531c4637e7c54043a4c2daaa259269b4",
       "version_major": 2,
       "version_minor": 0
      },
      "text/plain": [
       "Unit distances:   0%|          | 0/137 [00:00<?, ?it/s]"
      ]
     },
     "metadata": {},
     "output_type": "display_data"
    },
    {
     "data": {
      "application/vnd.jupyter.widget-view+json": {
       "model_id": "57a3eda909ef4d91b8d96463f4f80dd5",
       "version_major": 2,
       "version_minor": 0
      },
      "text/plain": [
       "Fit:   0%|          | 0/137 [00:00<?, ?it/s]"
      ]
     },
     "metadata": {},
     "output_type": "display_data"
    },
    {
     "data": {
      "application/vnd.jupyter.widget-view+json": {
       "model_id": "c40dc0c6d42c4b9f805d09b80dc00ab6",
       "version_major": 2,
       "version_minor": 0
      },
      "text/plain": [
       "Denoised templates:   0%|          | 0/137 [00:00<?, ?template/s]"
      ]
     },
     "metadata": {},
     "output_type": "display_data"
    },
    {
     "name": "stdout",
     "output_type": "stream",
     "text": [
      "q\n"
     ]
    },
    {
     "data": {
      "application/vnd.jupyter.widget-view+json": {
       "model_id": "9d2515864bde4dfcaa2fa30dac0f99f9",
       "version_major": 2,
       "version_minor": 0
      },
      "text/plain": [
       "Pairwise convolution:   0%|          | 0/324 [00:00<?, ?pair block/s]"
      ]
     },
     "metadata": {},
     "output_type": "display_data"
    },
    {
     "data": {
      "application/vnd.jupyter.widget-view+json": {
       "model_id": "60572e7c7b9a4415b0aa81f3c6da11c7",
       "version_major": 2,
       "version_minor": 0
      },
      "text/plain": [
       "  0%|          | 0/137 [00:00<?, ?it/s]"
      ]
     },
     "metadata": {},
     "output_type": "display_data"
    },
    {
     "data": {
      "application/vnd.jupyter.widget-view+json": {
       "model_id": "b2945cf0ebcf4276aa74f36d0aaf560e",
       "version_major": 2,
       "version_minor": 0
      },
      "text/plain": [
       "Unit summaries:   0%|          | 0/137 [00:00<?, ?it/s]"
      ]
     },
     "metadata": {},
     "output_type": "display_data"
    },
    {
     "data": {
      "application/vnd.jupyter.widget-view+json": {
       "model_id": "bd62bfc344814a7f911c504165486282",
       "version_major": 2,
       "version_minor": 0
      },
      "text/plain": [
       "Fit:   0%|          | 0/109 [00:00<?, ?it/s]"
      ]
     },
     "metadata": {},
     "output_type": "display_data"
    },
    {
     "data": {
      "application/vnd.jupyter.widget-view+json": {
       "model_id": "4d1e75b151ec42568c07b2bfe4e86972",
       "version_major": 2,
       "version_minor": 0
      },
      "text/plain": [
       "Unit distances:   0%|          | 0/109 [00:00<?, ?it/s]"
      ]
     },
     "metadata": {},
     "output_type": "display_data"
    },
    {
     "data": {
      "application/vnd.jupyter.widget-view+json": {
       "model_id": "437f448d7c8c404c8159d70660c42fa9",
       "version_major": 2,
       "version_minor": 0
      },
      "text/plain": [
       "Fit:   0%|          | 0/109 [00:00<?, ?it/s]"
      ]
     },
     "metadata": {},
     "output_type": "display_data"
    },
    {
     "data": {
      "application/vnd.jupyter.widget-view+json": {
       "model_id": "dabb739faa694fe09906342f5932a336",
       "version_major": 2,
       "version_minor": 0
      },
      "text/plain": [
       "Denoised templates:   0%|          | 0/109 [00:00<?, ?template/s]"
      ]
     },
     "metadata": {},
     "output_type": "display_data"
    },
    {
     "name": "stdout",
     "output_type": "stream",
     "text": [
      "q\n"
     ]
    },
    {
     "data": {
      "application/vnd.jupyter.widget-view+json": {
       "model_id": "d830f2509f2347d4b877ab1c861a8c19",
       "version_major": 2,
       "version_minor": 0
      },
      "text/plain": [
       "Pairwise convolution:   0%|          | 0/196 [00:00<?, ?pair block/s]"
      ]
     },
     "metadata": {},
     "output_type": "display_data"
    },
    {
     "data": {
      "application/vnd.jupyter.widget-view+json": {
       "model_id": "31f9b797161447c7bef47d504a56a208",
       "version_major": 2,
       "version_minor": 0
      },
      "text/plain": [
       "  0%|          | 0/109 [00:00<?, ?it/s]"
      ]
     },
     "metadata": {},
     "output_type": "display_data"
    },
    {
     "data": {
      "application/vnd.jupyter.widget-view+json": {
       "model_id": "563e9bf2add5418a93b9fd64daaef63c",
       "version_major": 2,
       "version_minor": 0
      },
      "text/plain": [
       "Unit summaries:   0%|          | 0/109 [00:00<?, ?it/s]"
      ]
     },
     "metadata": {},
     "output_type": "display_data"
    },
    {
     "data": {
      "application/vnd.jupyter.widget-view+json": {
       "model_id": "e861c1e1c7b348e6a528e028799029e4",
       "version_major": 2,
       "version_minor": 0
      },
      "text/plain": [
       "Unit distances:   0%|          | 0/109 [00:00<?, ?it/s]"
      ]
     },
     "metadata": {},
     "output_type": "display_data"
    },
    {
     "data": {
      "application/vnd.jupyter.widget-view+json": {
       "model_id": "104842ce5da543309de4c009bdb1b118",
       "version_major": 2,
       "version_minor": 0
      },
      "text/plain": [
       "Fit:   0%|          | 0/109 [00:00<?, ?it/s]"
      ]
     },
     "metadata": {},
     "output_type": "display_data"
    },
    {
     "data": {
      "application/vnd.jupyter.widget-view+json": {
       "model_id": "173e8ed720d34d24b3a29f4eaee03328",
       "version_major": 2,
       "version_minor": 0
      },
      "text/plain": [
       "Denoised templates:   0%|          | 0/109 [00:00<?, ?template/s]"
      ]
     },
     "metadata": {},
     "output_type": "display_data"
    },
    {
     "name": "stdout",
     "output_type": "stream",
     "text": [
      "q\n"
     ]
    },
    {
     "data": {
      "application/vnd.jupyter.widget-view+json": {
       "model_id": "224ba54319f64097bb29c113066609d9",
       "version_major": 2,
       "version_minor": 0
      },
      "text/plain": [
       "Pairwise convolution:   0%|          | 0/196 [00:00<?, ?pair block/s]"
      ]
     },
     "metadata": {},
     "output_type": "display_data"
    },
    {
     "data": {
      "application/vnd.jupyter.widget-view+json": {
       "model_id": "8553029092834894bd50165d102b21b2",
       "version_major": 2,
       "version_minor": 0
      },
      "text/plain": [
       "  0%|          | 0/109 [00:00<?, ?it/s]"
      ]
     },
     "metadata": {},
     "output_type": "display_data"
    },
    {
     "data": {
      "application/vnd.jupyter.widget-view+json": {
       "model_id": "493405f329894ff886cca2b7e1c13792",
       "version_major": 2,
       "version_minor": 0
      },
      "text/plain": [
       "Unit summaries:   0%|          | 0/109 [00:00<?, ?it/s]"
      ]
     },
     "metadata": {},
     "output_type": "display_data"
    },
    {
     "data": {
      "application/vnd.jupyter.widget-view+json": {
       "model_id": "fc8179007b85449aa0518619b0a2f2d0",
       "version_major": 2,
       "version_minor": 0
      },
      "text/plain": [
       "Fit:   0%|          | 0/137 [00:00<?, ?it/s]"
      ]
     },
     "metadata": {},
     "output_type": "display_data"
    },
    {
     "data": {
      "application/vnd.jupyter.widget-view+json": {
       "model_id": "e33189e66a324b6eabfee76e757af374",
       "version_major": 2,
       "version_minor": 0
      },
      "text/plain": [
       "Unit distances:   0%|          | 0/137 [00:00<?, ?it/s]"
      ]
     },
     "metadata": {},
     "output_type": "display_data"
    },
    {
     "name": "stdout",
     "output_type": "stream",
     "text": [
      "0.0% in 1 too-small units\n"
     ]
    },
    {
     "data": {
      "application/vnd.jupyter.widget-view+json": {
       "model_id": "dd0768b879d84276b559fdebfa4a37bd",
       "version_major": 2,
       "version_minor": 0
      },
      "text/plain": [
       "Fit:   0%|          | 0/137 [00:00<?, ?it/s]"
      ]
     },
     "metadata": {},
     "output_type": "display_data"
    },
    {
     "data": {
      "application/vnd.jupyter.widget-view+json": {
       "model_id": "a82a7c8eebef4eada1514d264cdb332c",
       "version_major": 2,
       "version_minor": 0
      },
      "text/plain": [
       "Denoised templates:   0%|          | 0/137 [00:00<?, ?template/s]"
      ]
     },
     "metadata": {},
     "output_type": "display_data"
    },
    {
     "name": "stdout",
     "output_type": "stream",
     "text": [
      "q\n"
     ]
    },
    {
     "data": {
      "application/vnd.jupyter.widget-view+json": {
       "model_id": "fc4e4a475b9141e283296b9bd5b17c41",
       "version_major": 2,
       "version_minor": 0
      },
      "text/plain": [
       "Pairwise convolution:   0%|          | 0/324 [00:00<?, ?pair block/s]"
      ]
     },
     "metadata": {},
     "output_type": "display_data"
    },
    {
     "data": {
      "application/vnd.jupyter.widget-view+json": {
       "model_id": "1ee89b0f04704b9ebde7c7746bc95f87",
       "version_major": 2,
       "version_minor": 0
      },
      "text/plain": [
       "  0%|          | 0/137 [00:00<?, ?it/s]"
      ]
     },
     "metadata": {},
     "output_type": "display_data"
    },
    {
     "data": {
      "application/vnd.jupyter.widget-view+json": {
       "model_id": "1153f47898d84c5393ca1b72a5d13ce4",
       "version_major": 2,
       "version_minor": 0
      },
      "text/plain": [
       "Unit summaries:   0%|          | 0/137 [00:00<?, ?it/s]"
      ]
     },
     "metadata": {},
     "output_type": "display_data"
    },
    {
     "data": {
      "application/vnd.jupyter.widget-view+json": {
       "model_id": "28aed9c2daf14ad496f68d7d1a4becfe",
       "version_major": 2,
       "version_minor": 0
      },
      "text/plain": [
       "Unit distances:   0%|          | 0/137 [00:00<?, ?it/s]"
      ]
     },
     "metadata": {},
     "output_type": "display_data"
    },
    {
     "data": {
      "application/vnd.jupyter.widget-view+json": {
       "model_id": "27bbc1dff95440e08affcec466cd1e5f",
       "version_major": 2,
       "version_minor": 0
      },
      "text/plain": [
       "Fit:   0%|          | 0/137 [00:00<?, ?it/s]"
      ]
     },
     "metadata": {},
     "output_type": "display_data"
    },
    {
     "data": {
      "application/vnd.jupyter.widget-view+json": {
       "model_id": "f651d874826e433390baad057c648b34",
       "version_major": 2,
       "version_minor": 0
      },
      "text/plain": [
       "Denoised templates:   0%|          | 0/137 [00:00<?, ?template/s]"
      ]
     },
     "metadata": {},
     "output_type": "display_data"
    },
    {
     "name": "stdout",
     "output_type": "stream",
     "text": [
      "q\n"
     ]
    },
    {
     "data": {
      "application/vnd.jupyter.widget-view+json": {
       "model_id": "610b5b594e014ac99caddf699d80cea1",
       "version_major": 2,
       "version_minor": 0
      },
      "text/plain": [
       "Pairwise convolution:   0%|          | 0/324 [00:00<?, ?pair block/s]"
      ]
     },
     "metadata": {},
     "output_type": "display_data"
    },
    {
     "data": {
      "application/vnd.jupyter.widget-view+json": {
       "model_id": "572b9297cafb40248130740a80071f77",
       "version_major": 2,
       "version_minor": 0
      },
      "text/plain": [
       "  0%|          | 0/137 [00:00<?, ?it/s]"
      ]
     },
     "metadata": {},
     "output_type": "display_data"
    },
    {
     "data": {
      "application/vnd.jupyter.widget-view+json": {
       "model_id": "a70dff91d43b4365a302a65018e1eb8f",
       "version_major": 2,
       "version_minor": 0
      },
      "text/plain": [
       "Unit summaries:   0%|          | 0/137 [00:00<?, ?it/s]"
      ]
     },
     "metadata": {},
     "output_type": "display_data"
    },
    {
     "data": {
      "application/vnd.jupyter.widget-view+json": {
       "model_id": "86159fb472b64efb8b8634b5097d7fbb",
       "version_major": 2,
       "version_minor": 0
      },
      "text/plain": [
       "Fit:   0%|          | 0/109 [00:00<?, ?it/s]"
      ]
     },
     "metadata": {},
     "output_type": "display_data"
    },
    {
     "data": {
      "application/vnd.jupyter.widget-view+json": {
       "model_id": "c150e118b5b84a77877e3610c40f3b34",
       "version_major": 2,
       "version_minor": 0
      },
      "text/plain": [
       "Unit distances:   0%|          | 0/109 [00:00<?, ?it/s]"
      ]
     },
     "metadata": {},
     "output_type": "display_data"
    },
    {
     "data": {
      "application/vnd.jupyter.widget-view+json": {
       "model_id": "eb17fe767b57402b8507fe057f1daf2b",
       "version_major": 2,
       "version_minor": 0
      },
      "text/plain": [
       "Fit:   0%|          | 0/109 [00:00<?, ?it/s]"
      ]
     },
     "metadata": {},
     "output_type": "display_data"
    },
    {
     "data": {
      "application/vnd.jupyter.widget-view+json": {
       "model_id": "7ef48ac006414c58a0847d216e27fe9e",
       "version_major": 2,
       "version_minor": 0
      },
      "text/plain": [
       "Denoised templates:   0%|          | 0/109 [00:00<?, ?template/s]"
      ]
     },
     "metadata": {},
     "output_type": "display_data"
    },
    {
     "name": "stdout",
     "output_type": "stream",
     "text": [
      "q\n"
     ]
    },
    {
     "data": {
      "application/vnd.jupyter.widget-view+json": {
       "model_id": "12452c485e4b476a9b157ede5bed8b16",
       "version_major": 2,
       "version_minor": 0
      },
      "text/plain": [
       "Pairwise convolution:   0%|          | 0/196 [00:00<?, ?pair block/s]"
      ]
     },
     "metadata": {},
     "output_type": "display_data"
    },
    {
     "data": {
      "application/vnd.jupyter.widget-view+json": {
       "model_id": "94330da24f02437d8df5b2e98d8aaf95",
       "version_major": 2,
       "version_minor": 0
      },
      "text/plain": [
       "  0%|          | 0/109 [00:00<?, ?it/s]"
      ]
     },
     "metadata": {},
     "output_type": "display_data"
    },
    {
     "data": {
      "application/vnd.jupyter.widget-view+json": {
       "model_id": "19507d8c2c254ad7861d84b786f96843",
       "version_major": 2,
       "version_minor": 0
      },
      "text/plain": [
       "Unit summaries:   0%|          | 0/109 [00:00<?, ?it/s]"
      ]
     },
     "metadata": {},
     "output_type": "display_data"
    },
    {
     "data": {
      "application/vnd.jupyter.widget-view+json": {
       "model_id": "e64bc9241b8a4d49ab7137847b5c2781",
       "version_major": 2,
       "version_minor": 0
      },
      "text/plain": [
       "Unit distances:   0%|          | 0/109 [00:00<?, ?it/s]"
      ]
     },
     "metadata": {},
     "output_type": "display_data"
    },
    {
     "data": {
      "application/vnd.jupyter.widget-view+json": {
       "model_id": "ecafea66cede482db42750f64a56b9b2",
       "version_major": 2,
       "version_minor": 0
      },
      "text/plain": [
       "Fit:   0%|          | 0/109 [00:00<?, ?it/s]"
      ]
     },
     "metadata": {},
     "output_type": "display_data"
    },
    {
     "data": {
      "application/vnd.jupyter.widget-view+json": {
       "model_id": "bbdb6b3e6f0c4ce1af1902d032e88cff",
       "version_major": 2,
       "version_minor": 0
      },
      "text/plain": [
       "Denoised templates:   0%|          | 0/109 [00:00<?, ?template/s]"
      ]
     },
     "metadata": {},
     "output_type": "display_data"
    },
    {
     "name": "stdout",
     "output_type": "stream",
     "text": [
      "q\n"
     ]
    },
    {
     "data": {
      "application/vnd.jupyter.widget-view+json": {
       "model_id": "846c70603da640578343c1055387cef3",
       "version_major": 2,
       "version_minor": 0
      },
      "text/plain": [
       "Pairwise convolution:   0%|          | 0/196 [00:00<?, ?pair block/s]"
      ]
     },
     "metadata": {},
     "output_type": "display_data"
    },
    {
     "data": {
      "application/vnd.jupyter.widget-view+json": {
       "model_id": "76087f79d86148898d61e39681237f50",
       "version_major": 2,
       "version_minor": 0
      },
      "text/plain": [
       "  0%|          | 0/109 [00:00<?, ?it/s]"
      ]
     },
     "metadata": {},
     "output_type": "display_data"
    },
    {
     "data": {
      "application/vnd.jupyter.widget-view+json": {
       "model_id": "7f9a9e7b78e04b80a0e8b750e82bc387",
       "version_major": 2,
       "version_minor": 0
      },
      "text/plain": [
       "Unit summaries:   0%|          | 0/109 [00:00<?, ?it/s]"
      ]
     },
     "metadata": {},
     "output_type": "display_data"
    },
    {
     "data": {
      "application/vnd.jupyter.widget-view+json": {
       "model_id": "694e9b9a5bfb42aeacfb12f2d59a3409",
       "version_major": 2,
       "version_minor": 0
      },
      "text/plain": [
       "Fit:   0%|          | 0/137 [00:00<?, ?it/s]"
      ]
     },
     "metadata": {},
     "output_type": "display_data"
    },
    {
     "data": {
      "application/vnd.jupyter.widget-view+json": {
       "model_id": "25d78720bdc8465591e4c9fc789f2caf",
       "version_major": 2,
       "version_minor": 0
      },
      "text/plain": [
       "Unit distances:   0%|          | 0/137 [00:00<?, ?it/s]"
      ]
     },
     "metadata": {},
     "output_type": "display_data"
    },
    {
     "name": "stdout",
     "output_type": "stream",
     "text": [
      "0.0% in 1 too-small units\n"
     ]
    },
    {
     "data": {
      "application/vnd.jupyter.widget-view+json": {
       "model_id": "4e9f94e0bea3428fa8b5704b903c80e1",
       "version_major": 2,
       "version_minor": 0
      },
      "text/plain": [
       "Fit:   0%|          | 0/137 [00:00<?, ?it/s]"
      ]
     },
     "metadata": {},
     "output_type": "display_data"
    },
    {
     "data": {
      "application/vnd.jupyter.widget-view+json": {
       "model_id": "3494b07ab64c496899516878d922a9cf",
       "version_major": 2,
       "version_minor": 0
      },
      "text/plain": [
       "Denoised templates:   0%|          | 0/137 [00:00<?, ?template/s]"
      ]
     },
     "metadata": {},
     "output_type": "display_data"
    },
    {
     "name": "stdout",
     "output_type": "stream",
     "text": [
      "q\n"
     ]
    },
    {
     "data": {
      "application/vnd.jupyter.widget-view+json": {
       "model_id": "5894f84e1ea1417e908880585d60d13b",
       "version_major": 2,
       "version_minor": 0
      },
      "text/plain": [
       "Pairwise convolution:   0%|          | 0/324 [00:00<?, ?pair block/s]"
      ]
     },
     "metadata": {},
     "output_type": "display_data"
    },
    {
     "data": {
      "application/vnd.jupyter.widget-view+json": {
       "model_id": "7945d0fa63fb4cc3871cbc0228884eaa",
       "version_major": 2,
       "version_minor": 0
      },
      "text/plain": [
       "  0%|          | 0/137 [00:00<?, ?it/s]"
      ]
     },
     "metadata": {},
     "output_type": "display_data"
    },
    {
     "data": {
      "application/vnd.jupyter.widget-view+json": {
       "model_id": "3b4b9e2bff2240bea2374947201685ba",
       "version_major": 2,
       "version_minor": 0
      },
      "text/plain": [
       "Unit summaries:   0%|          | 0/137 [00:00<?, ?it/s]"
      ]
     },
     "metadata": {},
     "output_type": "display_data"
    },
    {
     "data": {
      "application/vnd.jupyter.widget-view+json": {
       "model_id": "10a9a7c4f56b400fa91c69e247ba685f",
       "version_major": 2,
       "version_minor": 0
      },
      "text/plain": [
       "Unit distances:   0%|          | 0/137 [00:00<?, ?it/s]"
      ]
     },
     "metadata": {},
     "output_type": "display_data"
    },
    {
     "data": {
      "application/vnd.jupyter.widget-view+json": {
       "model_id": "839d4feddfb04f9e9454ec1f9aa4266d",
       "version_major": 2,
       "version_minor": 0
      },
      "text/plain": [
       "Fit:   0%|          | 0/137 [00:00<?, ?it/s]"
      ]
     },
     "metadata": {},
     "output_type": "display_data"
    },
    {
     "data": {
      "application/vnd.jupyter.widget-view+json": {
       "model_id": "e675f376f8e64c9c82d141ffe50cda8c",
       "version_major": 2,
       "version_minor": 0
      },
      "text/plain": [
       "Denoised templates:   0%|          | 0/137 [00:00<?, ?template/s]"
      ]
     },
     "metadata": {},
     "output_type": "display_data"
    },
    {
     "name": "stdout",
     "output_type": "stream",
     "text": [
      "q\n"
     ]
    },
    {
     "data": {
      "application/vnd.jupyter.widget-view+json": {
       "model_id": "afa7b0b8433348d08ebe034e27164ccb",
       "version_major": 2,
       "version_minor": 0
      },
      "text/plain": [
       "Pairwise convolution:   0%|          | 0/324 [00:00<?, ?pair block/s]"
      ]
     },
     "metadata": {},
     "output_type": "display_data"
    },
    {
     "data": {
      "application/vnd.jupyter.widget-view+json": {
       "model_id": "3fe96aceda22405585c7fb96c8bc90e5",
       "version_major": 2,
       "version_minor": 0
      },
      "text/plain": [
       "  0%|          | 0/137 [00:00<?, ?it/s]"
      ]
     },
     "metadata": {},
     "output_type": "display_data"
    },
    {
     "data": {
      "application/vnd.jupyter.widget-view+json": {
       "model_id": "71a47878ddc744b38bd9a1dc000ea489",
       "version_major": 2,
       "version_minor": 0
      },
      "text/plain": [
       "Unit summaries:   0%|          | 0/137 [00:00<?, ?it/s]"
      ]
     },
     "metadata": {},
     "output_type": "display_data"
    },
    {
     "data": {
      "application/vnd.jupyter.widget-view+json": {
       "model_id": "551e2a8f9f4e48f797f0c8ec3ddd1da5",
       "version_major": 2,
       "version_minor": 0
      },
      "text/plain": [
       "Fit:   0%|          | 0/109 [00:00<?, ?it/s]"
      ]
     },
     "metadata": {},
     "output_type": "display_data"
    },
    {
     "data": {
      "application/vnd.jupyter.widget-view+json": {
       "model_id": "29130c0dee4640da87a20fa51ff7c072",
       "version_major": 2,
       "version_minor": 0
      },
      "text/plain": [
       "Unit distances:   0%|          | 0/109 [00:00<?, ?it/s]"
      ]
     },
     "metadata": {},
     "output_type": "display_data"
    },
    {
     "data": {
      "application/vnd.jupyter.widget-view+json": {
       "model_id": "b92dcdcbc040476794688fe277098455",
       "version_major": 2,
       "version_minor": 0
      },
      "text/plain": [
       "Fit:   0%|          | 0/109 [00:00<?, ?it/s]"
      ]
     },
     "metadata": {},
     "output_type": "display_data"
    },
    {
     "data": {
      "application/vnd.jupyter.widget-view+json": {
       "model_id": "fe34c15816004ef1be22db2707cb3fe5",
       "version_major": 2,
       "version_minor": 0
      },
      "text/plain": [
       "Denoised templates:   0%|          | 0/109 [00:00<?, ?template/s]"
      ]
     },
     "metadata": {},
     "output_type": "display_data"
    },
    {
     "name": "stdout",
     "output_type": "stream",
     "text": [
      "q\n"
     ]
    },
    {
     "data": {
      "application/vnd.jupyter.widget-view+json": {
       "model_id": "a4c7470b1a0e46fe84c6a7bbc7f546c5",
       "version_major": 2,
       "version_minor": 0
      },
      "text/plain": [
       "Pairwise convolution:   0%|          | 0/196 [00:00<?, ?pair block/s]"
      ]
     },
     "metadata": {},
     "output_type": "display_data"
    },
    {
     "data": {
      "application/vnd.jupyter.widget-view+json": {
       "model_id": "247449a1da4d4779877b48cd3a014a97",
       "version_major": 2,
       "version_minor": 0
      },
      "text/plain": [
       "  0%|          | 0/109 [00:00<?, ?it/s]"
      ]
     },
     "metadata": {},
     "output_type": "display_data"
    },
    {
     "data": {
      "application/vnd.jupyter.widget-view+json": {
       "model_id": "69187f320a8a496da94e6835a68b5fbe",
       "version_major": 2,
       "version_minor": 0
      },
      "text/plain": [
       "Unit summaries:   0%|          | 0/109 [00:00<?, ?it/s]"
      ]
     },
     "metadata": {},
     "output_type": "display_data"
    },
    {
     "ename": "BrokenProcessPool",
     "evalue": "A process in the process pool was terminated abruptly while the future was running or pending.",
     "output_type": "error",
     "traceback": [
      "\u001b[0;31m---------------------------------------------------------------------------\u001b[0m",
      "\u001b[0;31mBrokenProcessPool\u001b[0m                         Traceback (most recent call last)",
      "Cell \u001b[0;32mIn[37], line 24\u001b[0m\n\u001b[1;32m     22\u001b[0m subdir \u001b[38;5;241m=\u001b[39m figdir \u001b[38;5;241m/\u001b[39m \u001b[38;5;124mf\u001b[39m\u001b[38;5;124m\"\u001b[39m\u001b[38;5;132;01m{\u001b[39;00mname\u001b[38;5;132;01m}\u001b[39;00m\u001b[38;5;124m_1\u001b[39m\u001b[38;5;124m\"\u001b[39m\n\u001b[1;32m     23\u001b[0m subdir\u001b[38;5;241m.\u001b[39mmkdir(exist_ok\u001b[38;5;241m=\u001b[39m\u001b[38;5;28;01mTrue\u001b[39;00m)\n\u001b[0;32m---> 24\u001b[0m \u001b[43mmakeplots\u001b[49m\u001b[43m(\u001b[49m\u001b[38;5;241;43m0\u001b[39;49m\u001b[43m,\u001b[49m\u001b[43m \u001b[49m\u001b[43msubdir\u001b[49m\u001b[43m,\u001b[49m\u001b[43m \u001b[49m\u001b[43mgmm\u001b[49m\u001b[43m,\u001b[49m\u001b[43m \u001b[49m\u001b[43mn_jobs\u001b[49m\u001b[38;5;241;43m=\u001b[39;49m\u001b[38;5;241;43m4\u001b[39;49m\u001b[43m,\u001b[49m\u001b[43m \u001b[49m\u001b[43mwith_summaries\u001b[49m\u001b[38;5;241;43m=\u001b[39;49m\u001b[38;5;28;43;01mTrue\u001b[39;49;00m\u001b[43m,\u001b[49m\u001b[43m \u001b[49m\u001b[43mwith_dpcs\u001b[49m\u001b[38;5;241;43m=\u001b[39;49m\u001b[38;5;28;43;01mTrue\u001b[39;49;00m\u001b[43m)\u001b[49m\n\u001b[1;32m     26\u001b[0m gmm\u001b[38;5;241m.\u001b[39mreassign(strat)\n\u001b[1;32m     27\u001b[0m gmm\u001b[38;5;241m.\u001b[39mm_step()\n",
      "Cell \u001b[0;32mIn[18], line 37\u001b[0m, in \u001b[0;36mmakeplots\u001b[0;34m(i, subdir, gmm, n_jobs, with_summaries, with_dpcs)\u001b[0m\n\u001b[1;32m     34\u001b[0m         plt\u001b[38;5;241m.\u001b[39mclose(fig)\n\u001b[1;32m     36\u001b[0m \u001b[38;5;28;01mif\u001b[39;00m with_summaries:\n\u001b[0;32m---> 37\u001b[0m     \u001b[43mdartvis\u001b[49m\u001b[38;5;241;43m.\u001b[39;49m\u001b[43mmake_all_summaries\u001b[49m\u001b[43m(\u001b[49m\n\u001b[1;32m     38\u001b[0m \u001b[43m        \u001b[49m\u001b[43ma0\u001b[49m\u001b[43m,\u001b[49m\n\u001b[1;32m     39\u001b[0m \u001b[43m        \u001b[49m\u001b[43msubdir\u001b[49m\u001b[43m \u001b[49m\u001b[38;5;241;43m/\u001b[39;49m\u001b[43m \u001b[49m\u001b[38;5;124;43m\"\u001b[39;49m\u001b[38;5;124;43msummaries\u001b[39;49m\u001b[38;5;124;43m\"\u001b[39;49m\u001b[43m,\u001b[49m\n\u001b[1;32m     40\u001b[0m \u001b[43m        \u001b[49m\u001b[43mchannel_show_radius_um\u001b[49m\u001b[38;5;241;43m=\u001b[39;49m\u001b[38;5;241;43m15\u001b[39;49m\u001b[43m,\u001b[49m\n\u001b[1;32m     41\u001b[0m \u001b[43m        \u001b[49m\u001b[43moverwrite\u001b[49m\u001b[38;5;241;43m=\u001b[39;49m\u001b[38;5;28;43;01mTrue\u001b[39;49;00m\u001b[43m,\u001b[49m\n\u001b[1;32m     42\u001b[0m \u001b[43m        \u001b[49m\u001b[43mn_jobs\u001b[49m\u001b[38;5;241;43m=\u001b[39;49m\u001b[43mn_jobs\u001b[49m\u001b[43m)\u001b[49m\n",
      "File \u001b[0;32m~/spike-psvae/src/dartsort/vis/unit.py:1058\u001b[0m, in \u001b[0;36mmake_all_summaries\u001b[0;34m(sorting_analysis, save_folder, plots, channel_show_radius_um, amplitude_color_cutoff, pca_radius_um, max_height, figsize, hspace, dpi, image_ext, n_jobs, show_progress, overwrite, unit_ids, **other_global_params)\u001b[0m\n\u001b[1;32m   1051\u001b[0m \u001b[38;5;28;01mif\u001b[39;00m show_progress:\n\u001b[1;32m   1052\u001b[0m     results \u001b[38;5;241m=\u001b[39m tqdm(\n\u001b[1;32m   1053\u001b[0m         results,\n\u001b[1;32m   1054\u001b[0m         desc\u001b[38;5;241m=\u001b[39m\u001b[38;5;124m\"\u001b[39m\u001b[38;5;124mUnit summaries\u001b[39m\u001b[38;5;124m\"\u001b[39m,\n\u001b[1;32m   1055\u001b[0m         smoothing\u001b[38;5;241m=\u001b[39m\u001b[38;5;241m0\u001b[39m,\n\u001b[1;32m   1056\u001b[0m         total\u001b[38;5;241m=\u001b[39m\u001b[38;5;28mlen\u001b[39m(jobs),\n\u001b[1;32m   1057\u001b[0m     )\n\u001b[0;32m-> 1058\u001b[0m \u001b[38;5;28;01mfor\u001b[39;00m res \u001b[38;5;129;01min\u001b[39;00m results:\n\u001b[1;32m   1059\u001b[0m     \u001b[38;5;28;01mpass\u001b[39;00m\n",
      "File \u001b[0;32m~/mambaforge/envs/a/lib/python3.11/site-packages/tqdm/notebook.py:254\u001b[0m, in \u001b[0;36mtqdm_notebook.__iter__\u001b[0;34m(self)\u001b[0m\n\u001b[1;32m    252\u001b[0m \u001b[38;5;28;01mtry\u001b[39;00m:\n\u001b[1;32m    253\u001b[0m     it \u001b[38;5;241m=\u001b[39m \u001b[38;5;28msuper\u001b[39m(tqdm_notebook, \u001b[38;5;28mself\u001b[39m)\u001b[38;5;241m.\u001b[39m\u001b[38;5;21m__iter__\u001b[39m()\n\u001b[0;32m--> 254\u001b[0m     \u001b[38;5;28;01mfor\u001b[39;00m obj \u001b[38;5;129;01min\u001b[39;00m it:\n\u001b[1;32m    255\u001b[0m         \u001b[38;5;66;03m# return super(tqdm...) will not catch exception\u001b[39;00m\n\u001b[1;32m    256\u001b[0m         \u001b[38;5;28;01myield\u001b[39;00m obj\n\u001b[1;32m    257\u001b[0m \u001b[38;5;66;03m# NB: except ... [ as ...] breaks IPython async KeyboardInterrupt\u001b[39;00m\n",
      "File \u001b[0;32m~/mambaforge/envs/a/lib/python3.11/site-packages/tqdm/std.py:1178\u001b[0m, in \u001b[0;36mtqdm.__iter__\u001b[0;34m(self)\u001b[0m\n\u001b[1;32m   1175\u001b[0m time \u001b[38;5;241m=\u001b[39m \u001b[38;5;28mself\u001b[39m\u001b[38;5;241m.\u001b[39m_time\n\u001b[1;32m   1177\u001b[0m \u001b[38;5;28;01mtry\u001b[39;00m:\n\u001b[0;32m-> 1178\u001b[0m     \u001b[38;5;28;01mfor\u001b[39;00m obj \u001b[38;5;129;01min\u001b[39;00m iterable:\n\u001b[1;32m   1179\u001b[0m         \u001b[38;5;28;01myield\u001b[39;00m obj\n\u001b[1;32m   1180\u001b[0m         \u001b[38;5;66;03m# Update and possibly print the progressbar.\u001b[39;00m\n\u001b[1;32m   1181\u001b[0m         \u001b[38;5;66;03m# Note: does not call self.update(1) for speed optimisation.\u001b[39;00m\n",
      "File \u001b[0;32m~/mambaforge/envs/a/lib/python3.11/concurrent/futures/process.py:602\u001b[0m, in \u001b[0;36m_chain_from_iterable_of_lists\u001b[0;34m(iterable)\u001b[0m\n\u001b[1;32m    596\u001b[0m \u001b[38;5;28;01mdef\u001b[39;00m \u001b[38;5;21m_chain_from_iterable_of_lists\u001b[39m(iterable):\n\u001b[1;32m    597\u001b[0m \u001b[38;5;250m    \u001b[39m\u001b[38;5;124;03m\"\"\"\u001b[39;00m\n\u001b[1;32m    598\u001b[0m \u001b[38;5;124;03m    Specialized implementation of itertools.chain.from_iterable.\u001b[39;00m\n\u001b[1;32m    599\u001b[0m \u001b[38;5;124;03m    Each item in *iterable* should be a list.  This function is\u001b[39;00m\n\u001b[1;32m    600\u001b[0m \u001b[38;5;124;03m    careful not to keep references to yielded objects.\u001b[39;00m\n\u001b[1;32m    601\u001b[0m \u001b[38;5;124;03m    \"\"\"\u001b[39;00m\n\u001b[0;32m--> 602\u001b[0m     \u001b[38;5;28;01mfor\u001b[39;00m element \u001b[38;5;129;01min\u001b[39;00m iterable:\n\u001b[1;32m    603\u001b[0m         element\u001b[38;5;241m.\u001b[39mreverse()\n\u001b[1;32m    604\u001b[0m         \u001b[38;5;28;01mwhile\u001b[39;00m element:\n",
      "File \u001b[0;32m~/mambaforge/envs/a/lib/python3.11/concurrent/futures/_base.py:619\u001b[0m, in \u001b[0;36mExecutor.map.<locals>.result_iterator\u001b[0;34m()\u001b[0m\n\u001b[1;32m    616\u001b[0m \u001b[38;5;28;01mwhile\u001b[39;00m fs:\n\u001b[1;32m    617\u001b[0m     \u001b[38;5;66;03m# Careful not to keep a reference to the popped future\u001b[39;00m\n\u001b[1;32m    618\u001b[0m     \u001b[38;5;28;01mif\u001b[39;00m timeout \u001b[38;5;129;01mis\u001b[39;00m \u001b[38;5;28;01mNone\u001b[39;00m:\n\u001b[0;32m--> 619\u001b[0m         \u001b[38;5;28;01myield\u001b[39;00m \u001b[43m_result_or_cancel\u001b[49m\u001b[43m(\u001b[49m\u001b[43mfs\u001b[49m\u001b[38;5;241;43m.\u001b[39;49m\u001b[43mpop\u001b[49m\u001b[43m(\u001b[49m\u001b[43m)\u001b[49m\u001b[43m)\u001b[49m\n\u001b[1;32m    620\u001b[0m     \u001b[38;5;28;01melse\u001b[39;00m:\n\u001b[1;32m    621\u001b[0m         \u001b[38;5;28;01myield\u001b[39;00m _result_or_cancel(fs\u001b[38;5;241m.\u001b[39mpop(), end_time \u001b[38;5;241m-\u001b[39m time\u001b[38;5;241m.\u001b[39mmonotonic())\n",
      "File \u001b[0;32m~/mambaforge/envs/a/lib/python3.11/concurrent/futures/_base.py:317\u001b[0m, in \u001b[0;36m_result_or_cancel\u001b[0;34m(***failed resolving arguments***)\u001b[0m\n\u001b[1;32m    315\u001b[0m \u001b[38;5;28;01mtry\u001b[39;00m:\n\u001b[1;32m    316\u001b[0m     \u001b[38;5;28;01mtry\u001b[39;00m:\n\u001b[0;32m--> 317\u001b[0m         \u001b[38;5;28;01mreturn\u001b[39;00m \u001b[43mfut\u001b[49m\u001b[38;5;241;43m.\u001b[39;49m\u001b[43mresult\u001b[49m\u001b[43m(\u001b[49m\u001b[43mtimeout\u001b[49m\u001b[43m)\u001b[49m\n\u001b[1;32m    318\u001b[0m     \u001b[38;5;28;01mfinally\u001b[39;00m:\n\u001b[1;32m    319\u001b[0m         fut\u001b[38;5;241m.\u001b[39mcancel()\n",
      "File \u001b[0;32m~/mambaforge/envs/a/lib/python3.11/concurrent/futures/_base.py:456\u001b[0m, in \u001b[0;36mFuture.result\u001b[0;34m(self, timeout)\u001b[0m\n\u001b[1;32m    454\u001b[0m     \u001b[38;5;28;01mraise\u001b[39;00m CancelledError()\n\u001b[1;32m    455\u001b[0m \u001b[38;5;28;01melif\u001b[39;00m \u001b[38;5;28mself\u001b[39m\u001b[38;5;241m.\u001b[39m_state \u001b[38;5;241m==\u001b[39m FINISHED:\n\u001b[0;32m--> 456\u001b[0m     \u001b[38;5;28;01mreturn\u001b[39;00m \u001b[38;5;28;43mself\u001b[39;49m\u001b[38;5;241;43m.\u001b[39;49m\u001b[43m__get_result\u001b[49m\u001b[43m(\u001b[49m\u001b[43m)\u001b[49m\n\u001b[1;32m    457\u001b[0m \u001b[38;5;28;01melse\u001b[39;00m:\n\u001b[1;32m    458\u001b[0m     \u001b[38;5;28;01mraise\u001b[39;00m \u001b[38;5;167;01mTimeoutError\u001b[39;00m()\n",
      "File \u001b[0;32m~/mambaforge/envs/a/lib/python3.11/concurrent/futures/_base.py:401\u001b[0m, in \u001b[0;36mFuture.__get_result\u001b[0;34m(self)\u001b[0m\n\u001b[1;32m    399\u001b[0m \u001b[38;5;28;01mif\u001b[39;00m \u001b[38;5;28mself\u001b[39m\u001b[38;5;241m.\u001b[39m_exception:\n\u001b[1;32m    400\u001b[0m     \u001b[38;5;28;01mtry\u001b[39;00m:\n\u001b[0;32m--> 401\u001b[0m         \u001b[38;5;28;01mraise\u001b[39;00m \u001b[38;5;28mself\u001b[39m\u001b[38;5;241m.\u001b[39m_exception\n\u001b[1;32m    402\u001b[0m     \u001b[38;5;28;01mfinally\u001b[39;00m:\n\u001b[1;32m    403\u001b[0m         \u001b[38;5;66;03m# Break a reference cycle with the exception in self._exception\u001b[39;00m\n\u001b[1;32m    404\u001b[0m         \u001b[38;5;28mself\u001b[39m \u001b[38;5;241m=\u001b[39m \u001b[38;5;28;01mNone\u001b[39;00m\n",
      "\u001b[0;31mBrokenProcessPool\u001b[0m: A process in the process pool was terminated abruptly while the future was running or pending."
     ]
    }
   ],
   "source": [
    "for r in (2, 5):\n",
    "    for strat in (\"centroidlikelihood\", \"likelihood\"):\n",
    "        for w in (True, False):\n",
    "            name = f\"bbb_{r=}_{strat=}_{w=}\"\n",
    "            if (figdir / f\"{name}_2\").exists():\n",
    "                continue\n",
    "\n",
    "            labes = np.full_like(chunk11_dpc.labels, -1)\n",
    "            labes[chunk11_dpc.labels >= 0] = split_labels[w]\n",
    "            gmm = spike_basic.BasicSpikePCAClusterer(\n",
    "                dataclasses.replace(chunk11_dpc, labels=labes),\n",
    "                motion_est=motion_est,\n",
    "                rank=r,\n",
    "                whiten_input=w,\n",
    "            )\n",
    "            gmm.cuda()\n",
    "            gmm.m_step()\n",
    "\n",
    "            gmm.reassign(strat)\n",
    "            gmm.m_step()\n",
    "\n",
    "            subdir = figdir / f\"{name}_1\"\n",
    "            subdir.mkdir(exist_ok=True)\n",
    "            makeplots(0, subdir, gmm, n_jobs=4, with_summaries=True, with_dpcs=True)\n",
    "\n",
    "            gmm.reassign(strat)\n",
    "            gmm.m_step()\n",
    "\n",
    "            subdir = figdir / f\"{name}_2\"\n",
    "            subdir.mkdir(exist_ok=True)\n",
    "            makeplots(0, subdir, gmm, n_jobs=4, with_summaries=True, with_dpcs=True)"
   ]
  },
  {
   "cell_type": "code",
   "execution_count": null,
   "id": "0c134b72-3179-4eaf-b7c5-a03d50c1bc78",
   "metadata": {},
   "outputs": [],
   "source": []
  },
  {
   "cell_type": "code",
   "execution_count": null,
   "id": "ad61becc-6ccb-4e03-83ac-f9087362fa73",
   "metadata": {
    "tags": []
   },
   "outputs": [],
   "source": [
    "1"
   ]
  },
  {
   "cell_type": "code",
   "execution_count": null,
   "id": "1c04a0f7-a9be-42c8-960f-56989088952b",
   "metadata": {
    "tags": []
   },
   "outputs": [],
   "source": [
    "gmm.reassign(\"likelihood\")"
   ]
  },
  {
   "cell_type": "code",
   "execution_count": null,
   "id": "d0d2d729-51fd-45dd-84ef-e6e93b38bb23",
   "metadata": {
    "tags": []
   },
   "outputs": [],
   "source": [
    "gmm.labels.shape"
   ]
  },
  {
   "cell_type": "code",
   "execution_count": null,
   "id": "8fdfd3d1-b2dd-49c7-a954-67a7ca2b293d",
   "metadata": {
    "tags": []
   },
   "outputs": [],
   "source": [
    "gmm.unit_ids()"
   ]
  },
  {
   "cell_type": "code",
   "execution_count": null,
   "id": "86433b02-adee-43bc-9c9f-ee8e11fa02ca",
   "metadata": {
    "tags": []
   },
   "outputs": [],
   "source": [
    "gmm.min_unit_size"
   ]
  },
  {
   "cell_type": "code",
   "execution_count": null,
   "id": "64a50677-6578-4186-995d-31de36403f43",
   "metadata": {
    "scrolled": true,
    "tags": []
   },
   "outputs": [],
   "source": [
    "dpcvis(gmm)"
   ]
  },
  {
   "cell_type": "code",
   "execution_count": null,
   "id": "fa075a9e-0c36-4e69-b7a4-e19ebacf7653",
   "metadata": {
    "tags": []
   },
   "outputs": [],
   "source": [
    "subdir = figdir / f\"split_loglikreas_rank5\"\n",
    "subdir.mkdir(exist_ok=True)\n",
    "makeplots(0, subdir, gmm, n_jobs=4, with_summaries=True, with_dpcs=False)"
   ]
  },
  {
   "cell_type": "code",
   "execution_count": null,
   "id": "3ad0e0f0-5cd9-43e6-a523-221e8c8b8b57",
   "metadata": {
    "tags": []
   },
   "outputs": [],
   "source": [
    "gmm.m_step()"
   ]
  },
  {
   "cell_type": "code",
   "execution_count": null,
   "id": "8b8e2d9b-e9a7-4ea9-b6e3-b2ae7222b525",
   "metadata": {
    "tags": []
   },
   "outputs": [],
   "source": [
    "gmm.reassign(\"likelihood\")"
   ]
  },
  {
   "cell_type": "code",
   "execution_count": null,
   "id": "3ba29f92-ba30-4692-9c6c-496988d9d3a2",
   "metadata": {
    "tags": []
   },
   "outputs": [],
   "source": [
    "gmm.unit_ids()"
   ]
  },
  {
   "cell_type": "code",
   "execution_count": null,
   "id": "fe298dac-f860-4bab-b463-2324253374be",
   "metadata": {
    "tags": []
   },
   "outputs": [],
   "source": [
    "gmm.m_step()"
   ]
  },
  {
   "cell_type": "code",
   "execution_count": null,
   "id": "20b0d79a-0c6b-4311-a105-7bbb3d1abd87",
   "metadata": {
    "tags": []
   },
   "outputs": [],
   "source": [
    "subdir = figdir / f\"split_loglikreas2_rank5\"\n",
    "subdir.mkdir(exist_ok=True)\n",
    "makeplots(0, subdir, gmm, n_jobs=4, with_summaries=True, with_dpcs=True)"
   ]
  },
  {
   "cell_type": "code",
   "execution_count": null,
   "id": "0bf0a6e2-9576-4c5f-aeed-cd11a1eed746",
   "metadata": {
    "tags": []
   },
   "outputs": [],
   "source": [
    "gmm.reassign(\"likelihood\")\n",
    "gmm.m_step()"
   ]
  },
  {
   "cell_type": "code",
   "execution_count": null,
   "id": "9d16aab2-f29c-47a2-9e01-debfb3d727ad",
   "metadata": {
    "tags": []
   },
   "outputs": [],
   "source": [
    "subdir = figdir / f\"split_loglikreas3_rank5\"\n",
    "subdir.mkdir(exist_ok=True)\n",
    "makeplots(0, subdir, gmm, n_jobs=4, with_summaries=True, with_dpcs=True)"
   ]
  },
  {
   "cell_type": "code",
   "execution_count": null,
   "id": "9060b8c9-3643-4bed-8e7e-2b1db3c859bb",
   "metadata": {
    "tags": []
   },
   "outputs": [],
   "source": [
    "gmm.chis"
   ]
  },
  {
   "cell_type": "code",
   "execution_count": null,
   "id": "d562d823-a405-4914-93cf-8fc0730ac087",
   "metadata": {
    "tags": []
   },
   "outputs": [],
   "source": [
    "gmm.reassign(\"likelihood\")"
   ]
  },
  {
   "cell_type": "code",
   "execution_count": null,
   "id": "611da853-e71b-4c72-bb3d-f30445306feb",
   "metadata": {
    "tags": []
   },
   "outputs": [],
   "source": [
    "gmm.chis"
   ]
  },
  {
   "cell_type": "code",
   "execution_count": null,
   "id": "c71e4fcd-4645-4170-b9c8-b6b0dfba6d51",
   "metadata": {
    "tags": []
   },
   "outputs": [],
   "source": [
    "for i in range(gmm.chis.shape[0]):\n",
    "    row = gmm.chis[[i]]\n",
    "    plt.figure(figsize=(2, 1))\n",
    "    plt.hist(row.data, bins=32);\n",
    "    plt.axvline(1)\n",
    "    plt.show()\n",
    "    plt.close('all')\n",
    "\n",
    "    plt.figure(figsize=(2, 1))\n",
    "    plt.hist(row.data, bins=32);\n",
    "    plt.axvline(5)\n",
    "    plt.show()\n",
    "    plt.close('all')\n",
    "    \n",
    "    \n",
    "    dpcvis(gmm, unit_ids=[i])"
   ]
  },
  {
   "cell_type": "code",
   "execution_count": null,
   "id": "24bceaaf-ebf6-460f-a4ac-442c561f3a22",
   "metadata": {
    "tags": []
   },
   "outputs": [],
   "source": [
    "gmm.chis[[0]].data.shape"
   ]
  },
  {
   "cell_type": "code",
   "execution_count": null,
   "id": "c4d0b359-83dc-43d5-8186-bde8a3b6c9c7",
   "metadata": {},
   "outputs": [],
   "source": []
  },
  {
   "cell_type": "code",
   "execution_count": null,
   "id": "0fd4e9c9-790e-4183-a8d6-3cd4e1bdd8e9",
   "metadata": {},
   "outputs": [],
   "source": []
  },
  {
   "cell_type": "code",
   "execution_count": null,
   "id": "575a2fc1-f16e-4476-a3b3-00812649a4ae",
   "metadata": {},
   "outputs": [],
   "source": [
    "for _ in range(7):\n",
    "    gmm.reassign(\"likelihood\")\n",
    "    gmm.m_step()"
   ]
  },
  {
   "cell_type": "code",
   "execution_count": null,
   "id": "cd8f613a-0b0f-473a-9b03-fcf5b231fc50",
   "metadata": {},
   "outputs": [],
   "source": []
  },
  {
   "cell_type": "code",
   "execution_count": null,
   "id": "06daad11-0905-46ee-8830-a0928d839058",
   "metadata": {},
   "outputs": [],
   "source": []
  },
  {
   "cell_type": "code",
   "execution_count": null,
   "id": "2d1ba9d4-ce4f-41bd-8033-b6a9023d0cab",
   "metadata": {
    "tags": []
   },
   "outputs": [],
   "source": [
    "chis"
   ]
  },
  {
   "cell_type": "code",
   "execution_count": null,
   "id": "5d9b2b9a-69b5-49b0-bb58-f81bef4040eb",
   "metadata": {
    "tags": []
   },
   "outputs": [],
   "source": [
    "logliks"
   ]
  },
  {
   "cell_type": "code",
   "execution_count": null,
   "id": "4646ce8e-17da-4ead-95aa-9c490a22fdfb",
   "metadata": {
    "tags": []
   },
   "outputs": [],
   "source": [
    "mahals"
   ]
  },
  {
   "cell_type": "code",
   "execution_count": null,
   "id": "264ce715-3f17-42c5-9fbd-a4c6146bfbc1",
   "metadata": {
    "tags": []
   },
   "outputs": [],
   "source": [
    "(mahals >= 0).all(0).mean()"
   ]
  },
  {
   "cell_type": "code",
   "execution_count": null,
   "id": "740d0930-6a82-42b3-aa6e-3dd45165c5d2",
   "metadata": {
    "tags": []
   },
   "outputs": [],
   "source": [
    "(np.isfinite(mahals).sum(0) == 0).sum()"
   ]
  },
  {
   "cell_type": "code",
   "execution_count": null,
   "id": "798befe5-0442-4a7f-bb9f-95b529685345",
   "metadata": {},
   "outputs": [],
   "source": [
    "logliks"
   ]
  },
  {
   "cell_type": "code",
   "execution_count": null,
   "id": "680501a6-9ff6-44f5-a223-82b61b1b2b67",
   "metadata": {
    "tags": []
   },
   "outputs": [],
   "source": [
    "mahals, logliks, chis"
   ]
  },
  {
   "cell_type": "code",
   "execution_count": null,
   "id": "f1c920f5-bc8e-423f-9f22-920a62983faa",
   "metadata": {
    "tags": []
   },
   "outputs": [],
   "source": [
    "logliks.nnz"
   ]
  },
  {
   "cell_type": "code",
   "execution_count": null,
   "id": "677cfa70-e3a4-4ef4-848e-7a6d568e1766",
   "metadata": {
    "tags": []
   },
   "outputs": [],
   "source": [
    "mahals.nnz"
   ]
  },
  {
   "cell_type": "code",
   "execution_count": null,
   "id": "667b4bb6-f616-44b0-a08e-733de5a6d1b5",
   "metadata": {
    "tags": []
   },
   "outputs": [],
   "source": [
    "mahals.data"
   ]
  },
  {
   "cell_type": "code",
   "execution_count": null,
   "id": "aec51dd5-2b87-4046-8af2-6d3ba4e8129a",
   "metadata": {},
   "outputs": [],
   "source": []
  },
  {
   "cell_type": "code",
   "execution_count": null,
   "id": "00753d3c-59e1-4a27-8af0-617b6551e0ca",
   "metadata": {
    "tags": []
   },
   "outputs": [],
   "source": [
    "logliks = logliks.tocsc()"
   ]
  },
  {
   "cell_type": "code",
   "execution_count": null,
   "id": "0bfc96f1-ce5c-4e81-a6af-cba00884ba8d",
   "metadata": {
    "tags": []
   },
   "outputs": [],
   "source": [
    "mahals = mahals.tocsc()"
   ]
  },
  {
   "cell_type": "code",
   "execution_count": null,
   "id": "114b937c-479a-4d48-8974-b20fdfa1a381",
   "metadata": {},
   "outputs": [],
   "source": []
  },
  {
   "cell_type": "code",
   "execution_count": null,
   "id": "7f47b732-a71b-4315-8390-74b8805c8ee4",
   "metadata": {},
   "outputs": [],
   "source": []
  },
  {
   "cell_type": "code",
   "execution_count": null,
   "id": "754a940e-4b27-4be9-808e-4e77b68d92f7",
   "metadata": {
    "tags": []
   },
   "outputs": [],
   "source": [
    "np.flatnonzero((gmm.train_spike_indices >= 0).sum(1) == 8192)"
   ]
  },
  {
   "cell_type": "code",
   "execution_count": null,
   "id": "009e9be8-f94e-410e-99e3-fa1589ace828",
   "metadata": {
    "lines_to_next_cell": 2,
    "tags": []
   },
   "outputs": [],
   "source": [
    "valid = gmm.train_spike_indices[0] >= 0"
   ]
  },
  {
   "cell_type": "code",
   "execution_count": null,
   "id": "1a2286f0-6be4-4499-b81d-89884f149c6c",
   "metadata": {
    "tags": []
   },
   "outputs": [],
   "source": [
    "gmm.train_loadings[0, valid].shape"
   ]
  },
  {
   "cell_type": "code",
   "execution_count": null,
   "id": "008b426c-1c7b-43be-9c52-564e2b94367a",
   "metadata": {
    "tags": []
   },
   "outputs": [],
   "source": [
    "gmm.train_loadings[0, valid].var(0)"
   ]
  },
  {
   "cell_type": "code",
   "execution_count": null,
   "id": "d47f35e4-3b23-40ee-8aba-44351d65e620",
   "metadata": {
    "tags": []
   },
   "outputs": [],
   "source": [
    "gmm.train_loadings[0, valid].std(0)"
   ]
  },
  {
   "cell_type": "code",
   "execution_count": null,
   "id": "8447e331-b8dd-4034-937f-5a3331509a97",
   "metadata": {
    "tags": []
   },
   "outputs": [],
   "source": [
    "gmm.svs[0]"
   ]
  },
  {
   "cell_type": "code",
   "execution_count": null,
   "id": "ef0b2aaa-a15a-4b66-840d-a178243a5796",
   "metadata": {
    "tags": []
   },
   "outputs": [],
   "source": [
    "gmm.svs[0] ** 2 / 8192"
   ]
  },
  {
   "cell_type": "code",
   "execution_count": null,
   "id": "ae156654-86d8-443f-a81e-dc82fa50c4d1",
   "metadata": {
    "tags": []
   },
   "outputs": [],
   "source": [
    "gmm.svs[0] ** 2 / valid.sum()"
   ]
  },
  {
   "cell_type": "code",
   "execution_count": null,
   "id": "92686d9a-f0fb-4d5a-acb2-b55025624cb3",
   "metadata": {
    "tags": []
   },
   "outputs": [],
   "source": [
    "gmm.svs[0] / np.sqrt(valid.sum())"
   ]
  },
  {
   "cell_type": "code",
   "execution_count": null,
   "id": "971b2fc8-2888-4c1e-957b-2a5c64b235a2",
   "metadata": {},
   "outputs": [],
   "source": []
  },
  {
   "cell_type": "code",
   "execution_count": null,
   "id": "3ee246a1-381e-4122-9cf2-247cd31c47ae",
   "metadata": {},
   "outputs": [],
   "source": []
  },
  {
   "cell_type": "code",
   "execution_count": null,
   "id": "d9882b18-3733-439c-8fc7-429d740eea8b",
   "metadata": {},
   "outputs": [],
   "source": []
  },
  {
   "cell_type": "code",
   "execution_count": null,
   "id": "35414f50-d8dd-47b3-89f5-fe074c251edf",
   "metadata": {},
   "outputs": [],
   "source": []
  },
  {
   "cell_type": "code",
   "execution_count": null,
   "id": "2e7da85f-7d32-4b68-bcbc-d7d7345c69ad",
   "metadata": {
    "tags": []
   },
   "outputs": [],
   "source": [
    "for rank in (2, 5):\n",
    "    gmm = spike_basic.BasicSpikePCAClusterer(\n",
    "        chunk11_dpc,\n",
    "        motion_est=motion_est,\n",
    "        centered=True,\n",
    "        rank=rank,\n",
    "        in_memory=True,\n",
    "    )\n",
    "\n",
    "    gmm.cuda()\n",
    "\n",
    "    gmm.m_step()\n",
    "\n",
    "    # dpcvis(gmm)\n",
    "\n",
    "    gmm.dpc_split()\n",
    "\n",
    "    for i in trange(15):\n",
    "        # gmm.reassign(kind=\"centroid\")\n",
    "        gmm.reassign(kind=\"reconstruction\")\n",
    "        gmm.m_step()\n",
    "\n",
    "    # dpcvis(gmm)\n",
    "\n",
    "    subdir = figdir / f\"split_recon{rank}em15\"\n",
    "    subdir.mkdir(exist_ok=True)\n",
    "    makeplots(0, subdir, gmm, n_jobs=4, with_summaries=True, with_dpcs=True)"
   ]
  },
  {
   "cell_type": "code",
   "execution_count": null,
   "id": "ebe7dd96-4c94-4db5-bff8-f33f14682d17",
   "metadata": {},
   "outputs": [],
   "source": []
  },
  {
   "cell_type": "code",
   "execution_count": null,
   "id": "c54d72fd-df2c-490a-90a3-37df63e53f69",
   "metadata": {},
   "outputs": [],
   "source": []
  },
  {
   "cell_type": "code",
   "execution_count": null,
   "id": "f14fe633-5951-4c10-8cab-d9a518fd131f",
   "metadata": {},
   "outputs": [],
   "source": []
  },
  {
   "cell_type": "code",
   "execution_count": null,
   "id": "0df984a5-1c8c-45ff-bc15-21bf6758ede8",
   "metadata": {},
   "outputs": [],
   "source": []
  },
  {
   "cell_type": "code",
   "execution_count": null,
   "id": "adf2075e-ce13-4684-98c4-6dcbf8a15ecb",
   "metadata": {
    "tags": []
   },
   "outputs": [],
   "source": [
    "gmm.dpc_split()\n",
    "gmm.reassign()\n",
    "gmm.m_step()\n",
    "gmm.reassign()\n",
    "gmm.m_step()"
   ]
  },
  {
   "cell_type": "code",
   "execution_count": null,
   "id": "51e67ba2-97cc-4da6-94c7-3dacbddd5a87",
   "metadata": {
    "scrolled": true,
    "tags": []
   },
   "outputs": [],
   "source": [
    "dpcvis(gmm)"
   ]
  },
  {
   "cell_type": "code",
   "execution_count": null,
   "id": "3735dd01-b843-423c-b8ba-516f16f17a8a",
   "metadata": {
    "tags": []
   },
   "outputs": [],
   "source": [
    "gmm.dpc_split()"
   ]
  },
  {
   "cell_type": "code",
   "execution_count": null,
   "id": "775eaec0-10d6-4ef1-a154-4afe8e5a7e0c",
   "metadata": {
    "scrolled": true,
    "tags": []
   },
   "outputs": [],
   "source": [
    "dpcvis(gmm, multi_only=True)"
   ]
  },
  {
   "cell_type": "code",
   "execution_count": null,
   "id": "c116cdda-6444-471d-9041-539330925911",
   "metadata": {
    "tags": []
   },
   "outputs": [],
   "source": [
    "errs, nobs = gmm.calc_errors(kind=\"centroid\")"
   ]
  },
  {
   "cell_type": "code",
   "execution_count": null,
   "id": "b22efbf1-3d42-4d0b-adbc-78211fdd6cec",
   "metadata": {
    "tags": []
   },
   "outputs": [],
   "source": [
    "has_match = np.isfinite(errs).any(0)\n",
    "new_labels = np.where(\n",
    "    has_match,\n",
    "    errs.argmin(0),\n",
    "    -1,\n",
    ")"
   ]
  },
  {
   "cell_type": "code",
   "execution_count": null,
   "id": "eb38bf20-887d-4e7e-b68a-85888122423f",
   "metadata": {
    "scrolled": true,
    "tags": []
   },
   "outputs": [],
   "source": [
    "labels2 = np.full_like(chunk11_dpc.labels, -1)\n",
    "labels2[gmm.data.keepers] = new_labels\n",
    "gmm2 = spike_basic.BasicSpikePCAClusterer(\n",
    "    dataclasses.replace(chunk11_dpc, labels=labels2),\n",
    "    motion_est=motion_est,\n",
    "    centered=True,\n",
    "    rank=2,\n",
    "    in_memory=True,\n",
    ")\n",
    "gmm2.m_step()"
   ]
  },
  {
   "cell_type": "code",
   "execution_count": null,
   "id": "072106be-2265-40b7-b1c0-8a7f38d8e600",
   "metadata": {
    "scrolled": true,
    "tags": []
   },
   "outputs": [],
   "source": [
    "dpcvis(gmm2, multi_only=True)"
   ]
  },
  {
   "cell_type": "code",
   "execution_count": null,
   "id": "6cf99b9c-67b5-4235-ab9d-8ce6320c26ff",
   "metadata": {
    "tags": []
   },
   "outputs": [],
   "source": [
    "# unit 1 is a multi. let's figure it out."
   ]
  },
  {
   "cell_type": "code",
   "execution_count": null,
   "id": "59b49977-e607-4761-bc60-9f3b94bb72b0",
   "metadata": {
    "tags": []
   },
   "outputs": [],
   "source": [
    "inds = np.flatnonzero(gmm2.labels == 75)\n",
    "inds[:5]"
   ]
  },
  {
   "cell_type": "code",
   "execution_count": null,
   "id": "dc7db694-afab-4cb2-9282-7ff0d764700d",
   "metadata": {
    "tags": []
   },
   "outputs": [],
   "source": [
    "np.unique(gmm.labels[inds], return_counts=True)"
   ]
  },
  {
   "cell_type": "code",
   "execution_count": null,
   "id": "34f7551c-1f00-4bc8-b7f2-b132fd09ef6e",
   "metadata": {
    "tags": []
   },
   "outputs": [],
   "source": [
    "gmm2.reassign()\n",
    "gmm2.m_step()\n",
    "gmm2.reassign()\n",
    "gmm2.m_step()"
   ]
  },
  {
   "cell_type": "code",
   "execution_count": null,
   "id": "16cf1d5e-5232-4c1f-98d6-477d860a38df",
   "metadata": {
    "tags": []
   },
   "outputs": [],
   "source": [
    "dpcvis(gmm2, multi_only=True)"
   ]
  },
  {
   "cell_type": "code",
   "execution_count": null,
   "id": "7de46368-d896-4035-89a3-1a6c70ac4d40",
   "metadata": {},
   "outputs": [],
   "source": []
  },
  {
   "cell_type": "code",
   "execution_count": null,
   "id": "cb13e0a6-886d-414e-9364-804b2dc51a81",
   "metadata": {},
   "outputs": [],
   "source": []
  },
  {
   "cell_type": "code",
   "execution_count": null,
   "id": "ebc0c03d-3429-4df0-b4af-2878685a4759",
   "metadata": {},
   "outputs": [],
   "source": []
  },
  {
   "cell_type": "code",
   "execution_count": null,
   "id": "31b8dcd8-4662-4175-ac96-50f5d5eb8b8b",
   "metadata": {
    "tags": []
   },
   "outputs": [],
   "source": [
    "mask = np.zeros(chunk11_dpc.labels.shape, dtype=bool)\n",
    "mask[gmm.data.keepers] = 1"
   ]
  },
  {
   "cell_type": "code",
   "execution_count": null,
   "id": "3810d0fd-313f-4831-87a5-bab5878d708f",
   "metadata": {
    "tags": []
   },
   "outputs": [],
   "source": [
    "h5_path = chunk11_dpc.parent_h5_path"
   ]
  },
  {
   "cell_type": "code",
   "execution_count": null,
   "id": "4915d6e4-3261-4703-9488-a69783f02d25",
   "metadata": {
    "tags": []
   },
   "outputs": [],
   "source": [
    "dataset_name = \"collisioncleaned_tpca_features\""
   ]
  },
  {
   "cell_type": "code",
   "execution_count": null,
   "id": "bd0b5108-c9e7-4bee-9294-bdb67954f72e",
   "metadata": {},
   "outputs": [],
   "source": []
  },
  {
   "cell_type": "code",
   "execution_count": null,
   "id": "005952ef-2594-4d2e-915c-aeac66d0cbd7",
   "metadata": {
    "tags": []
   },
   "outputs": [],
   "source": [
    "def _read_by_chunk(mask, dataset):\n",
    "    \"\"\"\n",
    "    mask : boolean array of shape dataset.shape[:1]\n",
    "    dataset : chunked h5py.Dataset\n",
    "    \"\"\"\n",
    "    out = np.empty((mask.sum(), *dataset.shape[1:]), dtype=dataset.dtype)\n",
    "    n = 0\n",
    "    for sli, *_ in dataset.iter_chunks():\n",
    "        m = np.flatnonzero(mask[sli])\n",
    "        nm = m.size\n",
    "        if not nm:\n",
    "            continue\n",
    "        x = dataset[sli][m]\n",
    "        out[n : n + nm] = x\n",
    "        n += nm\n",
    "    return out"
   ]
  },
  {
   "cell_type": "code",
   "execution_count": null,
   "id": "f55908d3-2421-4a2b-840d-68e587222478",
   "metadata": {
    "tags": []
   },
   "outputs": [],
   "source": [
    "def _read_by_chunk2(mask, dataset, axis=0):\n",
    "    \"\"\"\n",
    "    mask : boolean array of shape (dataset.shape[axis],)\n",
    "    dataset : chunked h5py.Dataset\n",
    "    \"\"\"\n",
    "    out_shape = list(dataset.shape)\n",
    "    out_shape[axis] = mask.sum()\n",
    "    out = np.empty(out_shape, dtype=dataset.dtype)\n",
    "    src_ix = [slice(None)] * dataset.ndim\n",
    "    n = 0\n",
    "    for slice_tuple in dataset.iter_chunks():\n",
    "        ax_slice = slice_tuple[axis]\n",
    "        m = np.flatnonzero(mask[ax_slice])\n",
    "        nm = m.size\n",
    "        if not nm:\n",
    "            continue\n",
    "        src_ix[axis] = m\n",
    "        x = dataset[slice_tuple][tuple(src_ix)]\n",
    "        dest_ix = (*slice_tuple[:axis], slice(n, n + nm), *slice_tuple[axis + 1 :])\n",
    "        out[dest_ix] = x\n",
    "        n += nm\n",
    "    return out"
   ]
  },
  {
   "cell_type": "code",
   "execution_count": null,
   "id": "04ce30eb-a043-41d5-9290-ae726dd7e004",
   "metadata": {
    "tags": []
   },
   "outputs": [],
   "source": [
    "mask.shape, mask.sum(), mask.mean()"
   ]
  },
  {
   "cell_type": "code",
   "execution_count": null,
   "id": "845a4e23-d9f9-4a93-93e0-0cd64f3603c4",
   "metadata": {
    "tags": []
   },
   "outputs": [],
   "source": [
    "indices = np.flatnonzero(mask)"
   ]
  },
  {
   "cell_type": "code",
   "execution_count": null,
   "id": "9954d4ce-d9cd-4400-9623-159e8b0e4d4a",
   "metadata": {
    "tags": []
   },
   "outputs": [],
   "source": [
    "with h5py.File(h5_path, \"r\", locking=False) as h5:\n",
    "    print(h5[dataset_name].shape)\n",
    "    print(h5[dataset_name].chunks)"
   ]
  },
  {
   "cell_type": "code",
   "execution_count": null,
   "id": "ee406b3a-b932-4e07-908a-6a1482a4f4f4",
   "metadata": {
    "tags": []
   },
   "outputs": [],
   "source": [
    "# %%timeit\n",
    "with h5py.File(h5_path, \"r\", locking=False) as h5:\n",
    "    x = _read_by_chunk(mask, h5[dataset_name])\n",
    "    y = _read_by_chunk2(mask, h5[dataset_name])"
   ]
  },
  {
   "cell_type": "code",
   "execution_count": null,
   "id": "ab6386f4-bd8a-4f50-9349-4b0f4a4d569e",
   "metadata": {
    "tags": []
   },
   "outputs": [],
   "source": [
    "np.array_equal(x, y)"
   ]
  },
  {
   "cell_type": "code",
   "execution_count": null,
   "id": "c7bf1c7e-8917-4c1c-99a3-ddc9d7e0e42d",
   "metadata": {
    "tags": []
   },
   "outputs": [],
   "source": [
    "x.shape"
   ]
  },
  {
   "cell_type": "code",
   "execution_count": null,
   "id": "18fb38d1-9217-427e-b69d-e32b30692f01",
   "metadata": {
    "tags": []
   },
   "outputs": [],
   "source": [
    "y.shape"
   ]
  },
  {
   "cell_type": "code",
   "execution_count": null,
   "id": "b24011ca-a680-4bb7-9239-d0e3f26018b3",
   "metadata": {
    "tags": []
   },
   "outputs": [],
   "source": [
    "(x != y).mean()"
   ]
  },
  {
   "cell_type": "code",
   "execution_count": null,
   "id": "727ad40c-cb5c-410f-82d8-ecd748babb70",
   "metadata": {},
   "outputs": [],
   "source": []
  },
  {
   "cell_type": "code",
   "execution_count": null,
   "id": "01b6f4cd-8581-4091-8048-aa67d2749cc3",
   "metadata": {
    "tags": []
   },
   "outputs": [],
   "source": [
    "%%timeit\n",
    "with h5py.File(h5_path, \"r\", locking=False) as h5:\n",
    "    x = h5[dataset_name][indices]"
   ]
  },
  {
   "cell_type": "code",
   "execution_count": null,
   "id": "0ac347d1-0931-461e-9623-5ff377ba521d",
   "metadata": {
    "tags": []
   },
   "outputs": [],
   "source": [
    "%%timeit\n",
    "with h5py.File(h5_path, \"r\", locking=False) as h5:\n",
    "    x = h5[dataset_name][:][indices]"
   ]
  },
  {
   "cell_type": "code",
   "execution_count": null,
   "id": "bb4c80ee-6d9d-4d02-bcfe-5f526fe460f4",
   "metadata": {
    "tags": []
   },
   "outputs": [],
   "source": [
    "%%timeit\n",
    "with h5py.File(h5_path, \"r\", locking=False) as h5:\n",
    "    out = np.empty((indices.size, *h5[dataset_name].shape[1:]), dtype=h5[dataset_name].dtype)\n",
    "    for i in range(0, len(indices), 128):\n",
    "        out[i:i+128] = h5[dataset_name][indices[i:i+128]]"
   ]
  },
  {
   "cell_type": "code",
   "execution_count": null,
   "id": "b1773675-fdc2-4c70-a70e-8748e7ba160f",
   "metadata": {
    "tags": []
   },
   "outputs": [],
   "source": [
    "h5_path"
   ]
  },
  {
   "cell_type": "code",
   "execution_count": null,
   "id": "427c4d8e-99b4-4934-ab97-e74b69e782c1",
   "metadata": {},
   "outputs": [],
   "source": []
  },
  {
   "cell_type": "code",
   "execution_count": null,
   "id": "653afaf7-7a10-4520-91da-c284d07d59bb",
   "metadata": {
    "tags": []
   },
   "outputs": [],
   "source": [
    "subdir = figdir / f\"ppp_split\"\n",
    "subdir.mkdir(exist_ok=True)\n",
    "makeplots(0, subdir, gmm, n_jobs=4, with_summaries=True, with_dpcs=True)"
   ]
  },
  {
   "cell_type": "code",
   "execution_count": null,
   "id": "bdf700bc-bc6b-444c-b9c8-fae88cd597c0",
   "metadata": {
    "tags": []
   },
   "outputs": [],
   "source": [
    "gmm.reassign()\n",
    "gmm.m_step()\n",
    "gmm.reassign()\n",
    "gmm.m_step()"
   ]
  },
  {
   "cell_type": "code",
   "execution_count": null,
   "id": "f5801849-a3d7-4bf2-8a14-7f79af4d43cd",
   "metadata": {
    "tags": []
   },
   "outputs": [],
   "source": [
    "subdir = figdir / f\"ppp_splitem\"\n",
    "subdir.mkdir(exist_ok=True)\n",
    "makeplots(0, subdir, gmm, n_jobs=4, with_summaries=True, with_dpcs=True)"
   ]
  },
  {
   "cell_type": "code",
   "execution_count": null,
   "id": "c64039c3-5f06-4189-b4bd-076248f15b99",
   "metadata": {},
   "outputs": [],
   "source": [
    "plt.imshow(gmm.mean[50].reshape(8,-1), cmap=plt.cm.bwr, vmin=-gmm.mean[10].abs().max(), vmax=gmm.mean[10].abs().max())"
   ]
  },
  {
   "cell_type": "code",
   "execution_count": null,
   "id": "71e35ebc-0c91-4687-8e60-c3cda8a497c0",
   "metadata": {},
   "outputs": [],
   "source": [
    "gmm.cpu()\n",
    "import gc; gc.collect(); torch.cuda.empty_cache()"
   ]
  },
  {
   "cell_type": "code",
   "execution_count": null,
   "id": "72ae8412-1f69-408a-b5cf-59b86df2ad1c",
   "metadata": {
    "tags": []
   },
   "outputs": [],
   "source": [
    "subdir = figdir / f\"uuy_sreas\"\n",
    "if subdir.exists():\n",
    "    import shutil; shutil.rmtree(subdir)\n",
    "subdir.mkdir(exist_ok=True)\n",
    "makeplots(0, subdir, gmm, n_jobs=4, with_summaries=True, with_dpcs=True)"
   ]
  },
  {
   "cell_type": "code",
   "execution_count": null,
   "id": "311c1b4f-a892-4538-864e-70c4b8f5cb66",
   "metadata": {},
   "outputs": [],
   "source": [
    "gmm.cuda()"
   ]
  },
  {
   "cell_type": "code",
   "execution_count": null,
   "id": "a9d6cf99-2200-4b5a-9712-734b7f27df65",
   "metadata": {},
   "outputs": [],
   "source": [
    "max_err, cdist, nobs = gmm.calc_errors(sparse=True)"
   ]
  },
  {
   "cell_type": "code",
   "execution_count": null,
   "id": "11c3cf85-66db-4920-9ab8-f04812ac36cc",
   "metadata": {
    "tags": []
   },
   "outputs": [],
   "source": [
    "cdist.data.max(), cdist.data.min()"
   ]
  },
  {
   "cell_type": "code",
   "execution_count": null,
   "id": "1a0cd187-3f98-45dd-8e51-1b41ee4adf99",
   "metadata": {
    "tags": []
   },
   "outputs": [],
   "source": [
    "nobs.data.max(), nobs.data.min()"
   ]
  },
  {
   "cell_type": "code",
   "execution_count": null,
   "id": "f8cb2f60-2c15-4aea-a086-ab4d0b9632e6",
   "metadata": {
    "tags": []
   },
   "outputs": [],
   "source": [
    "liks = cdist.copy()\n",
    "liks.data = np.exp(-liks.data / nobs.data)"
   ]
  },
  {
   "cell_type": "code",
   "execution_count": null,
   "id": "af982a6d-09cb-4697-b45b-7a6aba70ab52",
   "metadata": {
    "tags": []
   },
   "outputs": [],
   "source": [
    "liks.data.max(), liks.data.min()"
   ]
  },
  {
   "cell_type": "code",
   "execution_count": null,
   "id": "1686dfd0-c17d-4fc9-9e16-fbe8d6bdf0a2",
   "metadata": {
    "tags": []
   },
   "outputs": [],
   "source": [
    "cov = liks.dot(liks.transpose()).todense()"
   ]
  },
  {
   "cell_type": "code",
   "execution_count": null,
   "id": "0d778bef-c636-42f7-8a69-9fc07a1ea886",
   "metadata": {
    "tags": []
   },
   "outputs": [],
   "source": [
    "cov"
   ]
  },
  {
   "cell_type": "code",
   "execution_count": null,
   "id": "3125212e-d584-476e-86fb-9c8dc771b2b5",
   "metadata": {
    "tags": []
   },
   "outputs": [],
   "source": [
    "cov.shape"
   ]
  },
  {
   "cell_type": "code",
   "execution_count": null,
   "id": "0acda581-e151-4428-871f-7a154a672dc6",
   "metadata": {
    "tags": []
   },
   "outputs": [],
   "source": [
    "corr = np.diag(1/np.sqrt(np.diag(cov))) @ cov @ np.diag(1/np.sqrt(np.diag(cov)))"
   ]
  },
  {
   "cell_type": "code",
   "execution_count": null,
   "id": "0fa43039-19bf-4501-9656-af4abb1b7a2b",
   "metadata": {
    "tags": []
   },
   "outputs": [],
   "source": [
    "np.isclose(corr, corr.T).all()"
   ]
  },
  {
   "cell_type": "code",
   "execution_count": null,
   "id": "402d19e7-271a-4648-8b99-48d271504aae",
   "metadata": {
    "tags": []
   },
   "outputs": [],
   "source": [
    "plt.imshow(corr, interpolation=\"none\"); plt.colorbar()"
   ]
  },
  {
   "cell_type": "code",
   "execution_count": null,
   "id": "1325663b-8ca2-4c11-ad78-6f941e83f8a2",
   "metadata": {
    "tags": []
   },
   "outputs": [],
   "source": [
    "sns.clustermap(corr)"
   ]
  },
  {
   "cell_type": "code",
   "execution_count": null,
   "id": "0a0a7689-b1ef-4f81-aa99-4c06ede1b460",
   "metadata": {},
   "outputs": [],
   "source": [
    "# "
   ]
  },
  {
   "cell_type": "code",
   "execution_count": null,
   "id": "63252f30-0991-4fe3-a0d2-d4f72166c435",
   "metadata": {
    "scrolled": true,
    "tags": []
   },
   "outputs": [],
   "source": [
    "for uid in gmm.unit_ids():\n",
    "    print(uid)\n",
    "    z = gmm.train_loadings[uid]\n",
    "    in_unit = gmm.train_spike_indices[uid]\n",
    "    valid = np.flatnonzero(in_unit >= 0)\n",
    "    in_unit = in_unit[valid]\n",
    "    print(f\"{in_unit.shape=}\")\n",
    "    z = z[valid, :2]\n",
    "    dens = density.density_peaks_clustering(\n",
    "        z[:, :2],\n",
    "        sigma_local=\"rule_of_thumb\",\n",
    "        # sigma_regional=\"rule_of_thumb\",\n",
    "        n_neighbors_search=500,\n",
    "        return_extra=True,\n",
    "    )\n",
    "    if \"density\" not in dens:\n",
    "        print(\"Clustering threw everyone away\")\n",
    "        continue\n",
    "    ru = np.unique(dens[\"labels\"])\n",
    "    print(\"num units after split\", ru[ru >= 0].size)\n",
    "    fig, axes = dartvis.analysis_plots.density_peaks_study(z, dens, s=10)\n",
    "    plt.show()\n",
    "    plt.close(fig)"
   ]
  },
  {
   "cell_type": "code",
   "execution_count": null,
   "id": "994e9ed6-6977-421c-b519-49f18d19ee71",
   "metadata": {},
   "outputs": [],
   "source": [
    "errs = gmm.calc_reconstruction_errors()"
   ]
  },
  {
   "cell_type": "code",
   "execution_count": null,
   "id": "d7276093-e3f7-432f-a8a2-185e2c78eba0",
   "metadata": {
    "tags": []
   },
   "outputs": [],
   "source": [
    "errs"
   ]
  },
  {
   "cell_type": "code",
   "execution_count": null,
   "id": "67878e17-6b6c-4f7f-8f32-c1fde81d03b9",
   "metadata": {
    "tags": []
   },
   "outputs": [],
   "source": [
    "new_labels = errs.argmin(0)\n",
    "best_errs = np.take_along_axis(errs, new_labels[None], 0)[0]"
   ]
  },
  {
   "cell_type": "code",
   "execution_count": null,
   "id": "1c14745d-c742-4d26-92c9-62ee9f63baf7",
   "metadata": {
    "tags": []
   },
   "outputs": [],
   "source": [
    "new_labels"
   ]
  },
  {
   "cell_type": "code",
   "execution_count": null,
   "id": "9bc75e64-5544-4330-a57a-fc40518d1f41",
   "metadata": {
    "tags": []
   },
   "outputs": [],
   "source": [
    "u, c = np.unique(new_labels, return_counts=True)\n",
    "u, c"
   ]
  },
  {
   "cell_type": "code",
   "execution_count": null,
   "id": "692ca9fa-a054-412a-9ed1-1d993f8e482c",
   "metadata": {
    "tags": []
   },
   "outputs": [],
   "source": [
    "u.shape"
   ]
  },
  {
   "cell_type": "code",
   "execution_count": null,
   "id": "48836f87-2880-4351-ab8f-4e5c50d1174b",
   "metadata": {},
   "outputs": [],
   "source": []
  },
  {
   "cell_type": "code",
   "execution_count": null,
   "id": "9a1359fc-5479-4006-a911-25fcd300913a",
   "metadata": {},
   "outputs": [],
   "source": []
  },
  {
   "cell_type": "code",
   "execution_count": null,
   "id": "846d8efe-35f5-4e14-90d1-07f640bbe080",
   "metadata": {
    "tags": []
   },
   "outputs": [],
   "source": [
    "unit_ids = np.unique(new_labels)\n",
    "unit_ids = unit_ids[unit_ids >= 0]\n",
    "snrs = torch.zeros((unit_ids.size, gmm.data.n_reg_chans))\n",
    "for j, uid in enumerate(unit_ids):\n",
    "    avs = gmm.data.static_amp_vecs[gmm.labels == uid]\n",
    "    count = torch.sqrt(torch.isfinite(avs).sum(0))\n",
    "    snrs[j] = torch.nan_to_num(torch.nanmean(avs, dim=0)) * count"
   ]
  },
  {
   "cell_type": "code",
   "execution_count": null,
   "id": "592b1e90-4c04-415d-a5ca-0a02241a9812",
   "metadata": {
    "tags": []
   },
   "outputs": [],
   "source": [
    "snrs = gmm.unit_channel_snrs()"
   ]
  },
  {
   "cell_type": "code",
   "execution_count": null,
   "id": "4f1f4e73-4164-40f1-9b1e-a50d62fd083c",
   "metadata": {
    "tags": []
   },
   "outputs": [],
   "source": [
    "snrs.shape"
   ]
  },
  {
   "cell_type": "code",
   "execution_count": null,
   "id": "db06e121-773f-4a95-9d5d-38f816b23e53",
   "metadata": {
    "tags": []
   },
   "outputs": [],
   "source": [
    "unit_chans = snrs.argmax(1)"
   ]
  },
  {
   "cell_type": "code",
   "execution_count": null,
   "id": "12d0d8ef-79a2-4168-a61a-f54a7f1faa3e",
   "metadata": {},
   "outputs": [],
   "source": []
  },
  {
   "cell_type": "code",
   "execution_count": null,
   "id": "74642f5f-518b-44f4-b5b0-f9cc0d248501",
   "metadata": {
    "tags": []
   },
   "outputs": [],
   "source": [
    "best_errs"
   ]
  },
  {
   "cell_type": "code",
   "execution_count": null,
   "id": "3cd1ee6f-4c86-4a5f-a933-834ddd15ec84",
   "metadata": {
    "tags": []
   },
   "outputs": [],
   "source": [
    "new_labels[np.isinf(best_errs)] = -1"
   ]
  },
  {
   "cell_type": "code",
   "execution_count": null,
   "id": "e68714fa-d9e3-46e3-a96f-e74e5e1edada",
   "metadata": {
    "tags": []
   },
   "outputs": [],
   "source": [
    "new_labels"
   ]
  },
  {
   "cell_type": "code",
   "execution_count": null,
   "id": "563c7115-2c94-49aa-8ae4-e3d5288caf18",
   "metadata": {
    "tags": []
   },
   "outputs": [],
   "source": [
    "np.unique(new_labels)"
   ]
  },
  {
   "cell_type": "code",
   "execution_count": null,
   "id": "fbc3c10c-2b06-43b7-b5fc-47b450ebc4e4",
   "metadata": {
    "tags": []
   },
   "outputs": [],
   "source": [
    "np.unique(new_labels).size"
   ]
  },
  {
   "cell_type": "code",
   "execution_count": null,
   "id": "5fcf2abc-0419-4234-b307-55ab52339e6d",
   "metadata": {
    "tags": []
   },
   "outputs": [],
   "source": [
    "np.mean(new_labels == gmm.labels)"
   ]
  },
  {
   "cell_type": "code",
   "execution_count": null,
   "id": "18f65cac-d451-4c85-a290-94e934ae567e",
   "metadata": {
    "tags": []
   },
   "outputs": [],
   "source": [
    "np.flatnonzero((new_labels != gmm.labels) & (new_labels >= 0))"
   ]
  },
  {
   "cell_type": "code",
   "execution_count": null,
   "id": "76bb15bf-a5e7-4b24-9a77-e52b00f2b05d",
   "metadata": {},
   "outputs": [],
   "source": []
  },
  {
   "cell_type": "code",
   "execution_count": null,
   "id": "1cb3e8b1-1375-4f00-a3f6-eddf9e0d53ca",
   "metadata": {},
   "outputs": [],
   "source": []
  },
  {
   "cell_type": "code",
   "execution_count": null,
   "id": "8c805213-6422-43f6-8fa8-6be08567bba3",
   "metadata": {
    "tags": []
   },
   "outputs": [],
   "source": [
    "new_labels[1]"
   ]
  },
  {
   "cell_type": "code",
   "execution_count": null,
   "id": "43db187c-481b-4bef-b943-f3549cbf9811",
   "metadata": {
    "tags": []
   },
   "outputs": [],
   "source": [
    "gmm.labels[1]"
   ]
  },
  {
   "cell_type": "code",
   "execution_count": null,
   "id": "43d41062-cf45-47a4-b2fb-c1db2945c7b5",
   "metadata": {
    "tags": []
   },
   "outputs": [],
   "source": [
    "gmm.cpu()"
   ]
  },
  {
   "cell_type": "code",
   "execution_count": null,
   "id": "ab22c0f0-fe65-41ca-b730-56f2b51afcd0",
   "metadata": {
    "tags": []
   },
   "outputs": [],
   "source": [
    "unit_chans[[23, 90]]"
   ]
  },
  {
   "cell_type": "code",
   "execution_count": null,
   "id": "2433de38-8560-40ea-b9a7-4448e4c49c03",
   "metadata": {
    "tags": []
   },
   "outputs": [],
   "source": [
    "gmm.data.spike_static_channels[1]"
   ]
  },
  {
   "cell_type": "code",
   "execution_count": null,
   "id": "662ab46b-8897-4660-b47d-f6da290c8a59",
   "metadata": {
    "tags": []
   },
   "outputs": [],
   "source": [
    "ikw = dict(vmax=10, vmin=-10, aspect=\"auto\", cmap=plt.cm.bwr)"
   ]
  },
  {
   "cell_type": "code",
   "execution_count": null,
   "id": "b7cdea3b-279e-4155-b3ea-ba5c7b8b3e38",
   "metadata": {
    "tags": []
   },
   "outputs": [],
   "source": [
    "plt.imshow(gmm.mean[90].reshape(8, -1), **ikw); plt.colorbar()"
   ]
  },
  {
   "cell_type": "code",
   "execution_count": null,
   "id": "64480779-e7ed-433b-9324-db9084c14129",
   "metadata": {
    "tags": []
   },
   "outputs": [],
   "source": [
    "plt.imshow(gmm.mean[23].reshape(8, -1), **ikw); plt.colorbar()"
   ]
  },
  {
   "cell_type": "code",
   "execution_count": null,
   "id": "0b581e43-690e-44a6-a482-f80969097f04",
   "metadata": {
    "tags": []
   },
   "outputs": [],
   "source": [
    "plt.imshow(res[\"wfs_rel\"][23].reshape(8, -1), **ikw); plt.colorbar()"
   ]
  },
  {
   "cell_type": "code",
   "execution_count": null,
   "id": "e0901d19-a8a5-449e-b199-61d6241f6704",
   "metadata": {
    "tags": []
   },
   "outputs": [],
   "source": [
    "plt.imshow(res[\"wfs_rel\"][90].reshape(8, -1), **ikw); plt.colorbar()"
   ]
  },
  {
   "cell_type": "code",
   "execution_count": null,
   "id": "cfe643ba-60f6-4163-bd3c-07e528db0986",
   "metadata": {
    "scrolled": true,
    "tags": []
   },
   "outputs": [],
   "source": [
    "res = gmm.inspect_spike(1)"
   ]
  },
  {
   "cell_type": "code",
   "execution_count": null,
   "id": "5f2697d0-8a53-4f47-8398-31218ed5bec4",
   "metadata": {
    "tags": []
   },
   "outputs": [],
   "source": [
    "snrs"
   ]
  },
  {
   "cell_type": "code",
   "execution_count": null,
   "id": "44f15f81-eeef-41f2-80e6-68b05bdd5d6f",
   "metadata": {
    "tags": []
   },
   "outputs": [],
   "source": [
    "res[\"overlaps\"][[23, 90]]"
   ]
  },
  {
   "cell_type": "code",
   "execution_count": null,
   "id": "48e84ddd-10b7-4d33-91a4-1db996418497",
   "metadata": {
    "tags": []
   },
   "outputs": [],
   "source": [
    "gmm.labels[1], new_labels[1]"
   ]
  },
  {
   "cell_type": "code",
   "execution_count": null,
   "id": "a3c0244d-52a3-4f46-aa9c-607eb5de77cc",
   "metadata": {
    "tags": []
   },
   "outputs": [],
   "source": [
    "unit_chans[[23, 90]]"
   ]
  },
  {
   "cell_type": "code",
   "execution_count": null,
   "id": "e39762d8-a504-404b-a908-85a2aae6a59e",
   "metadata": {
    "tags": []
   },
   "outputs": [],
   "source": [
    "sc = gmm.data.spike_static_channels[1]"
   ]
  },
  {
   "cell_type": "code",
   "execution_count": null,
   "id": "89560d37-7bb0-4588-944c-fcb95204d479",
   "metadata": {
    "tags": []
   },
   "outputs": [],
   "source": [
    "sc"
   ]
  },
  {
   "cell_type": "code",
   "execution_count": null,
   "id": "25c60246-9bd6-43c5-ad28-7c2e0d6f3254",
   "metadata": {
    "tags": []
   },
   "outputs": [],
   "source": [
    "# gmm.labels = new_labels\n",
    "# gmm.drop_small()\n",
    "# gmm.needs_fit[:len(gmm.unit_ids())] = 1\n",
    "# gmm.m_step()"
   ]
  },
  {
   "cell_type": "code",
   "execution_count": null,
   "id": "88b7aa68-1fd0-45a2-82db-784dbbe582c8",
   "metadata": {
    "tags": []
   },
   "outputs": [],
   "source": [
    "new_labels_full = np.full_like(chunk11_dpc.labels, -1)\n",
    "new_labels_full[gmm.data.keepers] = new_labels\n",
    "gmm2 = spike_basic.BasicSpikePCAClusterer(\n",
    "    dataclasses.replace(chunk11_dpc, labels=new_labels_full),\n",
    "    motion_est=motion_est,\n",
    ")"
   ]
  },
  {
   "cell_type": "code",
   "execution_count": null,
   "id": "1c84f53c-c59b-4e9d-a32c-819d2a16436d",
   "metadata": {
    "tags": []
   },
   "outputs": [],
   "source": [
    "gmm2.to(\"cuda\")\n",
    "gmm2.m_step()\n",
    "gmm2.cpu()"
   ]
  },
  {
   "cell_type": "code",
   "execution_count": null,
   "id": "e7a8640f-f387-492c-a987-265369211672",
   "metadata": {
    "tags": []
   },
   "outputs": [],
   "source": [
    "gmm.data.tpca_embeds = None"
   ]
  },
  {
   "cell_type": "code",
   "execution_count": null,
   "id": "625f333d-3672-4d42-80c9-21e806fc9fc3",
   "metadata": {
    "tags": []
   },
   "outputs": [],
   "source": [
    "import gc; gc.collect()"
   ]
  },
  {
   "cell_type": "code",
   "execution_count": null,
   "id": "ac866529-ce49-496c-8e47-ba127f9491dc",
   "metadata": {
    "tags": []
   },
   "outputs": [],
   "source": [
    "subdir = figdir / f\"xxx_split\"\n",
    "subdir.mkdir(exist_ok=True)\n",
    "makeplots(0, subdir, gmm, n_jobs=4, with_summaries=True, with_dpcs=False)"
   ]
  },
  {
   "cell_type": "code",
   "execution_count": null,
   "id": "fa1b1808-ea7d-4ae2-a5e0-f27bbf17cf5d",
   "metadata": {
    "tags": []
   },
   "outputs": [],
   "source": [
    "subdir = figdir / f\"xxx_reas\"\n",
    "subdir.mkdir(exist_ok=True)\n",
    "makeplots(0, subdir, gmm2, n_jobs=2, with_summaries=True, with_dpcs=False)"
   ]
  },
  {
   "cell_type": "code",
   "execution_count": null,
   "id": "319648be-c2de-4772-bed7-51a55536a949",
   "metadata": {
    "tags": []
   },
   "outputs": [],
   "source": [
    "gmm2.dpc_split()"
   ]
  },
  {
   "cell_type": "code",
   "execution_count": null,
   "id": "0397353b-5c10-4fd3-b6e3-0aef086131ce",
   "metadata": {
    "tags": []
   },
   "outputs": [],
   "source": [
    "import gc; gc.collect(); torch.cuda.empty_cache()"
   ]
  },
  {
   "cell_type": "code",
   "execution_count": null,
   "id": "0b55cbdc-b2fe-45f5-92b3-4e9e2f115a0d",
   "metadata": {
    "tags": []
   },
   "outputs": [],
   "source": [
    "subdir = figdir / f\"xxy_split\"\n",
    "subdir.mkdir(exist_ok=True)\n",
    "makeplots(0, subdir, gmm2, n_jobs=4, with_summaries=True, with_dpcs=False)"
   ]
  },
  {
   "cell_type": "code",
   "execution_count": null,
   "id": "d53e4602-be81-42fa-993e-363b07b65217",
   "metadata": {
    "tags": []
   },
   "outputs": [],
   "source": [
    "gmm2.recon_reassign()"
   ]
  },
  {
   "cell_type": "code",
   "execution_count": null,
   "id": "e3752c28-fc02-4033-8f10-fd37b8d31b1b",
   "metadata": {
    "tags": []
   },
   "outputs": [],
   "source": [
    "del gmm2"
   ]
  },
  {
   "cell_type": "code",
   "execution_count": null,
   "id": "451144bb-09df-4bc8-97b8-260d5b3d103e",
   "metadata": {
    "tags": []
   },
   "outputs": [],
   "source": [
    "gmm2.m_step()"
   ]
  },
  {
   "cell_type": "code",
   "execution_count": null,
   "id": "9f8d90c5-70e5-4dc9-98ec-3b089c3d1c82",
   "metadata": {
    "tags": []
   },
   "outputs": [],
   "source": [
    "subdir = figdir / f\"xxy_reas\"\n",
    "subdir.mkdir(exist_ok=True)\n",
    "makeplots(0, subdir, gmm2, n_jobs=4, with_summaries=True, with_dpcs=True)"
   ]
  },
  {
   "cell_type": "code",
   "execution_count": null,
   "id": "66e1baf3-abc8-4778-bada-4c9fd650ff0c",
   "metadata": {},
   "outputs": [],
   "source": []
  },
  {
   "cell_type": "code",
   "execution_count": null,
   "id": "fd313254-f68c-44b2-994a-1591f9dae38d",
   "metadata": {},
   "outputs": [],
   "source": []
  },
  {
   "cell_type": "code",
   "execution_count": null,
   "id": "2780e6dc-ef61-4014-a205-373576c2ba83",
   "metadata": {
    "tags": []
   },
   "outputs": [],
   "source": [
    "figdir / f\"xxx_reas\""
   ]
  },
  {
   "cell_type": "code",
   "execution_count": null,
   "id": "d38c1b34-7116-49b9-9700-f77b3c3c2201",
   "metadata": {},
   "outputs": [],
   "source": []
  },
  {
   "cell_type": "code",
   "execution_count": null,
   "id": "9fe90519-a759-43af-86fc-4982c9b8071d",
   "metadata": {
    "scrolled": true,
    "tags": []
   },
   "outputs": [],
   "source": [
    "for uid in gmm.unit_ids():\n",
    "    print(uid)\n",
    "    z = gmm.train_loadings[uid]\n",
    "    in_unit = gmm.train_spike_indices[uid]\n",
    "    valid = np.flatnonzero(in_unit >= 0)\n",
    "    in_unit = in_unit[valid]\n",
    "    print(f\"{in_unit.shape=}\")\n",
    "    z = z[valid, :2]\n",
    "    dens = density.density_peaks_clustering(\n",
    "        z[:, :2],\n",
    "        sigma_local=\"rule_of_thumb\",\n",
    "        # sigma_regional=\"rule_of_thumb\",\n",
    "        n_neighbors_search=500,\n",
    "        return_extra=True,\n",
    "    )\n",
    "    if \"density\" not in dens:\n",
    "        print(\"Clustering threw everyone away\")\n",
    "        continue\n",
    "    ru = np.unique(dens[\"labels\"])\n",
    "    print(\"num units after split\", ru[ru >= 0].size)\n",
    "    fig, axes = dartvis.analysis_plots.density_peaks_study(z, dens, s=10)\n",
    "    plt.show()\n",
    "    plt.close(fig)"
   ]
  },
  {
   "cell_type": "code",
   "execution_count": null,
   "id": "293f96bd-d3e2-4a63-91f0-a04a3480f186",
   "metadata": {},
   "outputs": [],
   "source": []
  },
  {
   "cell_type": "code",
   "execution_count": null,
   "id": "c5cd0bee-9d75-46ac-bedf-a005bdbe1509",
   "metadata": {},
   "outputs": [],
   "source": []
  }
 ],
 "metadata": {
  "kernelspec": {
   "display_name": "Python [conda env:a]",
   "language": "python",
   "name": "conda-env-a-py"
  },
  "language_info": {
   "codemirror_mode": {
    "name": "ipython",
    "version": 3
   },
   "file_extension": ".py",
   "mimetype": "text/x-python",
   "name": "python",
   "nbconvert_exporter": "python",
   "pygments_lexer": "ipython3",
   "version": "3.11.4"
  }
 },
 "nbformat": 4,
 "nbformat_minor": 5
}
