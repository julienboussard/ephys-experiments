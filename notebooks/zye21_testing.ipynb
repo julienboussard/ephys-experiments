{
 "cells": [
  {
   "cell_type": "code",
   "execution_count": 1,
   "id": "369668fe-1b2b-49dc-9356-c4f68515b4df",
   "metadata": {
    "tags": []
   },
   "outputs": [],
   "source": [
    "%load_ext autoreload\n",
    "%autoreload 2"
   ]
  },
  {
   "cell_type": "code",
   "execution_count": 2,
   "id": "7c8249f2-1dc1-466b-8c08-4f25df22c256",
   "metadata": {
    "tags": []
   },
   "outputs": [],
   "source": [
    "import dartsort\n",
    "import numpy as np\n",
    "import dartsort.vis as dartvis\n",
    "import matplotlib.pyplot as plt\n",
    "from pathlib import Path\n",
    "import h5py\n",
    "import torch\n",
    "import torch.nn.functional as F\n",
    "from sklearn.decomposition import PCA, TruncatedSVD\n",
    "import spikeinterface.full as si\n",
    "from dartsort.config import *\n",
    "from dartsort.cluster import initial, density\n",
    "import dataclasses\n",
    "from dartsort.util import drift_util, data_util\n",
    "import warnings\n",
    "from tqdm.auto import trange, tqdm\n",
    "from scipy.stats import chi2\n",
    "# from ephysx import spike_gmm, spike_lrgmm, spike_basic, ppca\n",
    "from ephysx import spike_basic, spike_interp\n",
    "from matplotlib import colors\n",
    "import seaborn as sns\n",
    "from scipy.cluster.hierarchy import linkage, fcluster\n",
    "from dredge import motion_util\n",
    "import os"
   ]
  },
  {
   "cell_type": "code",
   "execution_count": 3,
   "id": "4d6c5f5c-9f51-46fe-96bc-c18678b3847e",
   "metadata": {
    "tags": []
   },
   "outputs": [],
   "source": [
    "%config InlineBackend.figure_format = 'retina'\n",
    "import matplotlib.pyplot as plt\n",
    "from matplotlib.markers import MarkerStyle\n",
    "from matplotlib.transforms import offset_copy\n",
    "from matplotlib.patches import Ellipse, Rectangle, ConnectionPatch\n",
    "from matplotlib.lines import Line2D\n",
    "from matplotlib.legend_handler import HandlerTuple\n",
    "import contextlib\n",
    "import colorcet as cc\n",
    "\n",
    "plt.rc(\"figure\", dpi=300)\n",
    "plt.rc(\"figure\", figsize=(7, 4))\n",
    "SMALL_SIZE = 5\n",
    "MEDIUM_SIZE = 7\n",
    "BIGGER_SIZE =  8\n",
    "plt.rc('font', size=SMALL_SIZE)\n",
    "plt.rc('axes', titlesize=MEDIUM_SIZE)\n",
    "plt.rc('axes', labelsize=SMALL_SIZE)\n",
    "plt.rc('xtick', labelsize=SMALL_SIZE)\n",
    "plt.rc('ytick', labelsize=SMALL_SIZE)\n",
    "plt.rc('legend', fontsize=SMALL_SIZE)\n",
    "plt.rc('figure', titlesize=BIGGER_SIZE)\n",
    "\n",
    "@contextlib.contextmanager\n",
    "def subplots(*args, **kwargs):\n",
    "    fig, axes = plt.subplots(*args, **kwargs)\n",
    "    try:\n",
    "        yield fig, axes\n",
    "    finally:\n",
    "        plt.show()\n",
    "        plt.close(fig)"
   ]
  },
  {
   "cell_type": "code",
   "execution_count": 4,
   "id": "7b0d9acd-a4c4-47ff-9d1f-9ad585e4aa37",
   "metadata": {
    "tags": []
   },
   "outputs": [],
   "source": [
    "def withgc(function):\n",
    "    def wrapper(*args, **kwargs):\n",
    "        try:\n",
    "            return function(*args, **kwargs)\n",
    "        finally:\n",
    "            import gc; gc.collect()\n",
    "    return wrapper"
   ]
  },
  {
   "cell_type": "code",
   "execution_count": 5,
   "id": "1831c4b0-7e73-4046-bc17-55de73ca1423",
   "metadata": {
    "tags": []
   },
   "outputs": [],
   "source": [
    "# global\n",
    "model_radius = 15.0\n",
    "cfg = DARTsortConfig(\n",
    "    matching_iterations=2,\n",
    "    subtraction_config=SubtractionConfig(\n",
    "        detection_thresholds=(12, 9, 6, 5, 4),\n",
    "        extract_radius=75.0,\n",
    "        max_waveforms_fit=20_000,\n",
    "        subtraction_denoising_config=FeaturizationConfig(\n",
    "            denoise_only=True,\n",
    "            input_waveforms_name=\"raw\",\n",
    "            output_waveforms_name=\"subtracted\",\n",
    "            tpca_fit_radius=model_radius,\n",
    "            tpca_centered=False,\n",
    "        ),\n",
    "        residnorm_decrease_threshold=20.0,\n",
    "    ),\n",
    "    matching_config=MatchingConfig(\n",
    "        threshold=2500.0,\n",
    "        max_waveforms_fit=20_000,\n",
    "        extract_radius=75.0,\n",
    "    ),\n",
    "    template_config=TemplateConfig(\n",
    "        denoising_fit_radius=model_radius,\n",
    "        denoising_snr_threshold=100.0,\n",
    "        superres_templates=False,\n",
    "    ),\n",
    "    clustering_config=ClusteringConfig(\n",
    "        cluster_strategy=\"density_peaks\",\n",
    "        sigma_regional=25.0,\n",
    "        noise_density=1.0,\n",
    "        ensemble_strategy=None,\n",
    "        remove_duplicates=False,\n",
    "        remove_big_units=False,\n",
    "        remove_clusters_smaller_than=50,\n",
    "    ),\n",
    "    split_merge_config=SplitMergeConfig(\n",
    "        min_spatial_cosine=0.0,\n",
    "        linkage=\"single\",\n",
    "        # linkage=\"weighted_template\",\n",
    "        split_strategy_kwargs=dict(\n",
    "            channel_selection_radius=model_radius,\n",
    "            max_spikes=10_000,\n",
    "        ),\n",
    "        merge_template_config=TemplateConfig(\n",
    "            denoising_fit_radius=model_radius,\n",
    "            denoising_snr_threshold=100.0,\n",
    "            superres_templates=False,\n",
    "        )\n",
    "    ),\n",
    "    featurization_config=FeaturizationConfig(\n",
    "        tpca_fit_radius=model_radius,\n",
    "        localization_radius=50.0,\n",
    "        localization_model=\"dipole\",\n",
    "        tpca_centered=False,\n",
    "        input_tpca_projs_temporal_slice=slice(20, 81),\n",
    "    ),\n",
    "    motion_estimation_config=MotionEstimationConfig(\n",
    "        max_dt_s=1000,\n",
    "        window_scale_um=250,\n",
    "        window_step_um=75,\n",
    "        window_margin_um=-150,\n",
    "        # min_amplitude=15.0,\n",
    "    ),\n",
    ")"
   ]
  },
  {
   "cell_type": "code",
   "execution_count": 6,
   "id": "7b32be3e-4fa8-433a-ad2a-8c0e51f64bab",
   "metadata": {
    "tags": []
   },
   "outputs": [],
   "source": [
    "analysis_tcfg = dartsort.TemplateConfig(superres_templates=False, realign_peaks=False, denoising_snr_threshold=100.0, denoising_fit_radius=25.0)\n",
    "analysis_tpca = None\n",
    "def get_analysis(labels, keepers=None, base_sorting=None):\n",
    "    if base_sorting is None:\n",
    "        base_sorting=ref_clust\n",
    "    global analysis_tpca\n",
    "    if analysis_tpca is None:\n",
    "        analysis_tpca = dartsort.templates.get_templates.fit_tsvd(rec, base_sorting)\n",
    "\n",
    "    if keepers is not None:\n",
    "        labels_ = np.full_like(base_sorting.labels, -1)\n",
    "        labels_[keepers] = labels\n",
    "        labels = labels_\n",
    "    sorting = dataclasses.replace(\n",
    "        base_sorting,\n",
    "        labels=labels,\n",
    "    )\n",
    "    return dartsort.DARTsortAnalysis.from_sorting(\n",
    "        rec,\n",
    "        sorting,\n",
    "        motion_est=motion_est,\n",
    "        allow_template_reload=False,\n",
    "        template_config=analysis_tcfg,\n",
    "        denoising_tsvd=analysis_tpca,\n",
    "        device=\"cpu\",\n",
    "    )"
   ]
  },
  {
   "cell_type": "code",
   "execution_count": 7,
   "id": "f514c27b-6d6f-4762-a825-7f4133c5ec5a",
   "metadata": {
    "tags": []
   },
   "outputs": [],
   "source": [
    "@withgc\n",
    "def makeplots(\n",
    "    subdir,\n",
    "    gmm=None,\n",
    "    sorting=None,\n",
    "    n_jobs=0,\n",
    "    with_summaries=True,\n",
    "    with_dpcs=True,\n",
    "    with_over_time=False,\n",
    "    overwrite=False,\n",
    "    dpc_par=False,\n",
    "):\n",
    "    a0 = None\n",
    "    if gmm is None:\n",
    "        analysis_kw = dict(labels=sorting.labels, base_sorting=sorting)\n",
    "    else:\n",
    "        analysis_kw = dict(labels=gmm.labels, keepers=gmm.data.keepers, base_sorting=sorting)\n",
    "        device = gmm.device\n",
    "        gmm.cpu()\n",
    "    def ga(a0):\n",
    "        if a0 is None:\n",
    "            return get_analysis(**analysis_kw)\n",
    "        return a0\n",
    "    subdir.mkdir(exist_ok=True)\n",
    "\n",
    "    print(\"scatters...\")\n",
    "    if overwrite or not (subdir / \"sorting.png\").exists():\n",
    "        a0 = ga(a0)\n",
    "        fig = plt.figure(figsize=(15, 15))\n",
    "        fig = dartvis.make_sorting_summary(a0, figure=fig);\n",
    "        fig.savefig(subdir / \"sorting.png\", dpi=200)\n",
    "        plt.close(fig)\n",
    "\n",
    "    if overwrite or not (subdir / \"scatter.png\").exists():\n",
    "        a0 = ga(a0)\n",
    "        fig = plt.figure(figsize=(15, 15))\n",
    "        fig, ax, ss = dartvis.scatter_spike_features(sorting=a0.sorting, show_triaged=False, figure=fig, width_ratios=[1, 1, 1]);\n",
    "        motion_util.plot_me_traces(motion_est, ax=ax[-1], color=\"r\", lw=1)\n",
    "        fig.savefig(subdir / \"scatter.png\", dpi=200)\n",
    "        plt.close(fig)\n",
    "\n",
    "    if overwrite or not (subdir / \"scatter_reg.png\").exists():\n",
    "        a0 = ga(a0)\n",
    "        fig = plt.figure(figsize=(15, 15))\n",
    "        fig, ax, ss = dartvis.scatter_spike_features(\n",
    "            sorting=a0.sorting, motion_est=motion_est, registered=True, show_triaged=False, figure=fig, width_ratios=[1, 1, 1]\n",
    "        );\n",
    "        fig.savefig(subdir / \"scatter_reg.png\", dpi=200)\n",
    "        plt.close(fig)\n",
    "\n",
    "    if overwrite or not (subdir / \"scatter_regt.png\").exists():\n",
    "        a0 = ga(a0)\n",
    "        fig = plt.figure(figsize=(15, 15))\n",
    "        fig, ax, ss = dartvis.scatter_spike_features(\n",
    "            sorting=a0.sorting, motion_est=motion_est, registered=True, show_triaged=True, figure=fig, width_ratios=[1, 1, 1]\n",
    "        );\n",
    "        fig.savefig(subdir / \"scatter_regt.png\", dpi=200)\n",
    "        plt.close(fig)\n",
    "    print(\"scatters done\")\n",
    "\n",
    "    # if gmm is not None and (overwrite or not (subdir / \"dists.png\").exists()):\n",
    "    #     fig, ax = plt.subplots(figsize=(8, 8))\n",
    "    #     # fig, ax, ss = dartvis.scatter_spike_features(\n",
    "    #     #     sorting=a0.sorting, motion_est=motion_est, registered=True, show_triaged=False, figure=fig, width_ratios=[1, 1, 1]\n",
    "    #     # );\n",
    "    #     dist_res = gmm.centroid_dists(centroid_only=merge_centroid_only)\n",
    "    #     im = ax.imshow(dist_res[\"unexplained_var\"], interpolation=\"none\", vmin=0, vmax=1, cmap=plt.cm.rainbow)\n",
    "    #     plt.colorbar(im, ax=ax, shrink=0.5)\n",
    "    #     fig.savefig(subdir / \"dists.png\", dpi=200)\n",
    "    #     plt.close(fig)\n",
    "\n",
    "    # if gmm is not None and (overwrite or not (subdir / \"likdists.png\").exists()):\n",
    "    #     fig, ax = plt.subplots(figsize=(8, 8))\n",
    "    #     # fig, ax, ss = dartvis.scatter_spike_features(\n",
    "    #     #     sorting=a0.sorting, motion_est=motion_est, registered=True, show_triaged=False, figure=fig, width_ratios=[1, 1, 1]\n",
    "    #     # );\n",
    "    #     dist_res = gmm.centroid_dists(kind=\"likelihood\", centroid_only=merge_centroid_only)\n",
    "    #     im = ax.imshow(dist_res[\"logliks\"], interpolation=\"none\", cmap=plt.cm.rainbow)\n",
    "    #     plt.colorbar(im, ax=ax, shrink=0.5)\n",
    "    #     fig.savefig(subdir / \"likdists.png\", dpi=200)\n",
    "    #     plt.close(fig)\n",
    "\n",
    "    if overwrite or not (subdir / \"scatter_regt.png\").exists():\n",
    "        a0 = ga(a0)\n",
    "        fig = plt.figure(figsize=(15, 15))\n",
    "        fig, ax, ss = dartvis.scatter_spike_features(\n",
    "            sorting=a0.sorting, motion_est=motion_est, registered=True, show_triaged=True, figure=fig, width_ratios=[1, 1, 1]\n",
    "        );\n",
    "        fig.savefig(subdir / \"scatter_regt.png\", dpi=200)\n",
    "        plt.close(fig)\n",
    "    print(\"scatters done\")\n",
    "\n",
    "    print(\"animation\")\n",
    "    if with_over_time and (overwrite or not (subdir / f\"animation.mp4\").exists()):\n",
    "        a0 = ga(a0)\n",
    "        dartvis.sorting_scatter_animation(\n",
    "                a0,\n",
    "                subdir / f\"animation.mp4\",\n",
    "                chunk_length_samples=300 * rec.sampling_frequency,\n",
    "                device=\"cpu\",\n",
    "            )\n",
    "    print(\"animation done\")\n",
    "\n",
    "    print(\"over_time\")\n",
    "    if with_over_time and (\n",
    "        overwrite\n",
    "        or not (subdir / \"over_time\" / f\"unit{a0.coarse_template_data.unit_ids.max():04d}.png\").exists()\n",
    "    ):\n",
    "        a0 = ga(a0)\n",
    "        dartvis.make_all_over_time_summaries(\n",
    "            a0,\n",
    "            subdir / \"over_time\",\n",
    "            chunk_length_s=300.0,\n",
    "            channel_show_radius_um=15.0,\n",
    "            amplitude_color_cutoff=25.0,\n",
    "            pca_radius_um=25.0,\n",
    "            # max_height=18,\n",
    "            figsize=(20, 20),\n",
    "            dpi=200,\n",
    "            image_ext=\"png\",\n",
    "            n_jobs=n_jobs,\n",
    "            n_jobs_templates=0,\n",
    "            show_progress=True,\n",
    "            overwrite=overwrite,\n",
    "            analysis_kw=dict(device=\"cpu\"),\n",
    "        )\n",
    "    print(\"over_time done\")\n",
    "\n",
    "    print(\"dpcs\")\n",
    "    if with_dpcs and gmm is not None:\n",
    "        dartvis.gmm.make_all_gmm_summaries(\n",
    "            gmm,\n",
    "            subdir / \"gmm\",\n",
    "            show_progress=True,\n",
    "            n_jobs=n_jobs if dpc_par else 0,\n",
    "            overwrite=overwrite,\n",
    "        )\n",
    "    print(\"dpcs done\")\n",
    "\n",
    "    print(\"summaries\")\n",
    "    if with_summaries:\n",
    "        a0 = ga(a0)\n",
    "        dartvis.make_all_summaries(\n",
    "            a0,\n",
    "            subdir / \"summaries\",\n",
    "            channel_show_radius_um=15,\n",
    "            overwrite=overwrite,\n",
    "            n_jobs=n_jobs,\n",
    "        )\n",
    "    print(\"summaries done\")\n",
    "    if gmm is not None:\n",
    "        gmm.to(device)"
   ]
  },
  {
   "cell_type": "code",
   "execution_count": 8,
   "id": "f89d0340-9f7e-4b62-914a-7a90d378eac6",
   "metadata": {
    "tags": []
   },
   "outputs": [],
   "source": [
    "ultra_root = Path(\"/home/charlie/scratch/NPultra_ImposedMotion\")\n",
    "ultra_out = Path(\"/home/charlie/scratch/uhd/NPultra_sorting\")\n",
    "figs_out = Path(\"/home/charlie/scratch/uhd/NPultra_sortingfigs\")\n",
    "ultra_ppx = Path(\"/home/charlie/scratch/uhd/NPultra_preprocessed\")\n",
    "\n",
    "# scratch_dir = Path(f\"/scratch/{os.environ['USER']}/job_{os.environ['SLURM_JOBID']}\")\n",
    "scratch_dir = None\n",
    "if scratch_dir and not scratch_dir.exists():\n",
    "    scratch_dir = None"
   ]
  },
  {
   "cell_type": "code",
   "execution_count": 9,
   "id": "17710ef8-0a3f-41ed-8322-59eb9e95244b",
   "metadata": {
    "tags": []
   },
   "outputs": [],
   "source": [
    "rec_orig_dir = ultra_root / \"ZYE_0021\" / \"2021-05-01\" / \"1\""
   ]
  },
  {
   "cell_type": "code",
   "execution_count": 10,
   "id": "cea59162-77e7-4049-8362-76a2666ac44e",
   "metadata": {
    "tags": []
   },
   "outputs": [],
   "source": [
    "ap_bin = rec_orig_dir / \"p1_g0_t0.imec0.ap.bin\""
   ]
  },
  {
   "cell_type": "code",
   "execution_count": 11,
   "id": "791fe470-211a-4351-9898-1f9219d9133e",
   "metadata": {
    "tags": []
   },
   "outputs": [],
   "source": [
    "recid = \"-\".join(str(rec_orig_dir.relative_to(ultra_root)).split(\"/\"))\n",
    "out_dir = ultra_out / recid"
   ]
  },
  {
   "cell_type": "code",
   "execution_count": 12,
   "id": "0c8c9d44-25c1-4272-ba15-748644610095",
   "metadata": {
    "tags": []
   },
   "outputs": [],
   "source": [
    "ppx_dir = ultra_ppx / recid"
   ]
  },
  {
   "cell_type": "code",
   "execution_count": 13,
   "id": "d5e24dd2-63a0-4c0b-9f0a-69d6c0df7743",
   "metadata": {
    "tags": []
   },
   "outputs": [],
   "source": [
    "fig_dir = figs_out / recid\n",
    "fig_dir.mkdir(exist_ok=True, parents=True)"
   ]
  },
  {
   "cell_type": "code",
   "execution_count": 14,
   "id": "7966d952-ec74-4b93-85e4-b4c8fc369e54",
   "metadata": {
    "tags": []
   },
   "outputs": [
    {
     "data": {
      "text/plain": [
       "BinaryFolderRecording: 384 channels - 30.0kHz - 1 segments - 121,209,192 samples \n",
       "                       4,040.31s (1.12 hours) - float16 dtype - 86.70 GiB"
      ]
     },
     "execution_count": 14,
     "metadata": {},
     "output_type": "execute_result"
    }
   ],
   "source": [
    "if not ppx_dir.exists():\n",
    "    geom = np.load(rec_orig_dir / \"channel_positions.npy\")\n",
    "\n",
    "    rec0 = si.read_binary(\n",
    "        ap_bin,\n",
    "        30_000,\n",
    "        np.int16,\n",
    "        num_channels=385,\n",
    "    )\n",
    "    print(rec0)\n",
    "    rec0 = rec0.channel_slice(rec0.channel_ids[:len(geom)])\n",
    "    rec0.set_dummy_probe_from_locations(geom)\n",
    "    rec = si.highpass_filter(rec0, dtype=\"float64\")\n",
    "    rec = si.common_reference(rec)\n",
    "    rec = si.zscore(rec, num_chunks_per_segment=100, mode=\"mean+std\")\n",
    "    print(rec)\n",
    "    rec = rec.astype(np.float16)\n",
    "    print(rec)\n",
    "\n",
    "    fig = plt.figure()\n",
    "    plt.imshow(rec0.get_traces(0, 0, 1000).T, aspect=\"auto\")\n",
    "    plt.colorbar()\n",
    "    plt.show()\n",
    "    plt.close(fig)\n",
    "\n",
    "    fig = plt.figure()\n",
    "    plt.imshow(rec.get_traces(0, 0, 1000).T, aspect=\"auto\")\n",
    "    plt.colorbar()\n",
    "    plt.show()\n",
    "    plt.close(fig)\n",
    "\n",
    "    rec = rec.save_to_folder(ppx_dir, chunk_memory=\"40M\", n_jobs=8)\n",
    "rec = si.read_binary_folder(ppx_dir)\n",
    "rec"
   ]
  },
  {
   "cell_type": "code",
   "execution_count": 15,
   "id": "181f80d1-a4c7-4385-b123-923ad1e20a33",
   "metadata": {
    "tags": []
   },
   "outputs": [],
   "source": [
    "if scratch_dir is not None:\n",
    "    if not (scratch_dir / ppx_dir.stem).exists():\n",
    "        !rsync -avP {ppx_dir} {scratch_dir}/\n",
    "    rec = si.read_binary_folder(scratch_dir / ppx_dir.stem)"
   ]
  },
  {
   "cell_type": "code",
   "execution_count": 16,
   "id": "19239d38-83ec-4374-b33c-c28f7a721a5c",
   "metadata": {
    "tags": []
   },
   "outputs": [],
   "source": [
    "# (out_dir / \"subtraction\").mkdir(parents=True, exist_ok=True)\n",
    "# sub_st, sub_h5 = dartsort.subtract(\n",
    "#     rec,\n",
    "#     out_dir / \"subtraction\",\n",
    "#     subtraction_config=cfg.subtraction_config,\n",
    "#     featurization_config=cfg.featurization_config,\n",
    "#     overwrite=True,\n",
    "#     n_jobs=2,\n",
    "# )"
   ]
  },
  {
   "cell_type": "code",
   "execution_count": 17,
   "id": "00bcb55e-41c6-4915-850b-2e2c2dc188e7",
   "metadata": {
    "tags": []
   },
   "outputs": [],
   "source": [
    "sub_st = dartsort.DARTsortSorting.from_peeling_hdf5(out_dir / \"subtraction\" / \"subtraction.h5\")"
   ]
  },
  {
   "cell_type": "code",
   "execution_count": 18,
   "id": "37932af1-7f6c-47ba-ac30-5af9401a4c4a",
   "metadata": {
    "tags": []
   },
   "outputs": [
    {
     "data": {
      "text/plain": [
       "DARTsortSorting: 331080 spikes, 1 unit. extra features: denoised_logpeaktotrough, denoised_peak_amplitude_vectors, denoised_ptp_amplitude_vectors, denoised_ptp_amplitudes, point_source_localizations, times_seconds. from parent h5 file /home/charlie/scratch/uhd/NPultra_sorting/ZYE_0021-2021-05-01-1/subtraction/subtraction.h5."
      ]
     },
     "execution_count": 18,
     "metadata": {},
     "output_type": "execute_result"
    }
   ],
   "source": [
    "sub_st"
   ]
  },
  {
   "cell_type": "code",
   "execution_count": null,
   "id": "2d55b967-6f01-4b12-b33e-be2335c7d077",
   "metadata": {
    "tags": []
   },
   "outputs": [],
   "source": [
    "motion_est = dartsort.estimate_motion(\n",
    "    rec,\n",
    "    sub_st,\n",
    "    sub_st.parent_h5_path.parent,\n",
    "    **dataclasses.asdict(cfg.motion_estimation_config),\n",
    "    overwrite=False,\n",
    ")"
   ]
  },
  {
   "cell_type": "code",
   "execution_count": 20,
   "id": "6ed1c6fb-cae6-482c-a927-1d233d0bc254",
   "metadata": {
    "tags": []
   },
   "outputs": [],
   "source": [
    "# fig, ax = plt.subplots()\n",
    "# dartvis.scatter_time_vs_depth(sorting=sub_st, geom=rec.get_channel_locations(), ax=ax, amplitude_color_cutoff=20)\n",
    "# motion_util.plot_me_traces(motion_est, ax, color=\"r\");"
   ]
  },
  {
   "cell_type": "code",
   "execution_count": 48,
   "id": "62716f7b-1a09-4503-83cc-d38e9201dea7",
   "metadata": {
    "tags": []
   },
   "outputs": [],
   "source": [
    "full_dpc = initial.initial_clustering(\n",
    "    peeling_hdf5_filename=sub_st.parent_h5_path,\n",
    "    clustering_config=cfg.clustering_config,\n",
    "    recording=rec,\n",
    "    sorting=sub_st,\n",
    "    motion_est=motion_est,\n",
    ")"
   ]
  },
  {
   "cell_type": "code",
   "execution_count": 49,
   "id": "6b64d722-0d48-4e02-ac8e-f2737a9fc0d5",
   "metadata": {
    "tags": []
   },
   "outputs": [
    {
     "data": {
      "text/plain": [
       "DARTsortSorting: 331080 spikes, 35 units. extra features: denoised_logpeaktotrough, denoised_peak_amplitude_vectors, denoised_ptp_amplitude_vectors, denoised_ptp_amplitudes, point_source_localizations, times_seconds. from parent h5 file /home/charlie/scratch/uhd/NPultra_sorting/ZYE_0021-2021-05-01-1/subtraction/subtraction.h5."
      ]
     },
     "execution_count": 49,
     "metadata": {},
     "output_type": "execute_result"
    }
   ],
   "source": [
    "full_dpc"
   ]
  },
  {
   "cell_type": "code",
   "execution_count": 50,
   "id": "d861051f-0709-4ef6-8f4c-96528eec7cd9",
   "metadata": {
    "tags": []
   },
   "outputs": [],
   "source": [
    "# tpca = torch.load(full_dpc.parent_h5_path.parent / \"subtraction_models\" / \"featurization_pipeline.pt\").transformers[0]\n",
    "# tpca.mean.shape, tpca.mean.abs().max()"
   ]
  },
  {
   "cell_type": "code",
   "execution_count": 51,
   "id": "33dacae8-3293-4b7f-b76c-8a980b6c5d82",
   "metadata": {
    "tags": []
   },
   "outputs": [],
   "source": [
    "# makeplots(\n",
    "#     fig_dir / \"aaa_000_fulldpc\",\n",
    "#     gmm=None,\n",
    "#     sorting=full_dpc,\n",
    "#     n_jobs=4,\n",
    "#     with_summaries=True,\n",
    "#     with_dpcs=True,\n",
    "#     with_over_time=False,\n",
    "#     overwrite=False,\n",
    "# )"
   ]
  },
  {
   "cell_type": "code",
   "execution_count": 52,
   "id": "0d6ab6c5-4447-489c-8eb1-52c19c70f002",
   "metadata": {
    "tags": []
   },
   "outputs": [
    {
     "data": {
      "text/plain": [
       "<torch.autograd.grad_mode.set_grad_enabled at 0x7fc0a8bdf990>"
      ]
     },
     "execution_count": 52,
     "metadata": {},
     "output_type": "execute_result"
    }
   ],
   "source": [
    "torch.set_grad_enabled(False)"
   ]
  },
  {
   "cell_type": "code",
   "execution_count": 53,
   "id": "7a1a8551-d61c-4658-85db-9b9e757c8bbc",
   "metadata": {
    "tags": []
   },
   "outputs": [
    {
     "data": {
      "text/plain": [
       "24741"
      ]
     },
     "execution_count": 53,
     "metadata": {},
     "output_type": "execute_result"
    }
   ],
   "source": [
    "import gc; gc.collect()"
   ]
  },
  {
   "cell_type": "code",
   "execution_count": 54,
   "id": "793f3498-265f-4c8c-bcc9-50036b6c8ccb",
   "metadata": {
    "scrolled": true,
    "tags": []
   },
   "outputs": [],
   "source": [
    "gmm = spike_interp.InterpClusterer(\n",
    "    full_dpc,\n",
    "    (0, rec.get_total_duration()),\n",
    "    motion_est=motion_est,\n",
    "    do_interp=False,\n",
    "    sampling_method=\"random\",\n",
    "    split_sampling_method=\"time_amp_reweighted\",\n",
    "    fa_kwargs=dict(\n",
    "        do_prior=True,\n",
    "        lengthscale=250,\n",
    "        latent_update=\"gradient\",\n",
    "        points_per_lengthscale=1,\n",
    "    ),\n",
    "    residual_pca_kwargs=dict(\n",
    "        centered=False,\n",
    "        atol=1e-3,\n",
    "        max_iter=100,\n",
    "        transform_iter=0,\n",
    "        pca_on_waveform_channels=False,\n",
    "    ),\n",
    "    dpc_split_kwargs=spike_interp.DPCSplitKwargs(\n",
    "        split_on_train=True,\n",
    "        sigma_local=\"rule_of_thumb*0.5\",\n",
    "        radius_search=8.0,\n",
    "    ),\n",
    "    outlier_explained_var=0.5,\n",
    "    scale_residual_embed=False,\n",
    "    reassign_metric=\"1-r^2\",\n",
    "    merge_metric=\"1-r^2\",\n",
    "    fit_radius=20.0,\n",
    "    waveform_radius=20.0,\n",
    "    n_spikes_fit=4096,\n",
    "    clustering_config=cfg.clustering_config,\n",
    ")"
   ]
  },
  {
   "cell_type": "code",
   "execution_count": 102,
   "id": "01a31eed-0df5-4722-873a-512a2648c736",
   "metadata": {
    "tags": []
   },
   "outputs": [],
   "source": [
    "gmm.models.clear()\n",
    "gmm.labels = torch.tensor(full_dpc.labels[gmm.data.keepers]).to(gmm.labels)\n",
    "gmm.cleanup()\n"
   ]
  },
  {
   "cell_type": "code",
   "execution_count": 103,
   "id": "c1d1615d-2bde-4dc8-af6a-15545b13c691",
   "metadata": {
    "tags": []
   },
   "outputs": [],
   "source": [
    "# gmm.parcellate()"
   ]
  },
  {
   "cell_type": "code",
   "execution_count": 104,
   "id": "516e2e7f-0410-42b0-9530-1582f0efe5f8",
   "metadata": {
    "tags": []
   },
   "outputs": [],
   "source": [
    "# gmm.unit_ids()"
   ]
  },
  {
   "cell_type": "code",
   "execution_count": 105,
   "id": "2f90ee85-de67-40d5-bcb0-686c5fc6bb2a",
   "metadata": {
    "tags": []
   },
   "outputs": [],
   "source": [
    "# import gc; gc.collect()"
   ]
  },
  {
   "cell_type": "code",
   "execution_count": 106,
   "id": "465b825c-e1e4-444c-9461-e4a59c54d11b",
   "metadata": {
    "tags": []
   },
   "outputs": [],
   "source": [
    "gmm.cuda();"
   ]
  },
  {
   "cell_type": "code",
   "execution_count": 107,
   "id": "42990d66-9abd-4c39-9663-6ff90e6f044d",
   "metadata": {
    "tags": []
   },
   "outputs": [
    {
     "data": {
      "application/vnd.jupyter.widget-view+json": {
       "model_id": "8072c60663f54459960b19ab405e412e",
       "version_major": 2,
       "version_minor": 0
      },
      "text/plain": [
       "M step:   0%|          | 0/35 [00:00<?, ?it/s]"
      ]
     },
     "metadata": {},
     "output_type": "display_data"
    }
   ],
   "source": [
    "gmm.m_step()"
   ]
  },
  {
   "cell_type": "code",
   "execution_count": 112,
   "id": "5af35974-c888-4b30-998e-f2af42ca8544",
   "metadata": {
    "tags": []
   },
   "outputs": [],
   "source": [
    "# g: splitem\n",
    "# h: transform_iter\n",
    "# i: fit_pca args same for testing\n",
    "# j: fewer fit iters\n",
    "# k: more fit iters, fewer transform iters\n",
    "# l: even fewer transform iters\n",
    "# m: no transform iters\n",
    "# n: raise atol\n",
    "# o: raise atol again\n",
    "# p: drop max iter\n",
    "# q: split on train\n",
    "# r: raise max iter\n",
    "# s: lower atol (now 1e-2)\n",
    "# t: lower atol (now 1e-3)\n",
    "# u: reweighted sampling\n",
    "# v: back to split full with transform iters\n",
    "# w: smaller fit radius\n",
    "# x: bigger fit radius\n",
    "# z: split on wf chans, rot*1.5, handle duplicates\n",
    "# ba: pca not on wf chans. too many all nan cases.\n",
    "# bb: to pandesk.\n",
    "# bc: parcellate 0.5\n",
    "# bd: bigger chan hoods w parcellation\n",
    "# be: we have bigger things to fry than parcels \n",
    "# bf: lower sampling sigma\n",
    "# bg: channels switchup\n",
    "# bh: trying to do zipper\n",
    "# bi: reassign was not maintaining zipper. try no scaling.\n",
    "# bj: frame slice tpca\n",
    "# bk: rule_of_thumb*0.5\n",
    "# bl: assign at random for center, weighted for split, handle CIs right\n",
    "# bm: search rad\n",
    "# bn: add in outlier re-clustering\n",
    "# bo: back to split on orig chans\n",
    "# bp: no cleanup after recluster, no //2 in dpc, adding stuff to zipper vis\n",
    "# bq: zipper with centroid criterion\n",
    "tag = \"abq\""
   ]
  },
  {
   "cell_type": "code",
   "execution_count": 108,
   "id": "21ca3e41-80e9-40d4-a43d-7290ea08596f",
   "metadata": {
    "tags": []
   },
   "outputs": [
    {
     "data": {
      "text/plain": [
       "82911"
      ]
     },
     "execution_count": 108,
     "metadata": {},
     "output_type": "execute_result"
    }
   ],
   "source": [
    "import gc; gc.collect()"
   ]
  },
  {
   "cell_type": "code",
   "execution_count": 77,
   "id": "84af295f-87db-4c3f-a958-63d26ee4213b",
   "metadata": {
    "tags": []
   },
   "outputs": [
    {
     "name": "stdout",
     "output_type": "stream",
     "text": [
      "scatters...\n"
     ]
    },
    {
     "data": {
      "application/vnd.jupyter.widget-view+json": {
       "model_id": "0b2df177ea824cc38d9e2483a5d9b158",
       "version_major": 2,
       "version_minor": 0
      },
      "text/plain": [
       "Denoised templates:   0%|          | 0/35 [00:00<?, ?template/s]"
      ]
     },
     "metadata": {},
     "output_type": "display_data"
    },
    {
     "name": "stdout",
     "output_type": "stream",
     "text": [
      "q\n"
     ]
    },
    {
     "data": {
      "application/vnd.jupyter.widget-view+json": {
       "model_id": "13a6852da73142cdbb2a48723a7e2a55",
       "version_major": 2,
       "version_minor": 0
      },
      "text/plain": [
       "Pairwise convolution:   0%|          | 0/25 [00:00<?, ?pair block/s]"
      ]
     },
     "metadata": {},
     "output_type": "display_data"
    },
    {
     "name": "stdout",
     "output_type": "stream",
     "text": [
      "scatters done\n",
      "scatters done\n",
      "animation\n",
      "animation done\n",
      "over_time\n",
      "over_time done\n",
      "dpcs\n"
     ]
    },
    {
     "data": {
      "application/vnd.jupyter.widget-view+json": {
       "model_id": "7f98cb5cd8d84304959e2e50c69dabde",
       "version_major": 2,
       "version_minor": 0
      },
      "text/plain": [
       "GMM summaries:   0%|          | 0/35 [00:00<?, ?it/s]"
      ]
     },
     "metadata": {},
     "output_type": "display_data"
    },
    {
     "name": "stdout",
     "output_type": "stream",
     "text": [
      "dpcs done\n",
      "summaries\n"
     ]
    },
    {
     "data": {
      "application/vnd.jupyter.widget-view+json": {
       "model_id": "07106e20820b4f29b6cfb92fa1ff25b4",
       "version_major": 2,
       "version_minor": 0
      },
      "text/plain": [
       "Unit summaries:   0%|          | 0/35 [00:00<?, ?it/s]"
      ]
     },
     "metadata": {},
     "output_type": "display_data"
    },
    {
     "name": "stdout",
     "output_type": "stream",
     "text": [
      "summaries done\n"
     ]
    }
   ],
   "source": [
    "makeplots(\n",
    "    fig_dir / f\"{tag}_000_init\",\n",
    "    gmm=gmm,\n",
    "    sorting=full_dpc,\n",
    "    n_jobs=2,\n",
    "    with_summaries=True,\n",
    "    with_dpcs=True,\n",
    "    dpc_par=True,\n",
    "    with_over_time=False,\n",
    "    overwrite=False,\n",
    ")"
   ]
  },
  {
   "cell_type": "code",
   "execution_count": 109,
   "id": "78cca322-90cf-44e2-820e-c94ff90263da",
   "metadata": {
    "tags": []
   },
   "outputs": [
    {
     "data": {
      "application/vnd.jupyter.widget-view+json": {
       "model_id": "7685187490d64d6c803c6a5a455588d9",
       "version_major": 2,
       "version_minor": 0
      },
      "text/plain": [
       "Split round 0:   0%|          | 0/35 [00:00<?, ?it/s]"
      ]
     },
     "metadata": {},
     "output_type": "display_data"
    },
    {
     "data": {
      "application/vnd.jupyter.widget-view+json": {
       "model_id": "eaf1f2ddfe5f4de68dab21f33c252356",
       "version_major": 2,
       "version_minor": 0
      },
      "text/plain": [
       "M step:   0%|          | 0/52 [00:00<?, ?it/s]"
      ]
     },
     "metadata": {},
     "output_type": "display_data"
    },
    {
     "data": {
      "application/vnd.jupyter.widget-view+json": {
       "model_id": "8c063ab594324d529abd8291e491cb96",
       "version_major": 2,
       "version_minor": 0
      },
      "text/plain": [
       "Split round 1:   0%|          | 0/37 [00:00<?, ?it/s]"
      ]
     },
     "metadata": {},
     "output_type": "display_data"
    },
    {
     "data": {
      "application/vnd.jupyter.widget-view+json": {
       "model_id": "898e4d2845094405994acab3d8d9a503",
       "version_major": 2,
       "version_minor": 0
      },
      "text/plain": [
       "M step:   0%|          | 0/23 [00:00<?, ?it/s]"
      ]
     },
     "metadata": {},
     "output_type": "display_data"
    },
    {
     "data": {
      "application/vnd.jupyter.widget-view+json": {
       "model_id": "983ba3ec93654dbfbbdbe7f4d66f02f1",
       "version_major": 2,
       "version_minor": 0
      },
      "text/plain": [
       "Split round 2:   0%|          | 0/11 [00:00<?, ?it/s]"
      ]
     },
     "metadata": {},
     "output_type": "display_data"
    },
    {
     "data": {
      "application/vnd.jupyter.widget-view+json": {
       "model_id": "d917f590f3ab4ba9bdb01db3054280dc",
       "version_major": 2,
       "version_minor": 0
      },
      "text/plain": [
       "M step:   0%|          | 0/8 [00:00<?, ?it/s]"
      ]
     },
     "metadata": {},
     "output_type": "display_data"
    },
    {
     "name": "stdout",
     "output_type": "stream",
     "text": [
      "Split: 35 + (20+6+0) = 61.\n",
      "Reclustering found 26 new clusters with spike counts from 63 to 22495. Outlier fraction: 45.0% -> 3.7%.\n"
     ]
    },
    {
     "data": {
      "application/vnd.jupyter.widget-view+json": {
       "model_id": "092a0fcc3af7495bbc7f1f1e6d0e11db",
       "version_major": 2,
       "version_minor": 0
      },
      "text/plain": [
       "M step:   0%|          | 0/26 [00:00<?, ?it/s]"
      ]
     },
     "metadata": {},
     "output_type": "display_data"
    },
    {
     "data": {
      "application/vnd.jupyter.widget-view+json": {
       "model_id": "4a993d8cf67043bfa0b386dedcbbe7f7",
       "version_major": 2,
       "version_minor": 0
      },
      "text/plain": [
       "Split round 0:   0%|          | 0/87 [00:00<?, ?it/s]"
      ]
     },
     "metadata": {},
     "output_type": "display_data"
    },
    {
     "data": {
      "application/vnd.jupyter.widget-view+json": {
       "model_id": "dff0eccbaef843bfaa74687d3a0580b4",
       "version_major": 2,
       "version_minor": 0
      },
      "text/plain": [
       "M step:   0%|          | 0/53 [00:00<?, ?it/s]"
      ]
     },
     "metadata": {},
     "output_type": "display_data"
    },
    {
     "data": {
      "application/vnd.jupyter.widget-view+json": {
       "model_id": "c82615df155a464eafa11fe92b4c95db",
       "version_major": 2,
       "version_minor": 0
      },
      "text/plain": [
       "Split round 1:   0%|          | 0/32 [00:00<?, ?it/s]"
      ]
     },
     "metadata": {},
     "output_type": "display_data"
    },
    {
     "data": {
      "application/vnd.jupyter.widget-view+json": {
       "model_id": "ecba9da8a26944cfa84a287b48e94a49",
       "version_major": 2,
       "version_minor": 0
      },
      "text/plain": [
       "M step:   0%|          | 0/20 [00:00<?, ?it/s]"
      ]
     },
     "metadata": {},
     "output_type": "display_data"
    },
    {
     "data": {
      "application/vnd.jupyter.widget-view+json": {
       "model_id": "a10dee38ffbe44cc92bf246188bbc439",
       "version_major": 2,
       "version_minor": 0
      },
      "text/plain": [
       "Split round 2:   0%|          | 0/8 [00:00<?, ?it/s]"
      ]
     },
     "metadata": {},
     "output_type": "display_data"
    },
    {
     "data": {
      "application/vnd.jupyter.widget-view+json": {
       "model_id": "4f4dbb52c0a443189fdee5daf970a0bb",
       "version_major": 2,
       "version_minor": 0
      },
      "text/plain": [
       "M step:   0%|          | 0/6 [00:00<?, ?it/s]"
      ]
     },
     "metadata": {},
     "output_type": "display_data"
    },
    {
     "data": {
      "application/vnd.jupyter.widget-view+json": {
       "model_id": "01e84d0b28284f14863a2da72120ef16",
       "version_major": 2,
       "version_minor": 0
      },
      "text/plain": [
       "Split round 3:   0%|          | 0/4 [00:00<?, ?it/s]"
      ]
     },
     "metadata": {},
     "output_type": "display_data"
    },
    {
     "data": {
      "application/vnd.jupyter.widget-view+json": {
       "model_id": "32ea2d7a315240d48973ccfb9e8bc1f9",
       "version_major": 2,
       "version_minor": 0
      },
      "text/plain": [
       "M step:   0%|          | 0/3 [00:00<?, ?it/s]"
      ]
     },
     "metadata": {},
     "output_type": "display_data"
    },
    {
     "name": "stdout",
     "output_type": "stream",
     "text": [
      "Split: 87 + (17+4+2+0) = 110.\n",
      "Reclustering found 14 new clusters with spike counts from 64 to 19077. Outlier fraction: 34.8% -> 3.4%.\n"
     ]
    },
    {
     "data": {
      "application/vnd.jupyter.widget-view+json": {
       "model_id": "e45f1ba9567b444ca5ba2aa77c89c0b3",
       "version_major": 2,
       "version_minor": 0
      },
      "text/plain": [
       "M step:   0%|          | 0/14 [00:00<?, ?it/s]"
      ]
     },
     "metadata": {},
     "output_type": "display_data"
    },
    {
     "data": {
      "application/vnd.jupyter.widget-view+json": {
       "model_id": "49495ebab66644d6b09f22377480650f",
       "version_major": 2,
       "version_minor": 0
      },
      "text/plain": [
       "Split round 0:   0%|          | 0/124 [00:00<?, ?it/s]"
      ]
     },
     "metadata": {},
     "output_type": "display_data"
    },
    {
     "data": {
      "application/vnd.jupyter.widget-view+json": {
       "model_id": "82119fd7f5e84e29bb5bcf1beddd6954",
       "version_major": 2,
       "version_minor": 0
      },
      "text/plain": [
       "M step:   0%|          | 0/43 [00:00<?, ?it/s]"
      ]
     },
     "metadata": {},
     "output_type": "display_data"
    },
    {
     "data": {
      "application/vnd.jupyter.widget-view+json": {
       "model_id": "753774223d964f9dad3027514f2aece6",
       "version_major": 2,
       "version_minor": 0
      },
      "text/plain": [
       "Split round 1:   0%|          | 0/19 [00:00<?, ?it/s]"
      ]
     },
     "metadata": {},
     "output_type": "display_data"
    },
    {
     "data": {
      "application/vnd.jupyter.widget-view+json": {
       "model_id": "7828ef89d9614f068648d3f75d368097",
       "version_major": 2,
       "version_minor": 0
      },
      "text/plain": [
       "M step:   0%|          | 0/14 [00:00<?, ?it/s]"
      ]
     },
     "metadata": {},
     "output_type": "display_data"
    },
    {
     "data": {
      "application/vnd.jupyter.widget-view+json": {
       "model_id": "2bfed3611a7e4eaca6f586ab14dc698d",
       "version_major": 2,
       "version_minor": 0
      },
      "text/plain": [
       "Split round 2:   0%|          | 0/6 [00:00<?, ?it/s]"
      ]
     },
     "metadata": {},
     "output_type": "display_data"
    },
    {
     "data": {
      "application/vnd.jupyter.widget-view+json": {
       "model_id": "2c0365c259374136bab38aacf6c6c747",
       "version_major": 2,
       "version_minor": 0
      },
      "text/plain": [
       "M step:   0%|          | 0/3 [00:00<?, ?it/s]"
      ]
     },
     "metadata": {},
     "output_type": "display_data"
    },
    {
     "name": "stdout",
     "output_type": "stream",
     "text": [
      "Split: 124 + (10+3+0) = 137.\n"
     ]
    },
    {
     "data": {
      "text/plain": [
       "tensor(0.1956)"
      ]
     },
     "execution_count": 109,
     "metadata": {},
     "output_type": "execute_result"
    }
   ],
   "source": [
    "gmm.residual_dpc_split()\n",
    "gmm.recluster_outliers()\n",
    "gmm.m_step()\n",
    "gmm.residual_dpc_split()\n",
    "gmm.recluster_outliers()\n",
    "gmm.m_step()\n",
    "gmm.residual_dpc_split()\n",
    "(gmm.labels < 0).to(torch.float).mean()"
   ]
  },
  {
   "cell_type": "code",
   "execution_count": 110,
   "id": "676d79f8-6421-4818-8e40-3453cc31ee5d",
   "metadata": {
    "tags": []
   },
   "outputs": [
    {
     "data": {
      "application/vnd.jupyter.widget-view+json": {
       "model_id": "2815543cc9a7440fb1d418b6d6ef1f71",
       "version_major": 2,
       "version_minor": 0
      },
      "text/plain": [
       "Zipper split:   0%|          | 0/137 [00:00<?, ?it/s]"
      ]
     },
     "metadata": {},
     "output_type": "display_data"
    },
    {
     "name": "stdout",
     "output_type": "stream",
     "text": [
      "Zipper split broke off 26 new units.\n"
     ]
    },
    {
     "data": {
      "application/vnd.jupyter.widget-view+json": {
       "model_id": "58f3a4a2ba404238bc3b76c09ec78ad5",
       "version_major": 2,
       "version_minor": 0
      },
      "text/plain": [
       "M step:   0%|          | 0/50 [00:00<?, ?it/s]"
      ]
     },
     "metadata": {},
     "output_type": "display_data"
    }
   ],
   "source": [
    "gmm.zipper_split()"
   ]
  },
  {
   "cell_type": "code",
   "execution_count": 113,
   "id": "f9e13f0f-0b7c-444b-b497-85001b4fbb3f",
   "metadata": {
    "tags": []
   },
   "outputs": [
    {
     "data": {
      "application/vnd.jupyter.widget-view+json": {
       "model_id": "098d40b15e33467aa73c4ee50f1b90b5",
       "version_major": 2,
       "version_minor": 0
      },
      "text/plain": [
       "Split round 0:   0%|          | 0/163 [00:00<?, ?it/s]"
      ]
     },
     "metadata": {},
     "output_type": "display_data"
    },
    {
     "data": {
      "application/vnd.jupyter.widget-view+json": {
       "model_id": "ad230fa9ba7f402cb6295d58150c4138",
       "version_major": 2,
       "version_minor": 0
      },
      "text/plain": [
       "M step:   0%|          | 0/32 [00:00<?, ?it/s]"
      ]
     },
     "metadata": {},
     "output_type": "display_data"
    },
    {
     "data": {
      "application/vnd.jupyter.widget-view+json": {
       "model_id": "865a280d87d34862a42757a6ff345efe",
       "version_major": 2,
       "version_minor": 0
      },
      "text/plain": [
       "Split round 1:   0%|          | 0/8 [00:00<?, ?it/s]"
      ]
     },
     "metadata": {},
     "output_type": "display_data"
    },
    {
     "data": {
      "application/vnd.jupyter.widget-view+json": {
       "model_id": "5bc7a2382b884d34a4c2333342364f15",
       "version_major": 2,
       "version_minor": 0
      },
      "text/plain": [
       "M step:   0%|          | 0/6 [00:00<?, ?it/s]"
      ]
     },
     "metadata": {},
     "output_type": "display_data"
    },
    {
     "name": "stdout",
     "output_type": "stream",
     "text": [
      "Split: 163 + (4+0) = 167.\n"
     ]
    }
   ],
   "source": [
    "gmm.residual_dpc_split()"
   ]
  },
  {
   "cell_type": "code",
   "execution_count": 114,
   "id": "3450fd6d-1121-444b-8d1e-1cb878607bdc",
   "metadata": {
    "tags": []
   },
   "outputs": [
    {
     "data": {
      "text/plain": [
       "device(type='cpu')"
      ]
     },
     "execution_count": 114,
     "metadata": {},
     "output_type": "execute_result"
    }
   ],
   "source": [
    "gmm.device"
   ]
  },
  {
   "cell_type": "code",
   "execution_count": 116,
   "id": "eb3cea51-dd0e-4b0b-9aa1-8508e2bad44f",
   "metadata": {
    "scrolled": true,
    "tags": []
   },
   "outputs": [
    {
     "name": "stdout",
     "output_type": "stream",
     "text": [
      "scatters...\n"
     ]
    },
    {
     "data": {
      "application/vnd.jupyter.widget-view+json": {
       "model_id": "1e5f2f454a5f46209412dbb6d38469ad",
       "version_major": 2,
       "version_minor": 0
      },
      "text/plain": [
       "Denoised templates:   0%|          | 0/167 [00:00<?, ?template/s]"
      ]
     },
     "metadata": {},
     "output_type": "display_data"
    },
    {
     "name": "stdout",
     "output_type": "stream",
     "text": [
      "q\n"
     ]
    },
    {
     "data": {
      "application/vnd.jupyter.widget-view+json": {
       "model_id": "1b7a99af6d0b48be9a3045a22deb7bbe",
       "version_major": 2,
       "version_minor": 0
      },
      "text/plain": [
       "Pairwise convolution:   0%|          | 0/441 [00:00<?, ?pair block/s]"
      ]
     },
     "metadata": {},
     "output_type": "display_data"
    },
    {
     "name": "stdout",
     "output_type": "stream",
     "text": [
      "scatters done\n",
      "scatters done\n",
      "animation\n",
      "animation done\n",
      "over_time\n",
      "over_time done\n",
      "dpcs\n"
     ]
    },
    {
     "data": {
      "application/vnd.jupyter.widget-view+json": {
       "model_id": "4d437afed97d43f39d891852464e3fbb",
       "version_major": 2,
       "version_minor": 0
      },
      "text/plain": [
       "GMM summaries:   0%|          | 0/167 [00:00<?, ?it/s]"
      ]
     },
     "metadata": {},
     "output_type": "display_data"
    },
    {
     "name": "stderr",
     "output_type": "stream",
     "text": [
      "/home/charlie/spike-psvae/src/dartsort/vis/gmm.py:1094: UserWarning: constrained_layout not applied because axes sizes collapsed to zero.  Try making figure larger or axes decorations smaller.\n",
      "  fig.savefig(tmp_out, dpi=_summary_job_context.dpi)\n",
      "/home/charlie/spike-psvae/src/dartsort/vis/gmm.py:1094: UserWarning: constrained_layout not applied because axes sizes collapsed to zero.  Try making figure larger or axes decorations smaller.\n",
      "  fig.savefig(tmp_out, dpi=_summary_job_context.dpi)\n",
      "/home/charlie/spike-psvae/src/dartsort/vis/gmm.py:1094: UserWarning: constrained_layout not applied because axes sizes collapsed to zero.  Try making figure larger or axes decorations smaller.\n",
      "  fig.savefig(tmp_out, dpi=_summary_job_context.dpi)\n",
      "/home/charlie/spike-psvae/src/dartsort/vis/gmm.py:1094: UserWarning: constrained_layout not applied because axes sizes collapsed to zero.  Try making figure larger or axes decorations smaller.\n",
      "  fig.savefig(tmp_out, dpi=_summary_job_context.dpi)\n",
      "/home/charlie/spike-psvae/src/dartsort/vis/gmm.py:1094: UserWarning: constrained_layout not applied because axes sizes collapsed to zero.  Try making figure larger or axes decorations smaller.\n",
      "  fig.savefig(tmp_out, dpi=_summary_job_context.dpi)\n",
      "/home/charlie/spike-psvae/src/dartsort/vis/gmm.py:1094: UserWarning: constrained_layout not applied because axes sizes collapsed to zero.  Try making figure larger or axes decorations smaller.\n",
      "  fig.savefig(tmp_out, dpi=_summary_job_context.dpi)\n",
      "/home/charlie/spike-psvae/src/dartsort/vis/gmm.py:1094: UserWarning: constrained_layout not applied because axes sizes collapsed to zero.  Try making figure larger or axes decorations smaller.\n",
      "  fig.savefig(tmp_out, dpi=_summary_job_context.dpi)\n",
      "/home/charlie/spike-psvae/src/dartsort/vis/gmm.py:1094: UserWarning: constrained_layout not applied because axes sizes collapsed to zero.  Try making figure larger or axes decorations smaller.\n",
      "  fig.savefig(tmp_out, dpi=_summary_job_context.dpi)\n",
      "/home/charlie/spike-psvae/src/dartsort/vis/gmm.py:1094: UserWarning: constrained_layout not applied because axes sizes collapsed to zero.  Try making figure larger or axes decorations smaller.\n",
      "  fig.savefig(tmp_out, dpi=_summary_job_context.dpi)\n",
      "/home/charlie/spike-psvae/src/dartsort/vis/gmm.py:1094: UserWarning: constrained_layout not applied because axes sizes collapsed to zero.  Try making figure larger or axes decorations smaller.\n",
      "  fig.savefig(tmp_out, dpi=_summary_job_context.dpi)\n",
      "/home/charlie/spike-psvae/src/dartsort/vis/gmm.py:1094: UserWarning: constrained_layout not applied because axes sizes collapsed to zero.  Try making figure larger or axes decorations smaller.\n",
      "  fig.savefig(tmp_out, dpi=_summary_job_context.dpi)\n",
      "/home/charlie/spike-psvae/src/dartsort/vis/gmm.py:1094: UserWarning: constrained_layout not applied because axes sizes collapsed to zero.  Try making figure larger or axes decorations smaller.\n",
      "  fig.savefig(tmp_out, dpi=_summary_job_context.dpi)\n",
      "/home/charlie/spike-psvae/src/dartsort/vis/gmm.py:1094: UserWarning: constrained_layout not applied because axes sizes collapsed to zero.  Try making figure larger or axes decorations smaller.\n",
      "  fig.savefig(tmp_out, dpi=_summary_job_context.dpi)\n",
      "/home/charlie/spike-psvae/src/dartsort/vis/gmm.py:1094: UserWarning: constrained_layout not applied because axes sizes collapsed to zero.  Try making figure larger or axes decorations smaller.\n",
      "  fig.savefig(tmp_out, dpi=_summary_job_context.dpi)\n",
      "/home/charlie/spike-psvae/src/dartsort/vis/gmm.py:1094: UserWarning: constrained_layout not applied because axes sizes collapsed to zero.  Try making figure larger or axes decorations smaller.\n",
      "  fig.savefig(tmp_out, dpi=_summary_job_context.dpi)\n",
      "/home/charlie/spike-psvae/src/dartsort/cluster/density.py:358: RuntimeWarning: invalid value encountered in divide\n",
      "  density = density / reg_density\n",
      "/home/charlie/spike-psvae/src/dartsort/vis/gmm.py:1094: UserWarning: constrained_layout not applied because axes sizes collapsed to zero.  Try making figure larger or axes decorations smaller.\n",
      "  fig.savefig(tmp_out, dpi=_summary_job_context.dpi)\n",
      "/home/charlie/spike-psvae/src/dartsort/vis/gmm.py:1094: UserWarning: constrained_layout not applied because axes sizes collapsed to zero.  Try making figure larger or axes decorations smaller.\n",
      "  fig.savefig(tmp_out, dpi=_summary_job_context.dpi)\n",
      "/home/charlie/spike-psvae/src/dartsort/vis/gmm.py:1094: UserWarning: constrained_layout not applied because axes sizes collapsed to zero.  Try making figure larger or axes decorations smaller.\n",
      "  fig.savefig(tmp_out, dpi=_summary_job_context.dpi)\n",
      "/home/charlie/spike-psvae/src/dartsort/vis/gmm.py:1094: UserWarning: constrained_layout not applied because axes sizes collapsed to zero.  Try making figure larger or axes decorations smaller.\n",
      "  fig.savefig(tmp_out, dpi=_summary_job_context.dpi)\n",
      "/home/charlie/spike-psvae/src/dartsort/vis/gmm.py:1094: UserWarning: constrained_layout not applied because axes sizes collapsed to zero.  Try making figure larger or axes decorations smaller.\n",
      "  fig.savefig(tmp_out, dpi=_summary_job_context.dpi)\n",
      "/home/charlie/spike-psvae/src/dartsort/vis/gmm.py:1094: UserWarning: constrained_layout not applied because axes sizes collapsed to zero.  Try making figure larger or axes decorations smaller.\n",
      "  fig.savefig(tmp_out, dpi=_summary_job_context.dpi)\n",
      "/home/charlie/spike-psvae/src/dartsort/vis/gmm.py:1094: UserWarning: constrained_layout not applied because axes sizes collapsed to zero.  Try making figure larger or axes decorations smaller.\n",
      "  fig.savefig(tmp_out, dpi=_summary_job_context.dpi)\n",
      "/home/charlie/spike-psvae/src/dartsort/vis/gmm.py:1094: UserWarning: constrained_layout not applied because axes sizes collapsed to zero.  Try making figure larger or axes decorations smaller.\n",
      "  fig.savefig(tmp_out, dpi=_summary_job_context.dpi)\n",
      "/home/charlie/spike-psvae/src/dartsort/vis/gmm.py:1094: UserWarning: constrained_layout not applied because axes sizes collapsed to zero.  Try making figure larger or axes decorations smaller.\n",
      "  fig.savefig(tmp_out, dpi=_summary_job_context.dpi)\n",
      "/home/charlie/spike-psvae/src/dartsort/vis/gmm.py:1094: UserWarning: constrained_layout not applied because axes sizes collapsed to zero.  Try making figure larger or axes decorations smaller.\n",
      "  fig.savefig(tmp_out, dpi=_summary_job_context.dpi)\n",
      "/home/charlie/spike-psvae/src/dartsort/vis/gmm.py:1094: UserWarning: constrained_layout not applied because axes sizes collapsed to zero.  Try making figure larger or axes decorations smaller.\n",
      "  fig.savefig(tmp_out, dpi=_summary_job_context.dpi)\n",
      "/home/charlie/spike-psvae/src/dartsort/vis/gmm.py:1094: UserWarning: constrained_layout not applied because axes sizes collapsed to zero.  Try making figure larger or axes decorations smaller.\n",
      "  fig.savefig(tmp_out, dpi=_summary_job_context.dpi)\n",
      "/home/charlie/spike-psvae/src/dartsort/vis/gmm.py:1094: UserWarning: constrained_layout not applied because axes sizes collapsed to zero.  Try making figure larger or axes decorations smaller.\n",
      "  fig.savefig(tmp_out, dpi=_summary_job_context.dpi)\n",
      "/home/charlie/spike-psvae/src/dartsort/vis/gmm.py:1094: UserWarning: constrained_layout not applied because axes sizes collapsed to zero.  Try making figure larger or axes decorations smaller.\n",
      "  fig.savefig(tmp_out, dpi=_summary_job_context.dpi)\n",
      "/home/charlie/spike-psvae/src/dartsort/vis/gmm.py:1094: UserWarning: constrained_layout not applied because axes sizes collapsed to zero.  Try making figure larger or axes decorations smaller.\n",
      "  fig.savefig(tmp_out, dpi=_summary_job_context.dpi)\n",
      "/home/charlie/spike-psvae/src/dartsort/vis/gmm.py:1094: UserWarning: constrained_layout not applied because axes sizes collapsed to zero.  Try making figure larger or axes decorations smaller.\n",
      "  fig.savefig(tmp_out, dpi=_summary_job_context.dpi)\n",
      "/home/charlie/spike-psvae/src/dartsort/vis/gmm.py:1094: UserWarning: constrained_layout not applied because axes sizes collapsed to zero.  Try making figure larger or axes decorations smaller.\n",
      "  fig.savefig(tmp_out, dpi=_summary_job_context.dpi)\n",
      "/home/charlie/spike-psvae/src/dartsort/vis/gmm.py:1094: UserWarning: constrained_layout not applied because axes sizes collapsed to zero.  Try making figure larger or axes decorations smaller.\n",
      "  fig.savefig(tmp_out, dpi=_summary_job_context.dpi)\n",
      "/home/charlie/spike-psvae/src/dartsort/vis/gmm.py:1094: UserWarning: constrained_layout not applied because axes sizes collapsed to zero.  Try making figure larger or axes decorations smaller.\n",
      "  fig.savefig(tmp_out, dpi=_summary_job_context.dpi)\n",
      "/home/charlie/spike-psvae/src/dartsort/vis/gmm.py:1094: UserWarning: constrained_layout not applied because axes sizes collapsed to zero.  Try making figure larger or axes decorations smaller.\n",
      "  fig.savefig(tmp_out, dpi=_summary_job_context.dpi)\n",
      "/home/charlie/spike-psvae/src/dartsort/vis/gmm.py:1094: UserWarning: constrained_layout not applied because axes sizes collapsed to zero.  Try making figure larger or axes decorations smaller.\n",
      "  fig.savefig(tmp_out, dpi=_summary_job_context.dpi)\n",
      "/home/charlie/spike-psvae/src/dartsort/vis/gmm.py:1094: UserWarning: constrained_layout not applied because axes sizes collapsed to zero.  Try making figure larger or axes decorations smaller.\n",
      "  fig.savefig(tmp_out, dpi=_summary_job_context.dpi)\n",
      "/home/charlie/spike-psvae/src/dartsort/vis/gmm.py:1094: UserWarning: constrained_layout not applied because axes sizes collapsed to zero.  Try making figure larger or axes decorations smaller.\n",
      "  fig.savefig(tmp_out, dpi=_summary_job_context.dpi)\n",
      "/home/charlie/spike-psvae/src/dartsort/vis/gmm.py:1094: UserWarning: constrained_layout not applied because axes sizes collapsed to zero.  Try making figure larger or axes decorations smaller.\n",
      "  fig.savefig(tmp_out, dpi=_summary_job_context.dpi)\n",
      "/home/charlie/spike-psvae/src/dartsort/vis/gmm.py:1094: UserWarning: constrained_layout not applied because axes sizes collapsed to zero.  Try making figure larger or axes decorations smaller.\n",
      "  fig.savefig(tmp_out, dpi=_summary_job_context.dpi)\n",
      "/home/charlie/spike-psvae/src/dartsort/vis/gmm.py:1094: UserWarning: constrained_layout not applied because axes sizes collapsed to zero.  Try making figure larger or axes decorations smaller.\n",
      "  fig.savefig(tmp_out, dpi=_summary_job_context.dpi)\n",
      "/home/charlie/spike-psvae/src/dartsort/vis/gmm.py:1094: UserWarning: constrained_layout not applied because axes sizes collapsed to zero.  Try making figure larger or axes decorations smaller.\n",
      "  fig.savefig(tmp_out, dpi=_summary_job_context.dpi)\n",
      "/home/charlie/spike-psvae/src/dartsort/vis/gmm.py:1094: UserWarning: constrained_layout not applied because axes sizes collapsed to zero.  Try making figure larger or axes decorations smaller.\n",
      "  fig.savefig(tmp_out, dpi=_summary_job_context.dpi)\n",
      "/home/charlie/spike-psvae/src/dartsort/vis/gmm.py:1094: UserWarning: constrained_layout not applied because axes sizes collapsed to zero.  Try making figure larger or axes decorations smaller.\n",
      "  fig.savefig(tmp_out, dpi=_summary_job_context.dpi)\n",
      "/home/charlie/spike-psvae/src/dartsort/vis/gmm.py:1094: UserWarning: constrained_layout not applied because axes sizes collapsed to zero.  Try making figure larger or axes decorations smaller.\n",
      "  fig.savefig(tmp_out, dpi=_summary_job_context.dpi)\n",
      "/home/charlie/spike-psvae/src/dartsort/vis/gmm.py:1094: UserWarning: constrained_layout not applied because axes sizes collapsed to zero.  Try making figure larger or axes decorations smaller.\n",
      "  fig.savefig(tmp_out, dpi=_summary_job_context.dpi)\n",
      "/home/charlie/spike-psvae/src/dartsort/vis/gmm.py:1094: UserWarning: constrained_layout not applied because axes sizes collapsed to zero.  Try making figure larger or axes decorations smaller.\n",
      "  fig.savefig(tmp_out, dpi=_summary_job_context.dpi)\n",
      "/home/charlie/spike-psvae/src/dartsort/vis/gmm.py:1094: UserWarning: constrained_layout not applied because axes sizes collapsed to zero.  Try making figure larger or axes decorations smaller.\n",
      "  fig.savefig(tmp_out, dpi=_summary_job_context.dpi)\n",
      "/home/charlie/spike-psvae/src/dartsort/vis/gmm.py:1094: UserWarning: constrained_layout not applied because axes sizes collapsed to zero.  Try making figure larger or axes decorations smaller.\n",
      "  fig.savefig(tmp_out, dpi=_summary_job_context.dpi)\n",
      "/home/charlie/spike-psvae/src/dartsort/vis/gmm.py:1094: UserWarning: constrained_layout not applied because axes sizes collapsed to zero.  Try making figure larger or axes decorations smaller.\n",
      "  fig.savefig(tmp_out, dpi=_summary_job_context.dpi)\n",
      "/home/charlie/spike-psvae/src/dartsort/vis/gmm.py:1094: UserWarning: constrained_layout not applied because axes sizes collapsed to zero.  Try making figure larger or axes decorations smaller.\n",
      "  fig.savefig(tmp_out, dpi=_summary_job_context.dpi)\n",
      "/home/charlie/spike-psvae/src/dartsort/vis/gmm.py:1094: UserWarning: constrained_layout not applied because axes sizes collapsed to zero.  Try making figure larger or axes decorations smaller.\n",
      "  fig.savefig(tmp_out, dpi=_summary_job_context.dpi)\n",
      "/home/charlie/spike-psvae/src/dartsort/vis/gmm.py:1094: UserWarning: constrained_layout not applied because axes sizes collapsed to zero.  Try making figure larger or axes decorations smaller.\n",
      "  fig.savefig(tmp_out, dpi=_summary_job_context.dpi)\n",
      "/home/charlie/spike-psvae/src/dartsort/vis/gmm.py:1094: UserWarning: constrained_layout not applied because axes sizes collapsed to zero.  Try making figure larger or axes decorations smaller.\n",
      "  fig.savefig(tmp_out, dpi=_summary_job_context.dpi)\n",
      "/home/charlie/spike-psvae/src/dartsort/vis/gmm.py:1094: UserWarning: constrained_layout not applied because axes sizes collapsed to zero.  Try making figure larger or axes decorations smaller.\n",
      "  fig.savefig(tmp_out, dpi=_summary_job_context.dpi)\n",
      "/home/charlie/spike-psvae/src/dartsort/vis/gmm.py:1094: UserWarning: constrained_layout not applied because axes sizes collapsed to zero.  Try making figure larger or axes decorations smaller.\n",
      "  fig.savefig(tmp_out, dpi=_summary_job_context.dpi)\n",
      "/home/charlie/spike-psvae/src/dartsort/vis/gmm.py:1094: UserWarning: constrained_layout not applied because axes sizes collapsed to zero.  Try making figure larger or axes decorations smaller.\n",
      "  fig.savefig(tmp_out, dpi=_summary_job_context.dpi)\n",
      "/home/charlie/spike-psvae/src/dartsort/vis/gmm.py:1094: UserWarning: constrained_layout not applied because axes sizes collapsed to zero.  Try making figure larger or axes decorations smaller.\n",
      "  fig.savefig(tmp_out, dpi=_summary_job_context.dpi)\n",
      "/home/charlie/spike-psvae/src/dartsort/vis/gmm.py:1094: UserWarning: constrained_layout not applied because axes sizes collapsed to zero.  Try making figure larger or axes decorations smaller.\n",
      "  fig.savefig(tmp_out, dpi=_summary_job_context.dpi)\n",
      "/home/charlie/spike-psvae/src/dartsort/vis/gmm.py:1094: UserWarning: constrained_layout not applied because axes sizes collapsed to zero.  Try making figure larger or axes decorations smaller.\n",
      "  fig.savefig(tmp_out, dpi=_summary_job_context.dpi)\n",
      "/home/charlie/spike-psvae/src/dartsort/vis/gmm.py:1094: UserWarning: constrained_layout not applied because axes sizes collapsed to zero.  Try making figure larger or axes decorations smaller.\n",
      "  fig.savefig(tmp_out, dpi=_summary_job_context.dpi)\n",
      "/home/charlie/spike-psvae/src/dartsort/vis/gmm.py:1094: UserWarning: constrained_layout not applied because axes sizes collapsed to zero.  Try making figure larger or axes decorations smaller.\n",
      "  fig.savefig(tmp_out, dpi=_summary_job_context.dpi)\n",
      "/home/charlie/spike-psvae/src/dartsort/vis/gmm.py:1094: UserWarning: constrained_layout not applied because axes sizes collapsed to zero.  Try making figure larger or axes decorations smaller.\n",
      "  fig.savefig(tmp_out, dpi=_summary_job_context.dpi)\n",
      "/home/charlie/spike-psvae/src/dartsort/vis/gmm.py:1094: UserWarning: constrained_layout not applied because axes sizes collapsed to zero.  Try making figure larger or axes decorations smaller.\n",
      "  fig.savefig(tmp_out, dpi=_summary_job_context.dpi)\n",
      "/home/charlie/spike-psvae/src/dartsort/vis/gmm.py:1094: UserWarning: constrained_layout not applied because axes sizes collapsed to zero.  Try making figure larger or axes decorations smaller.\n",
      "  fig.savefig(tmp_out, dpi=_summary_job_context.dpi)\n",
      "/home/charlie/spike-psvae/src/dartsort/vis/gmm.py:1094: UserWarning: constrained_layout not applied because axes sizes collapsed to zero.  Try making figure larger or axes decorations smaller.\n",
      "  fig.savefig(tmp_out, dpi=_summary_job_context.dpi)\n",
      "/home/charlie/spike-psvae/src/dartsort/vis/gmm.py:1094: UserWarning: constrained_layout not applied because axes sizes collapsed to zero.  Try making figure larger or axes decorations smaller.\n",
      "  fig.savefig(tmp_out, dpi=_summary_job_context.dpi)\n",
      "/home/charlie/spike-psvae/src/dartsort/vis/gmm.py:1094: UserWarning: constrained_layout not applied because axes sizes collapsed to zero.  Try making figure larger or axes decorations smaller.\n",
      "  fig.savefig(tmp_out, dpi=_summary_job_context.dpi)\n",
      "/home/charlie/spike-psvae/src/dartsort/vis/gmm.py:1094: UserWarning: constrained_layout not applied because axes sizes collapsed to zero.  Try making figure larger or axes decorations smaller.\n",
      "  fig.savefig(tmp_out, dpi=_summary_job_context.dpi)\n",
      "/home/charlie/spike-psvae/src/dartsort/vis/gmm.py:1094: UserWarning: constrained_layout not applied because axes sizes collapsed to zero.  Try making figure larger or axes decorations smaller.\n",
      "  fig.savefig(tmp_out, dpi=_summary_job_context.dpi)\n",
      "/home/charlie/spike-psvae/src/dartsort/vis/gmm.py:1094: UserWarning: constrained_layout not applied because axes sizes collapsed to zero.  Try making figure larger or axes decorations smaller.\n",
      "  fig.savefig(tmp_out, dpi=_summary_job_context.dpi)\n",
      "/home/charlie/spike-psvae/src/dartsort/vis/gmm.py:1094: UserWarning: constrained_layout not applied because axes sizes collapsed to zero.  Try making figure larger or axes decorations smaller.\n",
      "  fig.savefig(tmp_out, dpi=_summary_job_context.dpi)\n",
      "/home/charlie/spike-psvae/src/dartsort/vis/gmm.py:1094: UserWarning: constrained_layout not applied because axes sizes collapsed to zero.  Try making figure larger or axes decorations smaller.\n",
      "  fig.savefig(tmp_out, dpi=_summary_job_context.dpi)\n"
     ]
    },
    {
     "name": "stdout",
     "output_type": "stream",
     "text": [
      "// error in unit 73\n",
      "Traceback (most recent call last):\n",
      "  File \"/home/charlie/spike-psvae/src/dartsort/vis/gmm.py\", line 1081, in _summary_job\n",
      "    make_unit_gmm_summary(\n",
      "  File \"/home/charlie/spike-psvae/src/dartsort/vis/gmm.py\", line 945, in make_unit_gmm_summary\n",
      "    figure = layout.flow_layout(\n",
      "             ^^^^^^^^^^^^^^^^^^^\n",
      "  File \"/home/charlie/spike-psvae/src/dartsort/vis/layout.py\", line 77, in flow_layout\n",
      "    plot.draw(panel, **plot_kwargs)\n",
      "  File \"/home/charlie/spike-psvae/src/dartsort/vis/gmm.py\", line 69, in draw\n",
      "    dens = density.density_peaks_clustering(\n",
      "           ^^^^^^^^^^^^^^^^^^^^^^^^^^^^^^^^^\n",
      "  File \"/home/charlie/spike-psvae/src/dartsort/cluster/density.py\", line 361, in density_peaks_clustering\n",
      "    nhdn, distances, indices = nearest_higher_density_neighbor(\n",
      "                               ^^^^^^^^^^^^^^^^^^^^^^^^^^^^^^^^\n",
      "  File \"/home/charlie/spike-psvae/src/dartsort/cluster/density.py\", line 161, in nearest_higher_density_neighbor\n",
      "    is_lower_density = density_padded[indices] <= density[:, None]\n",
      "                       ~~~~~~~~~~~~~~^^^^^^^^^\n",
      "IndexError: index -9223372036854775273 is out of bounds for axis 0 with size 2847\n",
      "\n"
     ]
    },
    {
     "name": "stderr",
     "output_type": "stream",
     "text": [
      "/home/charlie/spike-psvae/src/dartsort/vis/gmm.py:1094: UserWarning: constrained_layout not applied because axes sizes collapsed to zero.  Try making figure larger or axes decorations smaller.\n",
      "  fig.savefig(tmp_out, dpi=_summary_job_context.dpi)\n",
      "/home/charlie/spike-psvae/src/dartsort/vis/gmm.py:1094: UserWarning: constrained_layout not applied because axes sizes collapsed to zero.  Try making figure larger or axes decorations smaller.\n",
      "  fig.savefig(tmp_out, dpi=_summary_job_context.dpi)\n",
      "/home/charlie/spike-psvae/src/dartsort/vis/gmm.py:1094: UserWarning: constrained_layout not applied because axes sizes collapsed to zero.  Try making figure larger or axes decorations smaller.\n",
      "  fig.savefig(tmp_out, dpi=_summary_job_context.dpi)\n",
      "/home/charlie/spike-psvae/src/dartsort/vis/gmm.py:1094: UserWarning: constrained_layout not applied because axes sizes collapsed to zero.  Try making figure larger or axes decorations smaller.\n",
      "  fig.savefig(tmp_out, dpi=_summary_job_context.dpi)\n",
      "/home/charlie/spike-psvae/src/dartsort/vis/gmm.py:1094: UserWarning: constrained_layout not applied because axes sizes collapsed to zero.  Try making figure larger or axes decorations smaller.\n",
      "  fig.savefig(tmp_out, dpi=_summary_job_context.dpi)\n",
      "/home/charlie/spike-psvae/src/dartsort/vis/gmm.py:1094: UserWarning: constrained_layout not applied because axes sizes collapsed to zero.  Try making figure larger or axes decorations smaller.\n",
      "  fig.savefig(tmp_out, dpi=_summary_job_context.dpi)\n",
      "/home/charlie/spike-psvae/src/dartsort/vis/gmm.py:1094: UserWarning: constrained_layout not applied because axes sizes collapsed to zero.  Try making figure larger or axes decorations smaller.\n",
      "  fig.savefig(tmp_out, dpi=_summary_job_context.dpi)\n",
      "/home/charlie/spike-psvae/src/dartsort/vis/gmm.py:1094: UserWarning: constrained_layout not applied because axes sizes collapsed to zero.  Try making figure larger or axes decorations smaller.\n",
      "  fig.savefig(tmp_out, dpi=_summary_job_context.dpi)\n",
      "/home/charlie/spike-psvae/src/dartsort/vis/gmm.py:1094: UserWarning: constrained_layout not applied because axes sizes collapsed to zero.  Try making figure larger or axes decorations smaller.\n",
      "  fig.savefig(tmp_out, dpi=_summary_job_context.dpi)\n",
      "/home/charlie/spike-psvae/src/dartsort/vis/gmm.py:1094: UserWarning: constrained_layout not applied because axes sizes collapsed to zero.  Try making figure larger or axes decorations smaller.\n",
      "  fig.savefig(tmp_out, dpi=_summary_job_context.dpi)\n",
      "/home/charlie/spike-psvae/src/dartsort/vis/gmm.py:1094: UserWarning: constrained_layout not applied because axes sizes collapsed to zero.  Try making figure larger or axes decorations smaller.\n",
      "  fig.savefig(tmp_out, dpi=_summary_job_context.dpi)\n",
      "/home/charlie/spike-psvae/src/dartsort/vis/gmm.py:1094: UserWarning: constrained_layout not applied because axes sizes collapsed to zero.  Try making figure larger or axes decorations smaller.\n",
      "  fig.savefig(tmp_out, dpi=_summary_job_context.dpi)\n",
      "/home/charlie/spike-psvae/src/dartsort/vis/gmm.py:1094: UserWarning: constrained_layout not applied because axes sizes collapsed to zero.  Try making figure larger or axes decorations smaller.\n",
      "  fig.savefig(tmp_out, dpi=_summary_job_context.dpi)\n",
      "/home/charlie/spike-psvae/src/dartsort/vis/gmm.py:1094: UserWarning: constrained_layout not applied because axes sizes collapsed to zero.  Try making figure larger or axes decorations smaller.\n",
      "  fig.savefig(tmp_out, dpi=_summary_job_context.dpi)\n",
      "/home/charlie/spike-psvae/src/dartsort/vis/gmm.py:1094: UserWarning: constrained_layout not applied because axes sizes collapsed to zero.  Try making figure larger or axes decorations smaller.\n",
      "  fig.savefig(tmp_out, dpi=_summary_job_context.dpi)\n",
      "/home/charlie/spike-psvae/src/dartsort/vis/gmm.py:1094: UserWarning: constrained_layout not applied because axes sizes collapsed to zero.  Try making figure larger or axes decorations smaller.\n",
      "  fig.savefig(tmp_out, dpi=_summary_job_context.dpi)\n",
      "/home/charlie/spike-psvae/src/dartsort/vis/gmm.py:1094: UserWarning: constrained_layout not applied because axes sizes collapsed to zero.  Try making figure larger or axes decorations smaller.\n",
      "  fig.savefig(tmp_out, dpi=_summary_job_context.dpi)\n",
      "/home/charlie/spike-psvae/src/dartsort/vis/gmm.py:1094: UserWarning: constrained_layout not applied because axes sizes collapsed to zero.  Try making figure larger or axes decorations smaller.\n",
      "  fig.savefig(tmp_out, dpi=_summary_job_context.dpi)\n",
      "/home/charlie/spike-psvae/src/dartsort/vis/gmm.py:1094: UserWarning: constrained_layout not applied because axes sizes collapsed to zero.  Try making figure larger or axes decorations smaller.\n",
      "  fig.savefig(tmp_out, dpi=_summary_job_context.dpi)\n",
      "/home/charlie/spike-psvae/src/dartsort/vis/gmm.py:1094: UserWarning: constrained_layout not applied because axes sizes collapsed to zero.  Try making figure larger or axes decorations smaller.\n",
      "  fig.savefig(tmp_out, dpi=_summary_job_context.dpi)\n",
      "/home/charlie/spike-psvae/src/dartsort/vis/gmm.py:1094: UserWarning: constrained_layout not applied because axes sizes collapsed to zero.  Try making figure larger or axes decorations smaller.\n",
      "  fig.savefig(tmp_out, dpi=_summary_job_context.dpi)\n",
      "/home/charlie/spike-psvae/src/dartsort/vis/gmm.py:1094: UserWarning: constrained_layout not applied because axes sizes collapsed to zero.  Try making figure larger or axes decorations smaller.\n",
      "  fig.savefig(tmp_out, dpi=_summary_job_context.dpi)\n",
      "/home/charlie/spike-psvae/src/dartsort/vis/gmm.py:1094: UserWarning: constrained_layout not applied because axes sizes collapsed to zero.  Try making figure larger or axes decorations smaller.\n",
      "  fig.savefig(tmp_out, dpi=_summary_job_context.dpi)\n",
      "/home/charlie/spike-psvae/src/dartsort/vis/gmm.py:1094: UserWarning: constrained_layout not applied because axes sizes collapsed to zero.  Try making figure larger or axes decorations smaller.\n",
      "  fig.savefig(tmp_out, dpi=_summary_job_context.dpi)\n",
      "/home/charlie/spike-psvae/src/dartsort/vis/gmm.py:1094: UserWarning: constrained_layout not applied because axes sizes collapsed to zero.  Try making figure larger or axes decorations smaller.\n",
      "  fig.savefig(tmp_out, dpi=_summary_job_context.dpi)\n",
      "/home/charlie/spike-psvae/src/dartsort/vis/gmm.py:1094: UserWarning: constrained_layout not applied because axes sizes collapsed to zero.  Try making figure larger or axes decorations smaller.\n",
      "  fig.savefig(tmp_out, dpi=_summary_job_context.dpi)\n",
      "/home/charlie/spike-psvae/src/dartsort/vis/gmm.py:1094: UserWarning: constrained_layout not applied because axes sizes collapsed to zero.  Try making figure larger or axes decorations smaller.\n",
      "  fig.savefig(tmp_out, dpi=_summary_job_context.dpi)\n",
      "/home/charlie/spike-psvae/src/dartsort/vis/gmm.py:1094: UserWarning: constrained_layout not applied because axes sizes collapsed to zero.  Try making figure larger or axes decorations smaller.\n",
      "  fig.savefig(tmp_out, dpi=_summary_job_context.dpi)\n"
     ]
    },
    {
     "ename": "BrokenProcessPool",
     "evalue": "A process in the process pool was terminated abruptly while the future was running or pending.",
     "output_type": "error",
     "traceback": [
      "\u001b[0;31m---------------------------------------------------------------------------\u001b[0m",
      "\u001b[0;31mBrokenProcessPool\u001b[0m                         Traceback (most recent call last)",
      "Cell \u001b[0;32mIn[116], line 1\u001b[0m\n\u001b[0;32m----> 1\u001b[0m \u001b[43mmakeplots\u001b[49m\u001b[43m(\u001b[49m\n\u001b[1;32m      2\u001b[0m \u001b[43m    \u001b[49m\u001b[43mfig_dir\u001b[49m\u001b[43m \u001b[49m\u001b[38;5;241;43m/\u001b[39;49m\u001b[43m \u001b[49m\u001b[38;5;124;43mf\u001b[39;49m\u001b[38;5;124;43m\"\u001b[39;49m\u001b[38;5;132;43;01m{\u001b[39;49;00m\u001b[43mtag\u001b[49m\u001b[38;5;132;43;01m}\u001b[39;49;00m\u001b[38;5;124;43m_002_dpcsplit_recluster_unzip\u001b[39;49m\u001b[38;5;124;43m\"\u001b[39;49m\u001b[43m,\u001b[49m\n\u001b[1;32m      3\u001b[0m \u001b[43m    \u001b[49m\u001b[43mgmm\u001b[49m\u001b[38;5;241;43m=\u001b[39;49m\u001b[43mgmm\u001b[49m\u001b[43m,\u001b[49m\n\u001b[1;32m      4\u001b[0m \u001b[43m    \u001b[49m\u001b[43msorting\u001b[49m\u001b[38;5;241;43m=\u001b[39;49m\u001b[43mfull_dpc\u001b[49m\u001b[43m,\u001b[49m\n\u001b[1;32m      5\u001b[0m \u001b[43m    \u001b[49m\u001b[43mn_jobs\u001b[49m\u001b[38;5;241;43m=\u001b[39;49m\u001b[38;5;241;43m2\u001b[39;49m\u001b[43m,\u001b[49m\n\u001b[1;32m      6\u001b[0m \u001b[43m    \u001b[49m\u001b[43mwith_summaries\u001b[49m\u001b[38;5;241;43m=\u001b[39;49m\u001b[38;5;28;43;01mFalse\u001b[39;49;00m\u001b[43m,\u001b[49m\n\u001b[1;32m      7\u001b[0m \u001b[43m    \u001b[49m\u001b[43mwith_dpcs\u001b[49m\u001b[38;5;241;43m=\u001b[39;49m\u001b[38;5;28;43;01mTrue\u001b[39;49;00m\u001b[43m,\u001b[49m\n\u001b[1;32m      8\u001b[0m \u001b[43m    \u001b[49m\u001b[43mdpc_par\u001b[49m\u001b[38;5;241;43m=\u001b[39;49m\u001b[38;5;28;43;01mTrue\u001b[39;49;00m\u001b[43m,\u001b[49m\n\u001b[1;32m      9\u001b[0m \u001b[43m    \u001b[49m\u001b[43mwith_over_time\u001b[49m\u001b[38;5;241;43m=\u001b[39;49m\u001b[38;5;28;43;01mFalse\u001b[39;49;00m\u001b[43m,\u001b[49m\n\u001b[1;32m     10\u001b[0m \u001b[43m    \u001b[49m\u001b[43moverwrite\u001b[49m\u001b[38;5;241;43m=\u001b[39;49m\u001b[38;5;28;43;01mTrue\u001b[39;49;00m\u001b[43m,\u001b[49m\n\u001b[1;32m     11\u001b[0m \u001b[43m)\u001b[49m\n",
      "Cell \u001b[0;32mIn[4], line 4\u001b[0m, in \u001b[0;36mwithgc.<locals>.wrapper\u001b[0;34m(*args, **kwargs)\u001b[0m\n\u001b[1;32m      2\u001b[0m \u001b[38;5;28;01mdef\u001b[39;00m \u001b[38;5;21mwrapper\u001b[39m(\u001b[38;5;241m*\u001b[39margs, \u001b[38;5;241m*\u001b[39m\u001b[38;5;241m*\u001b[39mkwargs):\n\u001b[1;32m      3\u001b[0m     \u001b[38;5;28;01mtry\u001b[39;00m:\n\u001b[0;32m----> 4\u001b[0m         \u001b[38;5;28;01mreturn\u001b[39;00m \u001b[43mfunction\u001b[49m\u001b[43m(\u001b[49m\u001b[38;5;241;43m*\u001b[39;49m\u001b[43margs\u001b[49m\u001b[43m,\u001b[49m\u001b[43m \u001b[49m\u001b[38;5;241;43m*\u001b[39;49m\u001b[38;5;241;43m*\u001b[39;49m\u001b[43mkwargs\u001b[49m\u001b[43m)\u001b[49m\n\u001b[1;32m      5\u001b[0m     \u001b[38;5;28;01mfinally\u001b[39;00m:\n\u001b[1;32m      6\u001b[0m         \u001b[38;5;28;01mimport\u001b[39;00m \u001b[38;5;21;01mgc\u001b[39;00m; gc\u001b[38;5;241m.\u001b[39mcollect()\n",
      "Cell \u001b[0;32mIn[7], line 131\u001b[0m, in \u001b[0;36mmakeplots\u001b[0;34m(subdir, gmm, sorting, n_jobs, with_summaries, with_dpcs, with_over_time, overwrite, dpc_par)\u001b[0m\n\u001b[1;32m    129\u001b[0m \u001b[38;5;28mprint\u001b[39m(\u001b[38;5;124m\"\u001b[39m\u001b[38;5;124mdpcs\u001b[39m\u001b[38;5;124m\"\u001b[39m)\n\u001b[1;32m    130\u001b[0m \u001b[38;5;28;01mif\u001b[39;00m with_dpcs \u001b[38;5;129;01mand\u001b[39;00m gmm \u001b[38;5;129;01mis\u001b[39;00m \u001b[38;5;129;01mnot\u001b[39;00m \u001b[38;5;28;01mNone\u001b[39;00m:\n\u001b[0;32m--> 131\u001b[0m     \u001b[43mdartvis\u001b[49m\u001b[38;5;241;43m.\u001b[39;49m\u001b[43mgmm\u001b[49m\u001b[38;5;241;43m.\u001b[39;49m\u001b[43mmake_all_gmm_summaries\u001b[49m\u001b[43m(\u001b[49m\n\u001b[1;32m    132\u001b[0m \u001b[43m        \u001b[49m\u001b[43mgmm\u001b[49m\u001b[43m,\u001b[49m\n\u001b[1;32m    133\u001b[0m \u001b[43m        \u001b[49m\u001b[43msubdir\u001b[49m\u001b[43m \u001b[49m\u001b[38;5;241;43m/\u001b[39;49m\u001b[43m \u001b[49m\u001b[38;5;124;43m\"\u001b[39;49m\u001b[38;5;124;43mgmm\u001b[39;49m\u001b[38;5;124;43m\"\u001b[39;49m\u001b[43m,\u001b[49m\n\u001b[1;32m    134\u001b[0m \u001b[43m        \u001b[49m\u001b[43mshow_progress\u001b[49m\u001b[38;5;241;43m=\u001b[39;49m\u001b[38;5;28;43;01mTrue\u001b[39;49;00m\u001b[43m,\u001b[49m\n\u001b[1;32m    135\u001b[0m \u001b[43m        \u001b[49m\u001b[43mn_jobs\u001b[49m\u001b[38;5;241;43m=\u001b[39;49m\u001b[43mn_jobs\u001b[49m\u001b[43m \u001b[49m\u001b[38;5;28;43;01mif\u001b[39;49;00m\u001b[43m \u001b[49m\u001b[43mdpc_par\u001b[49m\u001b[43m \u001b[49m\u001b[38;5;28;43;01melse\u001b[39;49;00m\u001b[43m \u001b[49m\u001b[38;5;241;43m0\u001b[39;49m\u001b[43m,\u001b[49m\n\u001b[1;32m    136\u001b[0m \u001b[43m        \u001b[49m\u001b[43moverwrite\u001b[49m\u001b[38;5;241;43m=\u001b[39;49m\u001b[43moverwrite\u001b[49m\u001b[43m,\u001b[49m\n\u001b[1;32m    137\u001b[0m \u001b[43m    \u001b[49m\u001b[43m)\u001b[49m\n\u001b[1;32m    138\u001b[0m \u001b[38;5;28mprint\u001b[39m(\u001b[38;5;124m\"\u001b[39m\u001b[38;5;124mdpcs done\u001b[39m\u001b[38;5;124m\"\u001b[39m)\n\u001b[1;32m    140\u001b[0m \u001b[38;5;28mprint\u001b[39m(\u001b[38;5;124m\"\u001b[39m\u001b[38;5;124msummaries\u001b[39m\u001b[38;5;124m\"\u001b[39m)\n",
      "File \u001b[0;32m~/spike-psvae/src/dartsort/vis/gmm.py:1016\u001b[0m, in \u001b[0;36mmake_all_gmm_summaries\u001b[0;34m(gmm, save_folder, plots, max_height, figsize, hspace, dpi, image_ext, n_jobs, show_progress, overwrite, unit_ids, **other_global_params)\u001b[0m\n\u001b[1;32m   1009\u001b[0m \u001b[38;5;28;01mif\u001b[39;00m show_progress:\n\u001b[1;32m   1010\u001b[0m     results \u001b[38;5;241m=\u001b[39m tqdm(\n\u001b[1;32m   1011\u001b[0m         results,\n\u001b[1;32m   1012\u001b[0m         desc\u001b[38;5;241m=\u001b[39m\u001b[38;5;124m\"\u001b[39m\u001b[38;5;124mGMM summaries\u001b[39m\u001b[38;5;124m\"\u001b[39m,\n\u001b[1;32m   1013\u001b[0m         smoothing\u001b[38;5;241m=\u001b[39m\u001b[38;5;241m0\u001b[39m,\n\u001b[1;32m   1014\u001b[0m         total\u001b[38;5;241m=\u001b[39m\u001b[38;5;28mlen\u001b[39m(unit_ids),\n\u001b[1;32m   1015\u001b[0m     )\n\u001b[0;32m-> 1016\u001b[0m \u001b[38;5;28;01mfor\u001b[39;00m res \u001b[38;5;129;01min\u001b[39;00m results:\n\u001b[1;32m   1017\u001b[0m     \u001b[38;5;28;01mpass\u001b[39;00m\n",
      "File \u001b[0;32m~/mambaforge/envs/a/lib/python3.11/site-packages/tqdm/notebook.py:254\u001b[0m, in \u001b[0;36mtqdm_notebook.__iter__\u001b[0;34m(self)\u001b[0m\n\u001b[1;32m    252\u001b[0m \u001b[38;5;28;01mtry\u001b[39;00m:\n\u001b[1;32m    253\u001b[0m     it \u001b[38;5;241m=\u001b[39m \u001b[38;5;28msuper\u001b[39m(tqdm_notebook, \u001b[38;5;28mself\u001b[39m)\u001b[38;5;241m.\u001b[39m\u001b[38;5;21m__iter__\u001b[39m()\n\u001b[0;32m--> 254\u001b[0m     \u001b[38;5;28;01mfor\u001b[39;00m obj \u001b[38;5;129;01min\u001b[39;00m it:\n\u001b[1;32m    255\u001b[0m         \u001b[38;5;66;03m# return super(tqdm...) will not catch exception\u001b[39;00m\n\u001b[1;32m    256\u001b[0m         \u001b[38;5;28;01myield\u001b[39;00m obj\n\u001b[1;32m    257\u001b[0m \u001b[38;5;66;03m# NB: except ... [ as ...] breaks IPython async KeyboardInterrupt\u001b[39;00m\n",
      "File \u001b[0;32m~/mambaforge/envs/a/lib/python3.11/site-packages/tqdm/std.py:1178\u001b[0m, in \u001b[0;36mtqdm.__iter__\u001b[0;34m(self)\u001b[0m\n\u001b[1;32m   1175\u001b[0m time \u001b[38;5;241m=\u001b[39m \u001b[38;5;28mself\u001b[39m\u001b[38;5;241m.\u001b[39m_time\n\u001b[1;32m   1177\u001b[0m \u001b[38;5;28;01mtry\u001b[39;00m:\n\u001b[0;32m-> 1178\u001b[0m     \u001b[38;5;28;01mfor\u001b[39;00m obj \u001b[38;5;129;01min\u001b[39;00m iterable:\n\u001b[1;32m   1179\u001b[0m         \u001b[38;5;28;01myield\u001b[39;00m obj\n\u001b[1;32m   1180\u001b[0m         \u001b[38;5;66;03m# Update and possibly print the progressbar.\u001b[39;00m\n\u001b[1;32m   1181\u001b[0m         \u001b[38;5;66;03m# Note: does not call self.update(1) for speed optimisation.\u001b[39;00m\n",
      "File \u001b[0;32m~/mambaforge/envs/a/lib/python3.11/concurrent/futures/process.py:602\u001b[0m, in \u001b[0;36m_chain_from_iterable_of_lists\u001b[0;34m(iterable)\u001b[0m\n\u001b[1;32m    596\u001b[0m \u001b[38;5;28;01mdef\u001b[39;00m \u001b[38;5;21m_chain_from_iterable_of_lists\u001b[39m(iterable):\n\u001b[1;32m    597\u001b[0m \u001b[38;5;250m    \u001b[39m\u001b[38;5;124;03m\"\"\"\u001b[39;00m\n\u001b[1;32m    598\u001b[0m \u001b[38;5;124;03m    Specialized implementation of itertools.chain.from_iterable.\u001b[39;00m\n\u001b[1;32m    599\u001b[0m \u001b[38;5;124;03m    Each item in *iterable* should be a list.  This function is\u001b[39;00m\n\u001b[1;32m    600\u001b[0m \u001b[38;5;124;03m    careful not to keep references to yielded objects.\u001b[39;00m\n\u001b[1;32m    601\u001b[0m \u001b[38;5;124;03m    \"\"\"\u001b[39;00m\n\u001b[0;32m--> 602\u001b[0m     \u001b[38;5;28;01mfor\u001b[39;00m element \u001b[38;5;129;01min\u001b[39;00m iterable:\n\u001b[1;32m    603\u001b[0m         element\u001b[38;5;241m.\u001b[39mreverse()\n\u001b[1;32m    604\u001b[0m         \u001b[38;5;28;01mwhile\u001b[39;00m element:\n",
      "File \u001b[0;32m~/mambaforge/envs/a/lib/python3.11/concurrent/futures/_base.py:619\u001b[0m, in \u001b[0;36mExecutor.map.<locals>.result_iterator\u001b[0;34m()\u001b[0m\n\u001b[1;32m    616\u001b[0m \u001b[38;5;28;01mwhile\u001b[39;00m fs:\n\u001b[1;32m    617\u001b[0m     \u001b[38;5;66;03m# Careful not to keep a reference to the popped future\u001b[39;00m\n\u001b[1;32m    618\u001b[0m     \u001b[38;5;28;01mif\u001b[39;00m timeout \u001b[38;5;129;01mis\u001b[39;00m \u001b[38;5;28;01mNone\u001b[39;00m:\n\u001b[0;32m--> 619\u001b[0m         \u001b[38;5;28;01myield\u001b[39;00m \u001b[43m_result_or_cancel\u001b[49m\u001b[43m(\u001b[49m\u001b[43mfs\u001b[49m\u001b[38;5;241;43m.\u001b[39;49m\u001b[43mpop\u001b[49m\u001b[43m(\u001b[49m\u001b[43m)\u001b[49m\u001b[43m)\u001b[49m\n\u001b[1;32m    620\u001b[0m     \u001b[38;5;28;01melse\u001b[39;00m:\n\u001b[1;32m    621\u001b[0m         \u001b[38;5;28;01myield\u001b[39;00m _result_or_cancel(fs\u001b[38;5;241m.\u001b[39mpop(), end_time \u001b[38;5;241m-\u001b[39m time\u001b[38;5;241m.\u001b[39mmonotonic())\n",
      "File \u001b[0;32m~/mambaforge/envs/a/lib/python3.11/concurrent/futures/_base.py:317\u001b[0m, in \u001b[0;36m_result_or_cancel\u001b[0;34m(***failed resolving arguments***)\u001b[0m\n\u001b[1;32m    315\u001b[0m \u001b[38;5;28;01mtry\u001b[39;00m:\n\u001b[1;32m    316\u001b[0m     \u001b[38;5;28;01mtry\u001b[39;00m:\n\u001b[0;32m--> 317\u001b[0m         \u001b[38;5;28;01mreturn\u001b[39;00m \u001b[43mfut\u001b[49m\u001b[38;5;241;43m.\u001b[39;49m\u001b[43mresult\u001b[49m\u001b[43m(\u001b[49m\u001b[43mtimeout\u001b[49m\u001b[43m)\u001b[49m\n\u001b[1;32m    318\u001b[0m     \u001b[38;5;28;01mfinally\u001b[39;00m:\n\u001b[1;32m    319\u001b[0m         fut\u001b[38;5;241m.\u001b[39mcancel()\n",
      "File \u001b[0;32m~/mambaforge/envs/a/lib/python3.11/concurrent/futures/_base.py:456\u001b[0m, in \u001b[0;36mFuture.result\u001b[0;34m(self, timeout)\u001b[0m\n\u001b[1;32m    454\u001b[0m     \u001b[38;5;28;01mraise\u001b[39;00m CancelledError()\n\u001b[1;32m    455\u001b[0m \u001b[38;5;28;01melif\u001b[39;00m \u001b[38;5;28mself\u001b[39m\u001b[38;5;241m.\u001b[39m_state \u001b[38;5;241m==\u001b[39m FINISHED:\n\u001b[0;32m--> 456\u001b[0m     \u001b[38;5;28;01mreturn\u001b[39;00m \u001b[38;5;28;43mself\u001b[39;49m\u001b[38;5;241;43m.\u001b[39;49m\u001b[43m__get_result\u001b[49m\u001b[43m(\u001b[49m\u001b[43m)\u001b[49m\n\u001b[1;32m    457\u001b[0m \u001b[38;5;28;01melse\u001b[39;00m:\n\u001b[1;32m    458\u001b[0m     \u001b[38;5;28;01mraise\u001b[39;00m \u001b[38;5;167;01mTimeoutError\u001b[39;00m()\n",
      "File \u001b[0;32m~/mambaforge/envs/a/lib/python3.11/concurrent/futures/_base.py:401\u001b[0m, in \u001b[0;36mFuture.__get_result\u001b[0;34m(self)\u001b[0m\n\u001b[1;32m    399\u001b[0m \u001b[38;5;28;01mif\u001b[39;00m \u001b[38;5;28mself\u001b[39m\u001b[38;5;241m.\u001b[39m_exception:\n\u001b[1;32m    400\u001b[0m     \u001b[38;5;28;01mtry\u001b[39;00m:\n\u001b[0;32m--> 401\u001b[0m         \u001b[38;5;28;01mraise\u001b[39;00m \u001b[38;5;28mself\u001b[39m\u001b[38;5;241m.\u001b[39m_exception\n\u001b[1;32m    402\u001b[0m     \u001b[38;5;28;01mfinally\u001b[39;00m:\n\u001b[1;32m    403\u001b[0m         \u001b[38;5;66;03m# Break a reference cycle with the exception in self._exception\u001b[39;00m\n\u001b[1;32m    404\u001b[0m         \u001b[38;5;28mself\u001b[39m \u001b[38;5;241m=\u001b[39m \u001b[38;5;28;01mNone\u001b[39;00m\n",
      "\u001b[0;31mBrokenProcessPool\u001b[0m: A process in the process pool was terminated abruptly while the future was running or pending."
     ]
    }
   ],
   "source": [
    "makeplots(\n",
    "    fig_dir / f\"{tag}_002_dpcsplit_recluster_unzip\",\n",
    "    gmm=gmm,\n",
    "    sorting=full_dpc,\n",
    "    n_jobs=2,\n",
    "    with_summaries=False,\n",
    "    with_dpcs=True,\n",
    "    dpc_par=True,\n",
    "    with_over_time=False,\n",
    "    overwrite=True,\n",
    ")"
   ]
  },
  {
   "cell_type": "code",
   "execution_count": null,
   "id": "1c1e0acd-ed8b-43b3-ab98-df897ba12fa8",
   "metadata": {
    "tags": []
   },
   "outputs": [],
   "source": [
    "for j in range(10):\n",
    "    gmm.reassign()\n",
    "    gmm.m_step(force=True, fit_residual=j == 9)"
   ]
  },
  {
   "cell_type": "code",
   "execution_count": null,
   "id": "03c5a987-ad74-455a-b620-802c83053c74",
   "metadata": {
    "scrolled": true,
    "tags": []
   },
   "outputs": [],
   "source": [
    "makeplots(\n",
    "    fig_dir / f\"{tag}_003_em\",\n",
    "    gmm=gmm,\n",
    "    sorting=full_dpc,\n",
    "    n_jobs=2,\n",
    "    with_summaries=False,\n",
    "    with_dpcs=True,\n",
    "    dpc_par=True,\n",
    "    with_over_time=False,\n",
    "    overwrite=True,\n",
    ")"
   ]
  },
  {
   "cell_type": "code",
   "execution_count": null,
   "id": "12f97fdf-2a5a-4a35-96e0-fc469f256297",
   "metadata": {},
   "outputs": [],
   "source": []
  },
  {
   "cell_type": "code",
   "execution_count": null,
   "id": "0ad2dd66-4dee-4608-baed-f5007fec8636",
   "metadata": {},
   "outputs": [],
   "source": []
  },
  {
   "cell_type": "code",
   "execution_count": null,
   "id": "9a8284d1-b8d3-491a-9891-81cb954fcaff",
   "metadata": {
    "tags": []
   },
   "outputs": [],
   "source": [
    "gmm.cpu();"
   ]
  },
  {
   "cell_type": "code",
   "execution_count": null,
   "id": "d4c0f597-d285-43b4-bc1f-d105b4d7f7a9",
   "metadata": {
    "tags": []
   },
   "outputs": [],
   "source": [
    "makeplots(\n",
    "    fig_dir / f\"{tag}_000_zipper\",\n",
    "    gmm=gmm,\n",
    "    sorting=full_dpc,\n",
    "    n_jobs=2,\n",
    "    with_summaries=False,\n",
    "    with_dpcs=True,\n",
    "    dpc_par=True,\n",
    "    with_over_time=False,\n",
    "    overwrite=False,\n",
    ")"
   ]
  },
  {
   "cell_type": "code",
   "execution_count": null,
   "id": "a4dd8a82-1a27-4362-86bc-75ecf4a7f528",
   "metadata": {
    "tags": []
   },
   "outputs": [],
   "source": [
    "gmm.cuda();"
   ]
  },
  {
   "cell_type": "code",
   "execution_count": null,
   "id": "f47d4b09-a960-4a36-ae42-fb690bcdf4d7",
   "metadata": {
    "tags": []
   },
   "outputs": [],
   "source": [
    "import gc; gc.collect()"
   ]
  },
  {
   "cell_type": "code",
   "execution_count": null,
   "id": "77b192cc-20aa-4556-92b2-baf1c4bb7e54",
   "metadata": {
    "tags": []
   },
   "outputs": [],
   "source": [
    "for _ in range(10):\n",
    "    gmm.reassign()\n",
    "    gmm.m_step(force=True)"
   ]
  },
  {
   "cell_type": "code",
   "execution_count": null,
   "id": "1e0e6bd0-5bce-44c5-9f54-8696f970ae6b",
   "metadata": {
    "tags": []
   },
   "outputs": [],
   "source": [
    "gmm.cpu(); gc.collect();"
   ]
  },
  {
   "cell_type": "code",
   "execution_count": null,
   "id": "78ea485c-7fc6-46a5-8d9b-2ae3af535a1d",
   "metadata": {
    "tags": []
   },
   "outputs": [],
   "source": [
    "makeplots(\n",
    "    fig_dir / f\"{tag}_000_zipreas10\",\n",
    "    gmm=gmm,\n",
    "    sorting=full_dpc,\n",
    "    n_jobs=2,\n",
    "    with_summaries=True,\n",
    "    with_dpcs=True,\n",
    "    dpc_par=True,\n",
    "    with_over_time=False,\n",
    "    overwrite=False,\n",
    ")"
   ]
  },
  {
   "cell_type": "code",
   "execution_count": null,
   "id": "458a8ab6-5e60-49d4-8ebf-c8666c8cde91",
   "metadata": {
    "tags": []
   },
   "outputs": [],
   "source": [
    "dpczipreas10labels = gmm.labels.numpy(force=True)\n",
    "np.save(\"dpczipreas10labels.npy\", dpczipreas10labels)"
   ]
  },
  {
   "cell_type": "code",
   "execution_count": null,
   "id": "d5a78536-2718-446d-8962-76da2af8c11d",
   "metadata": {
    "tags": []
   },
   "outputs": [],
   "source": [
    "dpczipreas10labels = np.load(\"dpczipreas10labels.npy\")"
   ]
  },
  {
   "cell_type": "code",
   "execution_count": null,
   "id": "3228783a-ebf4-4fa7-921a-510c14091dbd",
   "metadata": {
    "tags": []
   },
   "outputs": [],
   "source": [
    "# let's try a global merge"
   ]
  },
  {
   "cell_type": "code",
   "execution_count": null,
   "id": "52698e6f-c00b-430a-8e82-a69101efa107",
   "metadata": {
    "tags": []
   },
   "outputs": [],
   "source": [
    "full_labels = np.full_like(full_dpc.labels, -1)\n",
    "full_labels[gmm.data.keepers] = dpczipreas10labels\n",
    "sorting = dataclasses.replace(full_dpc, labels=full_labels)"
   ]
  },
  {
   "cell_type": "code",
   "execution_count": null,
   "id": "92e0993b-98f6-420a-9957-e4997091bb99",
   "metadata": {
    "tags": []
   },
   "outputs": [],
   "source": [
    "merged_sorting = dartsort.merge.merge_templates(\n",
    "    sorting,\n",
    "    rec,\n",
    "    template_config=cfg.split_merge_config.merge_template_config,\n",
    "    motion_est=motion_est,\n",
    "    sym_function=np.maximum,\n",
    ")"
   ]
  },
  {
   "cell_type": "code",
   "execution_count": null,
   "id": "9b31e548-7c25-4378-a78c-517f4a568c4a",
   "metadata": {
    "tags": []
   },
   "outputs": [],
   "source": [
    "gmm.models.clear()\n",
    "globmerge_labels = merged_sorting.labels[gmm.data.keepers]\n",
    "gmm.labels = torch.tensor(globmerge_labels).to(gmm.labels)\n",
    "gmm.cleanup()\n",
    "\n",
    "gmm.do_interp = True\n",
    "\n",
    "gmm.cuda();\n",
    "\n",
    "gmm.m_step()\n",
    "\n",
    "gmm.cpu(); gc.collect()"
   ]
  },
  {
   "cell_type": "code",
   "execution_count": null,
   "id": "aac5d3fe-64db-4503-bd70-1a2c8780373d",
   "metadata": {
    "tags": []
   },
   "outputs": [],
   "source": [
    "makeplots(\n",
    "    fig_dir / f\"{tag}_001_u_globmerge\",\n",
    "    gmm=gmm,\n",
    "    sorting=merged_sorting,\n",
    "    n_jobs=2,\n",
    "    with_summaries=True,\n",
    "    with_dpcs=True,\n",
    "    dpc_par=True,\n",
    "    with_over_time=False,\n",
    "    overwrite=False,\n",
    ")"
   ]
  },
  {
   "cell_type": "code",
   "execution_count": null,
   "id": "e59acbef-5797-4ef0-aba7-d273882855e8",
   "metadata": {
    "tags": []
   },
   "outputs": [],
   "source": [
    "merged2_sorting = dartsort.merge.merge_templates(\n",
    "    merged_sorting,\n",
    "    rec,\n",
    "    template_config=cfg.split_merge_config.merge_template_config,\n",
    "    motion_est=motion_est,\n",
    "    sym_function=np.maximum,\n",
    ")"
   ]
  },
  {
   "cell_type": "code",
   "execution_count": null,
   "id": "c98b2d7a-c5b1-4f77-9f6e-0d96eb326b3d",
   "metadata": {
    "tags": []
   },
   "outputs": [],
   "source": [
    "gmm.models.clear()\n",
    "globmerge2_labels = merged2_sorting.labels[gmm.data.keepers]\n",
    "gmm.labels = torch.tensor(globmerge2_labels).to(gmm.labels)\n",
    "gmm.cleanup()\n",
    "gmm.do_interp = True\n",
    "# gmm.cuda();\n",
    "gmm.m_step()\n",
    "gmm.cpu(); gc.collect()"
   ]
  },
  {
   "cell_type": "code",
   "execution_count": null,
   "id": "b51a6e33-8ec3-4122-ac58-5a2360024450",
   "metadata": {
    "tags": []
   },
   "outputs": [],
   "source": [
    "gc.collect()"
   ]
  },
  {
   "cell_type": "code",
   "execution_count": null,
   "id": "df732f2d-c3d5-4761-8976-3162b5384e6a",
   "metadata": {
    "tags": []
   },
   "outputs": [],
   "source": [
    "makeplots(\n",
    "    fig_dir / f\"{tag}_001_u_globmerge2\",\n",
    "    gmm=gmm,\n",
    "    sorting=merged_sorting,\n",
    "    n_jobs=4,\n",
    "    with_summaries=True,\n",
    "    with_dpcs=True,\n",
    "    dpc_par=True,\n",
    "    with_over_time=False,\n",
    "    overwrite=False,\n",
    ")"
   ]
  },
  {
   "cell_type": "code",
   "execution_count": null,
   "id": "52f1d834-bcf3-479d-869d-be8b8666c393",
   "metadata": {
    "tags": []
   },
   "outputs": [],
   "source": [
    "np.save(\"globmerge2_labels.npy\", globmerge2_labels)"
   ]
  },
  {
   "cell_type": "code",
   "execution_count": null,
   "id": "a332ef92-96dc-4262-af07-39ecde4912c9",
   "metadata": {
    "tags": []
   },
   "outputs": [],
   "source": [
    "globmerge2_labels = np.load(\"globmerge2_labels.npy\")"
   ]
  },
  {
   "cell_type": "code",
   "execution_count": null,
   "id": "12f4f663-cd96-41a1-9b29-5207d10c4e4b",
   "metadata": {
    "tags": []
   },
   "outputs": [],
   "source": [
    "# e/m over time\n",
    "gmm.models.clear()\n",
    "gmm.labels = torch.tensor(globmerge2_labels).to(gmm.labels)\n",
    "gmm.cleanup()\n",
    "gmm.do_interp = True\n",
    "gmm.cuda();\n",
    "gmm.m_step()\n",
    "# gmm.cpu(); gc.collect()"
   ]
  },
  {
   "cell_type": "code",
   "execution_count": null,
   "id": "97550b85-3ce0-496d-9a6b-395674aa2c80",
   "metadata": {
    "tags": []
   },
   "outputs": [],
   "source": [
    "for _ in range(3):\n",
    "    gmm.reassign()\n",
    "    gmm.m_step(force=True)"
   ]
  },
  {
   "cell_type": "code",
   "execution_count": null,
   "id": "2bfe8a8e-a516-4e76-9e67-83fbc3bd82f5",
   "metadata": {
    "tags": []
   },
   "outputs": [],
   "source": [
    "gmm.cpu(); gc.collect()"
   ]
  },
  {
   "cell_type": "code",
   "execution_count": null,
   "id": "815be1de-20e0-4736-a3de-7be18a6aa578",
   "metadata": {
    "tags": []
   },
   "outputs": [],
   "source": [
    "makeplots(\n",
    "    fig_dir / f\"{tag}_001_u_globmerge2_emtime\",\n",
    "    gmm=gmm,\n",
    "    sorting=merged_sorting,\n",
    "    n_jobs=4,\n",
    "    with_summaries=True,\n",
    "    with_dpcs=True,\n",
    "    dpc_par=True,\n",
    "    with_over_time=False,\n",
    "    overwrite=False,\n",
    ")"
   ]
  },
  {
   "cell_type": "code",
   "execution_count": null,
   "id": "44df2056-5321-45b8-87fe-b6be73651333",
   "metadata": {
    "tags": []
   },
   "outputs": [],
   "source": [
    "# e/m NOT over time\n",
    "gmm.models.clear()\n",
    "gmm.labels = torch.tensor(globmerge2_labels).to(gmm.labels)\n",
    "gmm.cleanup()\n",
    "gmm.do_interp = False\n",
    "gmm.cuda();\n",
    "gmm.m_step()\n",
    "# gmm.cpu(); gc.collect()"
   ]
  },
  {
   "cell_type": "code",
   "execution_count": null,
   "id": "c6a1a4d0-7fdf-421d-9266-480006209fd7",
   "metadata": {
    "tags": []
   },
   "outputs": [],
   "source": [
    "for _ in range(3):\n",
    "    gmm.reassign()\n",
    "    gmm.m_step(force=True)"
   ]
  },
  {
   "cell_type": "code",
   "execution_count": null,
   "id": "dc3edaee-8b47-42c8-ae20-bd058d4bd121",
   "metadata": {
    "tags": []
   },
   "outputs": [],
   "source": [
    "gmm.cpu(); gc.collect()"
   ]
  },
  {
   "cell_type": "code",
   "execution_count": null,
   "id": "bbb82047-743b-46b3-be8d-76b842d24fa8",
   "metadata": {
    "tags": []
   },
   "outputs": [],
   "source": [
    "makeplots(\n",
    "    fig_dir / f\"{tag}_001_u_globmerge2_emnotime\",\n",
    "    gmm=gmm,\n",
    "    sorting=merged_sorting,\n",
    "    n_jobs=4,\n",
    "    with_summaries=True,\n",
    "    with_dpcs=True,\n",
    "    dpc_par=True,\n",
    "    with_over_time=False,\n",
    "    overwrite=False,\n",
    ")"
   ]
  },
  {
   "cell_type": "code",
   "execution_count": null,
   "id": "a180d8d7-a5c7-4bf8-8d70-74626d2c7813",
   "metadata": {
    "tags": []
   },
   "outputs": [],
   "source": [
    "# e/m NOT over time, but scaled\n",
    "gmm.models.clear()\n",
    "gmm.labels = torch.tensor(globmerge2_labels).to(gmm.labels)\n",
    "gmm.cleanup()\n",
    "gmm.do_interp = False\n",
    "gmm.reassign_metric = \"1-scaledr^2\"\n",
    "gmm.cuda();\n",
    "gmm.m_step()\n",
    "# gmm.cpu(); gc.collect()"
   ]
  },
  {
   "cell_type": "code",
   "execution_count": null,
   "id": "6876cb18-c51f-4ee2-9f10-b998e9878a59",
   "metadata": {
    "tags": []
   },
   "outputs": [],
   "source": [
    "for _ in range(3):\n",
    "    gmm.reassign()\n",
    "    gmm.m_step(force=True)"
   ]
  },
  {
   "cell_type": "code",
   "execution_count": null,
   "id": "deccc16f-d95c-46c2-9291-2c62c3a4c9f9",
   "metadata": {
    "tags": []
   },
   "outputs": [],
   "source": [
    "gmm.cpu(); gc.collect()"
   ]
  },
  {
   "cell_type": "code",
   "execution_count": null,
   "id": "0ee59d0d-0371-45ac-be0b-826bb1f7be6f",
   "metadata": {
    "tags": []
   },
   "outputs": [],
   "source": [
    "makeplots(\n",
    "    fig_dir / f\"{tag}_001_u_globmerge2_emnotimescaled\",\n",
    "    gmm=gmm,\n",
    "    sorting=merged_sorting,\n",
    "    n_jobs=4,\n",
    "    with_summaries=True,\n",
    "    with_dpcs=True,\n",
    "    dpc_par=True,\n",
    "    with_over_time=False,\n",
    "    overwrite=False,\n",
    ")"
   ]
  },
  {
   "cell_type": "code",
   "execution_count": null,
   "id": "84a7f128-7917-4156-a8fc-7eb7afc0f995",
   "metadata": {
    "tags": []
   },
   "outputs": [],
   "source": []
  },
  {
   "cell_type": "code",
   "execution_count": null,
   "id": "2415cf12-c88e-45c5-8d60-dbde3d9121da",
   "metadata": {
    "scrolled": true,
    "tags": []
   },
   "outputs": [],
   "source": [
    "# e/m over time, higher rank\n",
    "gmm.models.clear()\n",
    "# gmm.unit_kw['fa_kwargs']['latent_dim'] = 1\n",
    "# gmm.unit_kw['fa_kwargs']['do_prior'] = True\n",
    "# gmm.unit_kw['fa_kwargs']['latent_update'] = 'gradient'\n",
    "# gmm.unit_kw['fa_kwargs']['interp_kind'] = 'linear'\n",
    "# gmm.unit_kw['fa_kwargs']['learn_prior_noise_fraction'] = True\n",
    "gmm.labels = torch.tensor(globmerge2_labels).to(gmm.labels)\n",
    "gmm.cleanup()\n",
    "gmm.do_interp = False\n",
    "gmm.reassign_metric = \"1-r^2\"\n",
    "gmm.cuda();\n",
    "gmm.m_step()\n",
    "# gmm.cpu(); gc.collect()"
   ]
  },
  {
   "cell_type": "code",
   "execution_count": null,
   "id": "7e6c1f9a-6c08-4549-aed8-802186c08d44",
   "metadata": {
    "tags": []
   },
   "outputs": [],
   "source": [
    "gmm.residual_dpc_split()\n",
    "gmm.zipper_split()"
   ]
  },
  {
   "cell_type": "code",
   "execution_count": null,
   "id": "62c43d1e-a9a7-4923-98fa-9023c500f9ea",
   "metadata": {
    "tags": []
   },
   "outputs": [],
   "source": [
    "for _ in range(10):\n",
    "    gmm.reassign()\n",
    "    gmm.m_step(force=True)"
   ]
  },
  {
   "cell_type": "code",
   "execution_count": null,
   "id": "30ff8fcc-e5a1-4c81-8c58-32d13cacc5a1",
   "metadata": {
    "tags": []
   },
   "outputs": [],
   "source": [
    "makeplots(\n",
    "    fig_dir / f\"{tag}_001_u_globmerge2_split_em10\",\n",
    "    gmm=gmm,\n",
    "    sorting=merged_sorting,\n",
    "    n_jobs=4,\n",
    "    with_summaries=True,\n",
    "    with_dpcs=True,\n",
    "    dpc_par=True,\n",
    "    with_over_time=False,\n",
    "    overwrite=True,\n",
    ")"
   ]
  },
  {
   "cell_type": "code",
   "execution_count": null,
   "id": "56dcabc7-5b80-4cbe-bc0a-92600eb417ad",
   "metadata": {
    "tags": []
   },
   "outputs": [],
   "source": [
    "full_labels = np.full_like(full_dpc.labels, -1)\n",
    "full_labels[gmm.data.keepers] = gmm.labels\n",
    "merged_sorting = dataclasses.replace(full_dpc, labels=full_labels)\n",
    "\n",
    "merged_sorting = dartsort.merge.merge_templates(\n",
    "    merged_sorting,\n",
    "    rec,\n",
    "    template_config=cfg.split_merge_config.merge_template_config,\n",
    "    motion_est=motion_est,\n",
    "    sym_function=np.maximum,\n",
    ")\n",
    "merged_sorting = dartsort.merge.merge_templates(\n",
    "    merged_sorting,\n",
    "    rec,\n",
    "    template_config=cfg.split_merge_config.merge_template_config,\n",
    "    motion_est=motion_est,\n",
    "    sym_function=np.maximum,\n",
    ")"
   ]
  },
  {
   "cell_type": "code",
   "execution_count": null,
   "id": "53c6ad91-b172-45e6-b2f7-f43a96a02bc3",
   "metadata": {
    "tags": []
   },
   "outputs": [],
   "source": [
    "gmm.models.clear()\n",
    "gmm.labels = torch.tensor(merged_sorting.labels[gmm.data.keepers]).to(gmm.labels)\n",
    "gmm.cleanup()\n",
    "gmm.do_interp = False\n",
    "gmm.reassign_metric = \"1-r^2\"\n",
    "gmm.cuda();\n",
    "gmm.m_step()"
   ]
  },
  {
   "cell_type": "code",
   "execution_count": null,
   "id": "c66338b1-9b48-49d5-9573-cfbf5916ecdc",
   "metadata": {
    "tags": []
   },
   "outputs": [],
   "source": [
    "gmm.cpu(); gc.collect()"
   ]
  },
  {
   "cell_type": "code",
   "execution_count": null,
   "id": "ae6312b5-7210-4457-b561-f6454f584a8c",
   "metadata": {
    "tags": []
   },
   "outputs": [],
   "source": [
    "makeplots(\n",
    "    fig_dir / f\"{tag}_001_u_globmerge2_split_em10_globmerge2\",\n",
    "    gmm=gmm,\n",
    "    sorting=merged_sorting,\n",
    "    n_jobs=4,\n",
    "    with_summaries=True,\n",
    "    with_dpcs=True,\n",
    "    dpc_par=True,\n",
    "    with_over_time=False,\n",
    "    overwrite=True,\n",
    ")"
   ]
  },
  {
   "cell_type": "code",
   "execution_count": null,
   "id": "d74c253a-34ce-4698-9e08-609709975b67",
   "metadata": {},
   "outputs": [],
   "source": []
  },
  {
   "cell_type": "code",
   "execution_count": null,
   "id": "7013ee3c-d3e8-4e99-ac99-83946a0e563d",
   "metadata": {
    "tags": []
   },
   "outputs": [],
   "source": [
    "for _ in range(3):\n",
    "    gmm.reassign()\n",
    "    gmm.m_step(force=True)"
   ]
  },
  {
   "cell_type": "code",
   "execution_count": null,
   "id": "79905e1e-f409-4a9e-ba47-3574f38c0b2e",
   "metadata": {
    "tags": []
   },
   "outputs": [],
   "source": [
    "gmm.cpu(); gc.collect()"
   ]
  },
  {
   "cell_type": "code",
   "execution_count": null,
   "id": "ffd93fa1-e5bb-4b7d-a00b-0c6fe1f0dec4",
   "metadata": {
    "tags": []
   },
   "outputs": [],
   "source": [
    "makeplots(\n",
    "    fig_dir / f\"{tag}_001_u_globmerge2_emtimelinear\",\n",
    "    gmm=gmm,\n",
    "    sorting=merged_sorting,\n",
    "    n_jobs=4,\n",
    "    with_summaries=True,\n",
    "    with_dpcs=True,\n",
    "    dpc_par=True,\n",
    "    with_over_time=False,\n",
    "    overwrite=True,\n",
    ")"
   ]
  },
  {
   "cell_type": "code",
   "execution_count": null,
   "id": "5dccca60-708e-4b5d-b4da-b931e42da543",
   "metadata": {},
   "outputs": [],
   "source": []
  },
  {
   "cell_type": "code",
   "execution_count": null,
   "id": "ec1ad508-2306-4411-a115-243b73ab4880",
   "metadata": {},
   "outputs": [],
   "source": []
  },
  {
   "cell_type": "code",
   "execution_count": null,
   "id": "8ab97a1e-7db6-47e4-bbb3-a98907cab521",
   "metadata": {},
   "outputs": [],
   "source": []
  },
  {
   "cell_type": "code",
   "execution_count": null,
   "id": "819c26e4-7140-4562-9777-15d817cd827f",
   "metadata": {},
   "outputs": [],
   "source": []
  },
  {
   "cell_type": "code",
   "execution_count": null,
   "id": "28868cf8-f64c-4919-ab34-d95eb00ed013",
   "metadata": {},
   "outputs": [],
   "source": []
  },
  {
   "cell_type": "code",
   "execution_count": null,
   "id": "ad7dc7b7-b67f-4648-a270-f5217bca4f16",
   "metadata": {},
   "outputs": [],
   "source": []
  },
  {
   "cell_type": "code",
   "execution_count": null,
   "id": "ff325c39-6c49-4f09-8d92-89d1b6e198c0",
   "metadata": {},
   "outputs": [],
   "source": []
  },
  {
   "cell_type": "code",
   "execution_count": null,
   "id": "aba9ab2c-69d9-4655-b57b-6a868a5533b5",
   "metadata": {},
   "outputs": [],
   "source": []
  },
  {
   "cell_type": "code",
   "execution_count": null,
   "id": "ae233d61-afe5-4755-bf38-d6d1e1e62a8d",
   "metadata": {},
   "outputs": [],
   "source": []
  },
  {
   "cell_type": "code",
   "execution_count": null,
   "id": "156c2527-4db9-454b-a8f4-15628732abdf",
   "metadata": {},
   "outputs": [],
   "source": []
  },
  {
   "cell_type": "code",
   "execution_count": null,
   "id": "06c932da-baf7-4c1b-b596-f3f60eb1f074",
   "metadata": {
    "tags": []
   },
   "outputs": [],
   "source": [
    "1"
   ]
  },
  {
   "cell_type": "code",
   "execution_count": null,
   "id": "86edfcee-b9cd-46b1-ab22-af0982eafd47",
   "metadata": {
    "tags": []
   },
   "outputs": [],
   "source": [
    "for _ in range(10):\n",
    "    gmm.reassign()\n",
    "    gmm.m_step(force=True)"
   ]
  },
  {
   "cell_type": "code",
   "execution_count": null,
   "id": "977549ca-e071-4b81-9634-9e3d401555a4",
   "metadata": {
    "tags": []
   },
   "outputs": [],
   "source": [
    "makeplots(\n",
    "    fig_dir / f\"{tag}_000_zipreasmoremore\",\n",
    "    gmm=gmm,\n",
    "    sorting=full_dpc,\n",
    "    n_jobs=0,\n",
    "    with_summaries=True,\n",
    "    with_dpcs=True,\n",
    "    dpc_par=True,\n",
    "    with_over_time=False,\n",
    "    overwrite=False,\n",
    ")"
   ]
  },
  {
   "cell_type": "code",
   "execution_count": null,
   "id": "21643b9c-49de-4603-8b9a-0eb22517a14c",
   "metadata": {},
   "outputs": [],
   "source": []
  },
  {
   "cell_type": "code",
   "execution_count": null,
   "id": "6d7e5a13-1e4f-457f-9302-570ff19a1c3b",
   "metadata": {
    "tags": []
   },
   "outputs": [],
   "source": [
    "gmm.residual_dpc_split()\n",
    "gmm.zipper_split()\n",
    "gmm.recluster_outliers()\n",
    "gmm.m_step()\n",
    "gmm.residual_dpc_split()\n",
    "gmm.zipper_split()"
   ]
  },
  {
   "cell_type": "code",
   "execution_count": null,
   "id": "066d461d-f162-4408-9c22-a6011e079d2f",
   "metadata": {
    "tags": []
   },
   "outputs": [],
   "source": [
    "import gc; gc.collect()"
   ]
  },
  {
   "cell_type": "code",
   "execution_count": null,
   "id": "9eff9aa7-de20-4e84-98fe-fc757080b6a9",
   "metadata": {
    "tags": []
   },
   "outputs": [],
   "source": [
    "gmm.cpu();"
   ]
  },
  {
   "cell_type": "code",
   "execution_count": null,
   "id": "2446d930-504b-4644-8ed3-5fbf28d9e0cf",
   "metadata": {
    "tags": []
   },
   "outputs": [],
   "source": [
    "gmm.device"
   ]
  },
  {
   "cell_type": "code",
   "execution_count": null,
   "id": "3ea3f4c5-42cc-4e0f-8451-ce40634ce65a",
   "metadata": {
    "tags": []
   },
   "outputs": [],
   "source": [
    "gmm.cuda();"
   ]
  },
  {
   "cell_type": "code",
   "execution_count": null,
   "id": "59790fb0-1d43-43a7-9ce9-2568c1c19e3d",
   "metadata": {
    "tags": []
   },
   "outputs": [],
   "source": [
    "makeplots(\n",
    "    fig_dir / f\"{tag}_001_splitreclussplit\",\n",
    "    gmm=gmm,\n",
    "    sorting=full_dpc,\n",
    "    n_jobs=4,\n",
    "    with_summaries=False,\n",
    "    with_dpcs=True,\n",
    "    dpc_par=True,\n",
    "    with_over_time=False,\n",
    "    overwrite=False,\n",
    ")"
   ]
  },
  {
   "cell_type": "code",
   "execution_count": null,
   "id": "06b089b6-0448-4ce2-8759-94e7a175226c",
   "metadata": {
    "tags": []
   },
   "outputs": [],
   "source": [
    "for _ in range(3):\n",
    "    gmm.reassign()\n",
    "    gmm.m_step(force=True)"
   ]
  },
  {
   "cell_type": "code",
   "execution_count": null,
   "id": "cdb3047c-b309-421d-b8f1-254a642eaa0d",
   "metadata": {
    "tags": []
   },
   "outputs": [],
   "source": [
    "for _ in range(3):\n",
    "    gmm.reassign()\n",
    "    gmm.m_step(force=True)"
   ]
  },
  {
   "cell_type": "code",
   "execution_count": null,
   "id": "bb10fea5-b489-4615-9c4f-63f11adf2cd3",
   "metadata": {
    "tags": []
   },
   "outputs": [],
   "source": [
    "for _ in range(3):\n",
    "    gmm.reassign()\n",
    "    gmm.m_step(force=True)"
   ]
  },
  {
   "cell_type": "code",
   "execution_count": null,
   "id": "88a097ef-4116-4912-9bc2-b2202ba3c00e",
   "metadata": {
    "tags": []
   },
   "outputs": [],
   "source": [
    "makeplots(\n",
    "    fig_dir / f\"{tag}_001_split_em\",\n",
    "    gmm=gmm,\n",
    "    sorting=full_dpc,\n",
    "    n_jobs=4,\n",
    "    with_summaries=False,\n",
    "    with_dpcs=True,\n",
    "    dpc_par=True,\n",
    "    with_over_time=False,\n",
    "    overwrite=True,\n",
    ")"
   ]
  },
  {
   "cell_type": "code",
   "execution_count": null,
   "id": "f16586ce-981b-4a2d-8660-38492d6defe0",
   "metadata": {
    "tags": []
   },
   "outputs": [],
   "source": [
    "gmm.residual_dpc_split()\n",
    "gmm.recluster_outliers()\n",
    "gmm.m_step()\n",
    "gmm.residual_dpc_split()"
   ]
  },
  {
   "cell_type": "code",
   "execution_count": null,
   "id": "af1319f4-2da8-4eb9-8015-c21667022e97",
   "metadata": {
    "tags": []
   },
   "outputs": [],
   "source": [
    "makeplots(\n",
    "    fig_dir / f\"{tag}_002_split\",\n",
    "    gmm=gmm,\n",
    "    sorting=full_dpc,\n",
    "    n_jobs=4,\n",
    "    with_summaries=True,\n",
    "    with_dpcs=True,\n",
    "    dpc_par=True,\n",
    "    with_over_time=False,\n",
    "    overwrite=False,\n",
    ")"
   ]
  },
  {
   "cell_type": "code",
   "execution_count": null,
   "id": "71b62748-11c8-44e4-8a12-4bce984b750a",
   "metadata": {
    "tags": []
   },
   "outputs": [],
   "source": [
    "for _ in range(3):\n",
    "    gmm.reassign()\n",
    "    gmm.m_step(force=True)"
   ]
  },
  {
   "cell_type": "code",
   "execution_count": null,
   "id": "d7f4fda1-ced9-4e30-9144-009d683b78d6",
   "metadata": {
    "tags": []
   },
   "outputs": [],
   "source": [
    "for _ in range(3):\n",
    "    gmm.reassign()\n",
    "    gmm.m_step(force=True)"
   ]
  },
  {
   "cell_type": "code",
   "execution_count": null,
   "id": "d601216c-b22e-423f-bd80-522cb4f698c0",
   "metadata": {
    "tags": []
   },
   "outputs": [],
   "source": [
    "makeplots(\n",
    "    fig_dir / f\"{tag}_002_splitem\",\n",
    "    gmm=gmm,\n",
    "    sorting=full_dpc,\n",
    "    n_jobs=4,\n",
    "    with_summaries=True,\n",
    "    with_dpcs=True,\n",
    "    dpc_par=True,\n",
    "    with_over_time=False,\n",
    "    overwrite=False,\n",
    ")"
   ]
  },
  {
   "cell_type": "code",
   "execution_count": null,
   "id": "30550be0-10bc-4ad5-932c-dfff10b2feba",
   "metadata": {
    "tags": []
   },
   "outputs": [],
   "source": [
    "dists = gmm.central_divergences()"
   ]
  },
  {
   "cell_type": "code",
   "execution_count": null,
   "id": "507fc24c-b133-4931-a068-14f3c008a32a",
   "metadata": {
    "tags": []
   },
   "outputs": [],
   "source": [
    "dists"
   ]
  },
  {
   "cell_type": "code",
   "execution_count": null,
   "id": "1d650c2f-99a1-4a5f-ae73-e73587d493cb",
   "metadata": {
    "tags": []
   },
   "outputs": [],
   "source": [
    "plt.imshow(dists, cmap=plt.cm.rainbow, vmin=0, vmax=1);\n",
    "plt.colorbar();"
   ]
  },
  {
   "cell_type": "code",
   "execution_count": null,
   "id": "ccf52b80-c0be-4f19-a122-859e7740e7e4",
   "metadata": {
    "tags": []
   },
   "outputs": [],
   "source": [
    "d = np.minimum(dists, dists.T).numpy(force=True).astype(float)"
   ]
  },
  {
   "cell_type": "code",
   "execution_count": null,
   "id": "d8222061-251b-4c73-a32c-c790b3b38c50",
   "metadata": {
    "tags": []
   },
   "outputs": [],
   "source": [
    "(d < 0.25) + (d < 0.5)"
   ]
  },
  {
   "cell_type": "code",
   "execution_count": null,
   "id": "9e000cbf-49ac-4547-9666-f7d8c9ea88f0",
   "metadata": {
    "tags": []
   },
   "outputs": [],
   "source": [
    "sns.clustermap((d < 0.25) + (d < 0.5))"
   ]
  },
  {
   "cell_type": "code",
   "execution_count": null,
   "id": "602d5d7f-facb-4f6e-9ced-a0e771b4a459",
   "metadata": {
    "tags": []
   },
   "outputs": [],
   "source": [
    "gmm.cuda()"
   ]
  },
  {
   "cell_type": "code",
   "execution_count": null,
   "id": "ceb025f6-dd07-42e5-9353-f434c614abe9",
   "metadata": {
    "tags": []
   },
   "outputs": [],
   "source": [
    "gmm.do_interp = True\n",
    "gmm.models.clear()\n",
    "gmm.m_step()"
   ]
  },
  {
   "cell_type": "code",
   "execution_count": null,
   "id": "1ce19c41-ce22-4b8a-a26d-afb02d84fcc4",
   "metadata": {
    "tags": []
   },
   "outputs": [],
   "source": [
    "makeplots(\n",
    "    fig_dir / f\"{tag}_002_splitem_overtime\",\n",
    "    gmm=gmm,\n",
    "    sorting=full_dpc,\n",
    "    n_jobs=4,\n",
    "    with_summaries=True,\n",
    "    with_dpcs=True,\n",
    "    dpc_par=True,\n",
    "    with_over_time=False,\n",
    "    overwrite=False,\n",
    ")"
   ]
  },
  {
   "cell_type": "code",
   "execution_count": null,
   "id": "0c446790-77c4-4666-8ece-b702808a7e49",
   "metadata": {},
   "outputs": [],
   "source": []
  },
  {
   "cell_type": "code",
   "execution_count": null,
   "id": "0df61426-b32a-452f-bf9f-043cbec50277",
   "metadata": {},
   "outputs": [],
   "source": []
  },
  {
   "cell_type": "code",
   "execution_count": null,
   "id": "1d3c2c83-8458-466d-bf5f-bfa4850c2531",
   "metadata": {},
   "outputs": [],
   "source": []
  },
  {
   "cell_type": "code",
   "execution_count": null,
   "id": "a676b6c2-feeb-45e4-ac05-97f083642d52",
   "metadata": {},
   "outputs": [],
   "source": []
  },
  {
   "cell_type": "code",
   "execution_count": null,
   "id": "d69178a7-7cb3-4bb4-83c6-b78058746dba",
   "metadata": {},
   "outputs": [],
   "source": []
  },
  {
   "cell_type": "code",
   "execution_count": null,
   "id": "17007465-9e93-4574-8903-4858181b3549",
   "metadata": {},
   "outputs": [],
   "source": []
  },
  {
   "cell_type": "code",
   "execution_count": null,
   "id": "90cde3f8-86c6-4958-a07f-03140edf60c3",
   "metadata": {
    "tags": []
   },
   "outputs": [],
   "source": [
    "unit_id = 29"
   ]
  },
  {
   "cell_type": "code",
   "execution_count": null,
   "id": "5ec2e426-f71b-411c-bafa-b6e81561c37c",
   "metadata": {
    "tags": []
   },
   "outputs": [],
   "source": [
    "gmm.cpu();"
   ]
  },
  {
   "cell_type": "code",
   "execution_count": null,
   "id": "043bd0e8-bf8e-4ec1-8d21-3e695292cbd6",
   "metadata": {},
   "outputs": [],
   "source": [
    "gmm[unit_id].needs_fit = True"
   ]
  },
  {
   "cell_type": "code",
   "execution_count": null,
   "id": "e36d2921-ff8e-4293-888a-fae93c6c1c74",
   "metadata": {},
   "outputs": [],
   "source": [
    "gmm.m_step()"
   ]
  },
  {
   "cell_type": "code",
   "execution_count": null,
   "id": "f10f41c8-0a88-4fbd-91fa-0630b54c4c2d",
   "metadata": {
    "tags": []
   },
   "outputs": [],
   "source": [
    "_, in_unit0, z0 = gmm.split_features(unit_id)"
   ]
  },
  {
   "cell_type": "code",
   "execution_count": null,
   "id": "d542b9dd-1fcc-465d-a454-79b1deca4f36",
   "metadata": {
    "tags": []
   },
   "outputs": [],
   "source": [
    "z00 = gmm[unit_id].pca.train_loadings.numpy(force=True)"
   ]
  },
  {
   "cell_type": "code",
   "execution_count": null,
   "id": "bd21d425-98db-4c11-a3c4-af36510db692",
   "metadata": {
    "tags": []
   },
   "outputs": [],
   "source": [
    "in_unit1, data1 = gmm.get_training_data(unit_id, in_unit=in_unit0)\n",
    "waveforms2 = gmm[unit_id].to_unit_channels(\n",
    "    waveforms=data1[\"waveforms\"],\n",
    "    times=data1[\"times\"],\n",
    "    waveform_channels=data1[\"waveform_channels\"],\n",
    ")\n",
    "loadings1, mean1, components1, svs1 = spike_interp.fit_pcas(\n",
    "    data1[\"waveforms\"].reshape(in_unit1.numel(), -1),\n",
    "    missing=None,\n",
    "    empty=None,\n",
    "    rank=gmm.dpc_split_kw.rank,\n",
    "    show_progress=False,\n",
    ")\n",
    "z1 = loadings1.numpy(force=True)\n",
    "loadings11, mean1, components1, svs1 = spike_interp.fit_pcas(\n",
    "    data1[\"waveforms\"].reshape(in_unit1.numel(), -1),\n",
    "    missing=None,\n",
    "    empty=None,\n",
    "    rank=gmm.dpc_split_kw.rank,\n",
    "    show_progress=False,\n",
    ")\n",
    "z11 = loadings11.numpy(force=True)\n",
    "loadings2, mean2, components2, svs2 = spike_interp.fit_pcas(\n",
    "    waveforms2.reshape(in_unit1.numel(), -1),\n",
    "    missing=None,\n",
    "    empty=None,\n",
    "    rank=gmm.dpc_split_kw.rank,\n",
    "    show_progress=False,\n",
    ")\n",
    "z2 = loadings2.numpy(force=True)"
   ]
  },
  {
   "cell_type": "code",
   "execution_count": null,
   "id": "f7812b95-e013-4287-9862-bbd1499e8e48",
   "metadata": {
    "tags": []
   },
   "outputs": [],
   "source": [
    "waveforms3 = gmm[unit_id].to_unit_channels(\n",
    "    waveforms=data1[\"waveforms\"],\n",
    "    times=data1[\"times\"],\n",
    "    waveform_channels=data1[\"waveform_channels\"],\n",
    "    fill_mode=\"constant\"\n",
    ")"
   ]
  },
  {
   "cell_type": "code",
   "execution_count": null,
   "id": "67447e6e-4843-4e1a-9068-41bffacb42e5",
   "metadata": {
    "tags": []
   },
   "outputs": [],
   "source": [
    "wfcs = torch.tensor(gmm.data.original_channel_index[gmm[unit_id].max_channel])\n",
    "waveforms5 = gmm[unit_id].to_waveform_channels(\n",
    "    waveforms_rel=waveforms3,\n",
    "    waveform_channels=wfcs[None].broadcast_to(len(waveforms3), -1)\n",
    ")"
   ]
  },
  {
   "cell_type": "code",
   "execution_count": null,
   "id": "f0450f83-9689-4fce-8914-0a9695f46670",
   "metadata": {
    "tags": []
   },
   "outputs": [],
   "source": [
    "loadings3, mean3, components3, svs3 = spike_interp.fit_pcas(\n",
    "    waveforms3.reshape(in_unit1.numel(), -1),\n",
    "    missing=None,\n",
    "    empty=None,\n",
    "    rank=gmm.dpc_split_kw.rank,\n",
    "    show_progress=False,\n",
    ")\n",
    "z3 = loadings3.numpy(force=True)"
   ]
  },
  {
   "cell_type": "code",
   "execution_count": null,
   "id": "58bc8c58-324f-496e-b4cb-cc7d34afc8b5",
   "metadata": {
    "tags": []
   },
   "outputs": [],
   "source": [
    "loadings5, mean5, components5, svs5 = spike_interp.fit_pcas(\n",
    "    waveforms5.reshape(in_unit1.numel(), -1),\n",
    "    missing=None,\n",
    "    empty=None,\n",
    "    rank=gmm.dpc_split_kw.rank,\n",
    "    show_progress=False,\n",
    ")\n",
    "z5 = loadings5.numpy(force=True)"
   ]
  },
  {
   "cell_type": "code",
   "execution_count": null,
   "id": "462fd62c-9914-4788-854c-b7588202abb5",
   "metadata": {
    "tags": []
   },
   "outputs": [],
   "source": [
    "torch.equal(in_unit0, in_unit1)"
   ]
  },
  {
   "cell_type": "code",
   "execution_count": null,
   "id": "1deadb80-52b6-4ab5-b1e3-793a988913ec",
   "metadata": {
    "tags": []
   },
   "outputs": [],
   "source": [
    "data1[\"waveforms\"].shape, waveforms2.shape"
   ]
  },
  {
   "cell_type": "code",
   "execution_count": null,
   "id": "c2dedaa0-21bd-4579-a4ca-00d20e3fc71a",
   "metadata": {
    "tags": []
   },
   "outputs": [],
   "source": [
    "plt.scatter(*z0.T, s=3, lw=0)\n",
    "plt.scatter(*z1.T, s=3, lw=0)\n",
    "plt.scatter(*z2.T, s=3, lw=0)"
   ]
  },
  {
   "cell_type": "code",
   "execution_count": null,
   "id": "d97adb80-7f81-4345-810f-4285ed8c7eae",
   "metadata": {
    "tags": []
   },
   "outputs": [],
   "source": [
    "plt.scatter(*z1.T, s=3, lw=0)\n",
    "plt.scatter(*z11.T, s=3, lw=0)\n",
    "plt.scatter(*z5.T, s=3, lw=0)"
   ]
  },
  {
   "cell_type": "code",
   "execution_count": null,
   "id": "6782ab30-a630-4164-8fe2-f5559b171684",
   "metadata": {
    "tags": []
   },
   "outputs": [],
   "source": [
    "np.array_equal(z0, z00)"
   ]
  },
  {
   "cell_type": "code",
   "execution_count": null,
   "id": "818e78f7-3955-4b0c-a869-4777b59986a3",
   "metadata": {
    "tags": []
   },
   "outputs": [],
   "source": [
    "plt.scatter(*z0.T, s=3, lw=0)\n",
    "plt.scatter(*z00.T, s=3, lw=0)\n",
    "plt.scatter(*z3.T, s=3, lw=0)"
   ]
  },
  {
   "cell_type": "code",
   "execution_count": null,
   "id": "be31b9aa-b7c2-4d23-9adf-1a4c21891b14",
   "metadata": {
    "tags": []
   },
   "outputs": [],
   "source": [
    "waveforms5.shape"
   ]
  },
  {
   "cell_type": "code",
   "execution_count": null,
   "id": "3950e439-fb3c-448f-b7aa-42a19d38a506",
   "metadata": {
    "tags": []
   },
   "outputs": [],
   "source": [
    "np.isnan(waveforms5).all(axis=(1,2)).sum()"
   ]
  },
  {
   "cell_type": "code",
   "execution_count": null,
   "id": "befd245b-291e-44aa-b168-90dcc6ddfd88",
   "metadata": {
    "tags": []
   },
   "outputs": [],
   "source": [
    "nwf = len(waveforms5)"
   ]
  },
  {
   "cell_type": "code",
   "execution_count": null,
   "id": "7efbcd95-86b4-4ade-b8a0-741d71098a96",
   "metadata": {
    "tags": []
   },
   "outputs": [],
   "source": [
    "np.unique(waveforms5.reshape(nwf, -1), axis=0).shape"
   ]
  },
  {
   "cell_type": "code",
   "execution_count": null,
   "id": "98aec7a4-d1c3-44ec-9a1c-bca3fd79b9e3",
   "metadata": {
    "tags": []
   },
   "outputs": [],
   "source": [
    "np.isnan(np.unique(waveforms5.reshape(nwf, -1), axis=0)).all(axis=1).sum()"
   ]
  },
  {
   "cell_type": "code",
   "execution_count": null,
   "id": "09e41cb6-5398-40f8-af4b-23cf72a01485",
   "metadata": {
    "tags": []
   },
   "outputs": [],
   "source": [
    "\n",
    "(in_unit_full,) = (gmm.labels == unit_id).nonzero(as_tuple=True)\n",
    "n = in_unit_full.numel()\n",
    "features = torch.empty((n, gmm.residual_pca_rank), device=gmm.device)\n",
    "rrel = torch.empty((n, gmm[unit_id].waveform_rank, gmm[unit_id].n_chans_unit), device=gmm.device)\n",
    "unit = gmm[unit_id]\n",
    "for sl, data in gmm.batches(in_unit_full):\n",
    "    unit.residual_embed(**data,  out=features[sl])\n",
    "    unit.residuals_rel(**data, out=rrel[sl])\n",
    "wfcs = torch.tensor(gmm.data.reassign_channel_index[gmm[unit_id].max_channel])\n",
    "rrel = gmm[unit_id].to_waveform_channels(\n",
    "    waveforms_rel=rrel,\n",
    "    waveform_channels=wfcs[None].broadcast_to(len(rrel), -1)\n",
    ")\n",
    "zfull = features[:, : gmm.dpc_split_kw.rank].numpy(force=True)\n",
    "zfullw, mean5, components5, svs5 = spike_interp.fit_pcas(\n",
    "    rrel.reshape(len(rrel), -1),\n",
    "    missing=None,\n",
    "    empty=None,\n",
    "    rank=gmm.dpc_split_kw.rank,\n",
    "    show_progress=False,\n",
    ")\n",
    "zfullw = zfullw.numpy(force=True)"
   ]
  },
  {
   "cell_type": "code",
   "execution_count": null,
   "id": "74273219-99ac-4e33-a5cd-044093735934",
   "metadata": {
    "tags": []
   },
   "outputs": [],
   "source": [
    "z = np.unique(zfullw, axis=0)\n",
    "dens = density.density_peaks_clustering(\n",
    "    z,\n",
    "    # sigma_local=gmm.dpc_split_kw.sigma_local,\n",
    "    sigma_local=\"rule_of_thumb*0.5\",\n",
    "    n_neighbors_search=gmm.dpc_split_kw.n_neighbors_search,\n",
    "    remove_clusters_smaller_than=25,\n",
    "    return_extra=True,\n",
    ")\n",
    "\n",
    "ru = np.unique(dens[\"labels\"])\n",
    "panel, axes = dartvis.analysis_plots.density_peaks_study(\n",
    "    z,\n",
    "    dens,\n",
    "    s=10,\n",
    ")"
   ]
  },
  {
   "cell_type": "code",
   "execution_count": null,
   "id": "9052fee7-0306-4a58-8946-2a1d248a54be",
   "metadata": {},
   "outputs": [],
   "source": []
  },
  {
   "cell_type": "code",
   "execution_count": null,
   "id": "64435d0f-0fc4-4553-8614-2d96ec23729e",
   "metadata": {},
   "outputs": [],
   "source": []
  },
  {
   "cell_type": "code",
   "execution_count": null,
   "id": "594508e0-5c33-43a2-b081-b936cb727148",
   "metadata": {},
   "outputs": [],
   "source": []
  },
  {
   "cell_type": "code",
   "execution_count": null,
   "id": "19d75638-8e38-4498-abed-59daaead18a2",
   "metadata": {
    "tags": []
   },
   "outputs": [],
   "source": [
    "gmm.dpc_split_kw.sigma_local"
   ]
  },
  {
   "cell_type": "code",
   "execution_count": null,
   "id": "d8942bc3-d48c-42ae-ba12-83f6f3b62d02",
   "metadata": {
    "tags": []
   },
   "outputs": [],
   "source": [
    "z = np.unique(z0, axis=0)\n",
    "dens = density.density_peaks_clustering(\n",
    "    z,\n",
    "    # sigma_local=gmm.dpc_split_kw.sigma_local,\n",
    "    sigma_local=\"rule_of_thumb*1.5\",\n",
    "    n_neighbors_search=gmm.dpc_split_kw.n_neighbors_search,\n",
    "    remove_clusters_smaller_than=5,\n",
    "    return_extra=True,\n",
    ")\n",
    "\n",
    "ru = np.unique(dens[\"labels\"])\n",
    "panel, axes = dartvis.analysis_plots.density_peaks_study(\n",
    "    z,\n",
    "    dens,\n",
    "    s=10,\n",
    ")"
   ]
  },
  {
   "cell_type": "code",
   "execution_count": null,
   "id": "28b352ed-20c7-474d-9a58-a02614bf2770",
   "metadata": {
    "tags": []
   },
   "outputs": [],
   "source": [
    "z = np.unique(z3, axis=0)\n",
    "dens = density.density_peaks_clustering(\n",
    "    z,\n",
    "    # sigma_local=gmm.dpc_split_kw.sigma_local,\n",
    "    sigma_local=\"rule_of_thumb\",\n",
    "    n_neighbors_search=gmm.dpc_split_kw.n_neighbors_search,\n",
    "    remove_clusters_smaller_than=5,\n",
    "    return_extra=True,\n",
    ")\n",
    "\n",
    "ru = np.unique(dens[\"labels\"])\n",
    "panel, axes = dartvis.analysis_plots.density_peaks_study(\n",
    "    z,\n",
    "    dens,\n",
    "    s=10,\n",
    ")"
   ]
  },
  {
   "cell_type": "code",
   "execution_count": null,
   "id": "c1b469ca-f4f3-489b-bc47-1f73459006ee",
   "metadata": {
    "tags": []
   },
   "outputs": [],
   "source": [
    "z = np.unique(z5, axis=0)\n",
    "dens = density.density_peaks_clustering(\n",
    "    z,\n",
    "    # sigma_local=gmm.dpc_split_kw.sigma_local,\n",
    "    sigma_local=\"rule_of_thumb*1.5\",\n",
    "    n_neighbors_search=gmm.dpc_split_kw.n_neighbors_search,\n",
    "    remove_clusters_smaller_than=5,\n",
    "    return_extra=True,\n",
    ")\n",
    "\n",
    "ru = np.unique(dens[\"labels\"])\n",
    "panel, axes = dartvis.analysis_plots.density_peaks_study(\n",
    "    z,\n",
    "    dens,\n",
    "    s=10,\n",
    ")"
   ]
  },
  {
   "cell_type": "code",
   "execution_count": null,
   "id": "7b7fccf5-9335-4cf7-a000-e259fd27553b",
   "metadata": {
    "tags": []
   },
   "outputs": [],
   "source": [
    "np.unique(z5, axis=0).shape"
   ]
  },
  {
   "cell_type": "code",
   "execution_count": null,
   "id": "617d7321-a8de-4377-a343-cfd406315439",
   "metadata": {
    "tags": []
   },
   "outputs": [],
   "source": [
    "z5.shape"
   ]
  },
  {
   "cell_type": "code",
   "execution_count": null,
   "id": "3d5367e9-ca74-4e87-8c4a-f7c220e4dd84",
   "metadata": {
    "tags": []
   },
   "outputs": [],
   "source": [
    "z1.size, np.unique(z1, axis=0).size"
   ]
  },
  {
   "cell_type": "code",
   "execution_count": null,
   "id": "02e256a1-fc56-4825-b8f5-c0f8c2506d4f",
   "metadata": {
    "tags": []
   },
   "outputs": [],
   "source": [
    "z = z1\n",
    "dens = density.density_peaks_clustering(\n",
    "    z,\n",
    "    # sigma_local=gmm.dpc_split_kw.sigma_local,\n",
    "    sigma_local=\"rule_of_thumb\",\n",
    "    n_neighbors_search=gmm.dpc_split_kw.n_neighbors_search,\n",
    "    remove_clusters_smaller_than=5,\n",
    "    return_extra=True,\n",
    ")\n",
    "\n",
    "ru = np.unique(dens[\"labels\"])\n",
    "panel, axes = dartvis.analysis_plots.density_peaks_study(\n",
    "    z,\n",
    "    dens,\n",
    "    s=10,\n",
    ")"
   ]
  },
  {
   "cell_type": "code",
   "execution_count": null,
   "id": "e6facb5d-f143-41ac-9e0a-d099e7724436",
   "metadata": {},
   "outputs": [],
   "source": []
  },
  {
   "cell_type": "code",
   "execution_count": null,
   "id": "98d6dfe5-debc-4427-84b1-7fc30170f705",
   "metadata": {},
   "outputs": [],
   "source": []
  },
  {
   "cell_type": "code",
   "execution_count": null,
   "id": "c8c07122-72dc-48c4-9513-6986e7f03d09",
   "metadata": {},
   "outputs": [],
   "source": []
  },
  {
   "cell_type": "code",
   "execution_count": null,
   "id": "4310f8dd-0633-43ba-85bf-4aba5efa4516",
   "metadata": {},
   "outputs": [],
   "source": [
    "gmm.do_interp = True\n",
    "gmm.models.clear()\n",
    "gmm.m_step()"
   ]
  },
  {
   "cell_type": "code",
   "execution_count": null,
   "id": "8848845e-9fd5-4ccd-8c3d-a476a597f657",
   "metadata": {},
   "outputs": [],
   "source": [
    "gmm[0]"
   ]
  },
  {
   "cell_type": "code",
   "execution_count": null,
   "id": "4a547647-a7a9-44be-b4bf-c6ba6fac2743",
   "metadata": {},
   "outputs": [],
   "source": [
    "makeplots(\n",
    "    # fig_dir / f\"{tag}_001_splitem\",\n",
    "    fig_dir / f\"{tag}_001_splitem_interp\",\n",
    "    gmm=gmm,\n",
    "    sorting=full_dpc,\n",
    "    n_jobs=4,\n",
    "    with_summaries=False,\n",
    "    with_dpcs=True,\n",
    "    dpc_par=True,\n",
    "    with_over_time=False,\n",
    "    overwrite=False,\n",
    ")"
   ]
  },
  {
   "cell_type": "code",
   "execution_count": null,
   "id": "54c5ee0a-d941-4ed1-bd4d-24c5f381e210",
   "metadata": {},
   "outputs": [],
   "source": [
    "for _ in range(3):\n",
    "    gmm.reassign()\n",
    "    gmm.m_step(force=True)"
   ]
  },
  {
   "cell_type": "code",
   "execution_count": null,
   "id": "29936fca-b387-48de-8621-cdea43f284ab",
   "metadata": {},
   "outputs": [],
   "source": [
    "makeplots(\n",
    "    # fig_dir / f\"{tag}_001_splitem\",\n",
    "    fig_dir / f\"{tag}_001_splitem_interpem\",\n",
    "    gmm=gmm,\n",
    "    sorting=full_dpc,\n",
    "    n_jobs=4,\n",
    "    with_summaries=True,\n",
    "    with_dpcs=True,\n",
    "    dpc_par=True,\n",
    "    with_over_time=False,\n",
    "    overwrite=False,\n",
    ")"
   ]
  },
  {
   "cell_type": "code",
   "execution_count": null,
   "id": "80636ba6-e513-48a8-ac6d-55349d41e018",
   "metadata": {},
   "outputs": [],
   "source": [
    "for _ in range(3):\n",
    "    gmm.reassign()\n",
    "    gmm.m_step(force=True)"
   ]
  },
  {
   "cell_type": "code",
   "execution_count": null,
   "id": "8de464f8-65de-4fbf-91e6-253dcbaa4588",
   "metadata": {},
   "outputs": [],
   "source": [
    "makeplots(\n",
    "    # fig_dir / f\"{tag}_001_splitem\",\n",
    "    fig_dir / f\"{tag}_001_splitem_interpemem\",\n",
    "    gmm=gmm,\n",
    "    sorting=full_dpc,\n",
    "    n_jobs=4,\n",
    "    with_summaries=True,\n",
    "    with_dpcs=True,\n",
    "    dpc_par=True,\n",
    "    with_over_time=False,\n",
    "    overwrite=False,\n",
    ")"
   ]
  },
  {
   "cell_type": "code",
   "execution_count": null,
   "id": "b9ca537c-8c65-4a9e-95c2-6fab17fd6dce",
   "metadata": {
    "tags": []
   },
   "outputs": [],
   "source": [
    "unit_id = 8\n",
    "in_unit = np.flatnonzero(gmm.labels == unit_id)"
   ]
  },
  {
   "cell_type": "code",
   "execution_count": null,
   "id": "01397845-70a1-4a79-b4ce-1991b4f2b63a",
   "metadata": {
    "tags": []
   },
   "outputs": [],
   "source": [
    "times = gmm.data.times_seconds[in_unit].numpy(force=True)\n",
    "amps = np.nan_to_num(gmm.data.static_amp_vecs[in_unit]).ptp(1)\n",
    "times.shape, amps.shape"
   ]
  },
  {
   "cell_type": "code",
   "execution_count": null,
   "id": "84f480ed-d085-402e-94fc-894b0cbe3ab0",
   "metadata": {
    "tags": []
   },
   "outputs": [],
   "source": [
    "from dartsort.cluster import density"
   ]
  },
  {
   "cell_type": "code",
   "execution_count": null,
   "id": "9cbf2b15-e40b-409c-9659-c65ebab70ef6",
   "metadata": {
    "tags": []
   },
   "outputs": [],
   "source": [
    "def mad(x):\n",
    "    x = x - np.median(x)\n",
    "    np.abs(x, out=x)\n",
    "    return np.median(x)"
   ]
  },
  {
   "cell_type": "code",
   "execution_count": null,
   "id": "99461834-5aff-48b6-afb2-1269fd26e05b",
   "metadata": {
    "tags": []
   },
   "outputs": [],
   "source": [
    "ds = density.get_smoothed_densities(\n",
    "    np.c_[times / mad(times), amps / mad(amps)],\n",
    "    sigmas=(0.5, 1),\n",
    ")"
   ]
  },
  {
   "cell_type": "code",
   "execution_count": null,
   "id": "66f5ab33-8034-4232-8717-41f336eb09b8",
   "metadata": {
    "tags": []
   },
   "outputs": [],
   "source": [
    "ds = ds[0] / ds[1]"
   ]
  },
  {
   "cell_type": "code",
   "execution_count": null,
   "id": "c6056b0f-c684-405a-a14b-55f3c55219c8",
   "metadata": {
    "tags": []
   },
   "outputs": [],
   "source": [
    "plt.scatter(times, amps, c=ds, lw=0, s=3)"
   ]
  },
  {
   "cell_type": "code",
   "execution_count": null,
   "id": "19ac2789-1007-49b3-a3eb-a3d8596ec0a0",
   "metadata": {
    "tags": []
   },
   "outputs": [],
   "source": [
    "z = np.c_[times / mad(times), amps / mad(amps)]\n",
    "dens = density.density_peaks_clustering(\n",
    "    z,\n",
    "    # sigma_local=gmm.dpc_split_kw.sigma_local,\n",
    "    sigma_local=0.5,\n",
    "    sigma_regional=1.,\n",
    "    min_bin_size=0.05,\n",
    "    n_neighbors_search=gmm.dpc_split_kw.n_neighbors_search,\n",
    "    remove_clusters_smaller_than=5,\n",
    "    return_extra=True,\n",
    ")\n",
    "\n",
    "ru = np.unique(dens[\"labels\"])\n",
    "panel, axes = dartvis.analysis_plots.density_peaks_study(\n",
    "    z,\n",
    "    dens,\n",
    "    s=10,\n",
    ")"
   ]
  },
  {
   "cell_type": "code",
   "execution_count": null,
   "id": "283c7c56-f90e-4d80-9881-9583be45447a",
   "metadata": {},
   "outputs": [],
   "source": []
  },
  {
   "cell_type": "code",
   "execution_count": null,
   "id": "a0a4576b-9e2c-401d-b108-904ec22bd1fc",
   "metadata": {},
   "outputs": [],
   "source": []
  },
  {
   "cell_type": "code",
   "execution_count": null,
   "id": "b6ca5946-941a-4d44-97e1-73f1efee3d0e",
   "metadata": {},
   "outputs": [],
   "source": []
  },
  {
   "cell_type": "code",
   "execution_count": null,
   "id": "2a3374ac-0d9b-4386-9c6a-9b97a9e6d1ce",
   "metadata": {
    "tags": []
   },
   "outputs": [],
   "source": [
    "rg = np.random.default_rng(0)\n",
    "choice0 = rg.choice(len(ds), size=1024, replace=False)\n",
    "choice0.sort()"
   ]
  },
  {
   "cell_type": "code",
   "execution_count": null,
   "id": "6580f5a8-1120-41e4-aa02-fd9a42222e5b",
   "metadata": {
    "tags": []
   },
   "outputs": [],
   "source": [
    "plt.scatter(times[choice0], amps[choice0], c=ds[choice0], lw=0)"
   ]
  },
  {
   "cell_type": "code",
   "execution_count": null,
   "id": "796d667d-7286-4258-a1aa-03bcb3ab2111",
   "metadata": {
    "tags": []
   },
   "outputs": [],
   "source": [
    "plt.hist(ds[choice0])"
   ]
  },
  {
   "cell_type": "code",
   "execution_count": null,
   "id": "e3765e07-f436-4391-aaa1-ab4f7bd5feea",
   "metadata": {
    "tags": []
   },
   "outputs": [],
   "source": [
    "plt.hist(np.log(ds[choice0]))"
   ]
  },
  {
   "cell_type": "code",
   "execution_count": null,
   "id": "9297446c-0fb0-4e12-9aa1-86e34be6303c",
   "metadata": {
    "tags": []
   },
   "outputs": [],
   "source": [
    "ds.min(), ds.max()"
   ]
  },
  {
   "cell_type": "code",
   "execution_count": null,
   "id": "c4b2f25d-29a6-4c7a-8932-ed0d7f4540e6",
   "metadata": {
    "tags": []
   },
   "outputs": [],
   "source": [
    "p = np.reciprocal(ds)\n",
    "p/=p.sum()\n",
    "choice1 = rg.choice(len(ds), size=1024, p=p)\n",
    "choice1.sort()"
   ]
  },
  {
   "cell_type": "code",
   "execution_count": null,
   "id": "8d341de9-d1c6-4f93-9167-32be3f3085e8",
   "metadata": {
    "tags": []
   },
   "outputs": [],
   "source": [
    "plt.scatter(times[choice0], amps[choice0], c=\"r\")\n",
    "plt.scatter(times[choice1], amps[choice1], c=\"b\")"
   ]
  },
  {
   "cell_type": "code",
   "execution_count": null,
   "id": "cc05eec0-b988-47b4-accd-7e523202a021",
   "metadata": {
    "tags": []
   },
   "outputs": [],
   "source": [
    "import seaborn as sns"
   ]
  },
  {
   "cell_type": "code",
   "execution_count": null,
   "id": "c95f6cc9-13ad-45af-b82f-d15ef7413c67",
   "metadata": {
    "tags": []
   },
   "outputs": [],
   "source": [
    "sns.jointplot(x=times[choice0], y=amps[choice0], kind=\"kde\")"
   ]
  },
  {
   "cell_type": "code",
   "execution_count": null,
   "id": "eef65b5a-3e7e-4a40-9bb7-fbe415f9c425",
   "metadata": {
    "tags": []
   },
   "outputs": [],
   "source": [
    "sns.jointplot(x=times[choice1], y=amps[choice1], kind=\"kde\")"
   ]
  },
  {
   "cell_type": "code",
   "execution_count": null,
   "id": "e446d63e-ca81-44e4-9795-362178cc5f28",
   "metadata": {},
   "outputs": [],
   "source": []
  },
  {
   "cell_type": "code",
   "execution_count": null,
   "id": "45231586-51a1-42f5-9e77-877a0ffa9fb6",
   "metadata": {
    "tags": []
   },
   "outputs": [],
   "source": [
    "plt.scatter(times[choice1], amps[choice1], c=ds[choice1], lw=0)"
   ]
  },
  {
   "cell_type": "code",
   "execution_count": null,
   "id": "4fb90733-494e-4c96-9c75-bbdeaebb37bf",
   "metadata": {
    "tags": []
   },
   "outputs": [],
   "source": [
    "ds0 = density.get_smoothed_densities(np.c_[times / mad(times), amps / mad(amps)][choice0], sigmas=1)"
   ]
  },
  {
   "cell_type": "code",
   "execution_count": null,
   "id": "357bf942-850c-483a-b7f9-1900bbe57694",
   "metadata": {
    "tags": []
   },
   "outputs": [],
   "source": [
    "ds1 = density.get_smoothed_densities(np.c_[times / mad(times), amps / mad(amps)][choice1], sigmas=1)"
   ]
  },
  {
   "cell_type": "code",
   "execution_count": null,
   "id": "234503e4-5911-4092-9521-10448477364b",
   "metadata": {
    "tags": []
   },
   "outputs": [],
   "source": [
    "plt.hist(ds0, histtype=\"step\")\n",
    "plt.hist(ds1, histtype=\"step\")"
   ]
  },
  {
   "cell_type": "code",
   "execution_count": null,
   "id": "32ba2ff4-7a29-43c7-bee2-b9b110b3625a",
   "metadata": {},
   "outputs": [],
   "source": []
  },
  {
   "cell_type": "code",
   "execution_count": null,
   "id": "fd478976-549b-496f-982f-b58bb0e510c6",
   "metadata": {},
   "outputs": [],
   "source": [
    "dists = gmm.central_divergences()"
   ]
  },
  {
   "cell_type": "code",
   "execution_count": null,
   "id": "cd58b1a4-34fb-414d-bc7c-f3fd7d86d196",
   "metadata": {},
   "outputs": [],
   "source": [
    "dists"
   ]
  },
  {
   "cell_type": "code",
   "execution_count": null,
   "id": "bfe5c77d-61de-4d1f-b88f-368727ed9abc",
   "metadata": {},
   "outputs": [],
   "source": [
    "plt.imshow(dists, cmap=plt.cm.rainbow, vmin=0, vmax=1);\n",
    "plt.colorbar();"
   ]
  },
  {
   "cell_type": "code",
   "execution_count": null,
   "id": "a6dc1e02-f15a-494a-a3e6-3c7829bc10bc",
   "metadata": {},
   "outputs": [],
   "source": [
    "d = np.minimum(dists, dists.T).numpy(force=True).astype(float)"
   ]
  },
  {
   "cell_type": "code",
   "execution_count": null,
   "id": "d8cac0e6-3a87-421e-ab38-3fd50cd5d591",
   "metadata": {},
   "outputs": [],
   "source": [
    "(d < 0.25) + (d < 0.5)"
   ]
  },
  {
   "cell_type": "code",
   "execution_count": null,
   "id": "f86cffd8-4789-4212-8ecc-54626e924b54",
   "metadata": {},
   "outputs": [],
   "source": [
    "sns.clustermap((d < 0.25) + (d < 0.5))"
   ]
  },
  {
   "cell_type": "code",
   "execution_count": null,
   "id": "ca18ca09-dbe6-448c-903f-0475ffe0a9fa",
   "metadata": {},
   "outputs": [],
   "source": []
  },
  {
   "cell_type": "code",
   "execution_count": null,
   "id": "f0606482-3d22-437b-a769-8bcba07d663c",
   "metadata": {},
   "outputs": [],
   "source": [
    "makeplots(\n",
    "    fig_dir / f\"{tag}_001_split\",\n",
    "    gmm=gmm,\n",
    "    sorting=full_dpc,\n",
    "    n_jobs=4,\n",
    "    with_summaries=False,\n",
    "    with_dpcs=True,\n",
    "    dpc_par=True,\n",
    "    with_over_time=False,\n",
    "    overwrite=False,\n",
    ")"
   ]
  },
  {
   "cell_type": "code",
   "execution_count": null,
   "id": "02b8ea67-c1bb-4a09-8af8-3f8f18ceefd7",
   "metadata": {},
   "outputs": [],
   "source": [
    "gmm.reassign()"
   ]
  },
  {
   "cell_type": "code",
   "execution_count": null,
   "id": "6afd48fb-e3b9-48bc-ba33-291fa06e6dbc",
   "metadata": {},
   "outputs": [],
   "source": [
    "makeplots(\n",
    "    fig_dir / f\"{tag}_001_splitreas\",\n",
    "    gmm=gmm,\n",
    "    sorting=full_dpc,\n",
    "    n_jobs=4,\n",
    "    with_summaries=False,\n",
    "    with_dpcs=True,\n",
    "    dpc_par=True,\n",
    "    with_over_time=False,\n",
    "    overwrite=False,\n",
    ")"
   ]
  },
  {
   "cell_type": "code",
   "execution_count": null,
   "id": "b85d2c0e-db39-42d7-939f-01e805e0bbb1",
   "metadata": {},
   "outputs": [],
   "source": [
    "gmm.m_step(force=True)"
   ]
  },
  {
   "cell_type": "code",
   "execution_count": null,
   "id": "3b5e8c1f-24d1-4d41-9e1a-fffd81b1376a",
   "metadata": {},
   "outputs": [],
   "source": [
    "# makeplots(\n",
    "#     fig_dir / f\"{tag}_001_splitreasfit\",\n",
    "#     gmm=gmm,\n",
    "#     sorting=full_dpc,\n",
    "#     n_jobs=4,\n",
    "#     with_summaries=False,\n",
    "#     with_dpcs=True,\n",
    "#     with_over_time=False,\n",
    "#     overwrite=False,\n",
    "# )"
   ]
  },
  {
   "cell_type": "code",
   "execution_count": null,
   "id": "5c4a19f4-d273-4c61-bf4c-0c1cbb0afa3a",
   "metadata": {},
   "outputs": [],
   "source": [
    "gmm.residual_dpc_split()"
   ]
  },
  {
   "cell_type": "code",
   "execution_count": null,
   "id": "72be4a96-d857-4686-a665-8a0791facef9",
   "metadata": {},
   "outputs": [],
   "source": [
    "makeplots(\n",
    "    fig_dir / f\"{tag}_002_split\",\n",
    "    gmm=gmm,\n",
    "    sorting=full_dpc,\n",
    "    n_jobs=4,\n",
    "    with_summaries=False,\n",
    "    with_dpcs=True,\n",
    "    dpc_par=True,\n",
    "    with_over_time=False,\n",
    "    overwrite=False,\n",
    ")"
   ]
  },
  {
   "cell_type": "code",
   "execution_count": null,
   "id": "3bd0793a-1a70-43d0-a855-271a7dd7860a",
   "metadata": {},
   "outputs": [],
   "source": [
    "gmm.reassign()"
   ]
  },
  {
   "cell_type": "code",
   "execution_count": null,
   "id": "1d93dd61-882b-49b3-be1b-3efd524d48f5",
   "metadata": {},
   "outputs": [],
   "source": [
    "makeplots(\n",
    "    fig_dir / f\"{tag}_002_splitreas\",\n",
    "    gmm=gmm,\n",
    "    sorting=full_dpc,\n",
    "    n_jobs=4,\n",
    "    with_summaries=False,\n",
    "    dpc_par=True,\n",
    "    with_dpcs=True,\n",
    "    with_over_time=False,\n",
    "    overwrite=False,\n",
    ")"
   ]
  },
  {
   "cell_type": "code",
   "execution_count": null,
   "id": "25ab3af9-eeba-49e7-8b2d-c1f36ae791f2",
   "metadata": {},
   "outputs": [],
   "source": [
    "gmm.m_step(force=True)"
   ]
  },
  {
   "cell_type": "code",
   "execution_count": null,
   "id": "7258ef6d-452e-4758-990b-0f2d94d4913b",
   "metadata": {},
   "outputs": [],
   "source": [
    "makeplots(\n",
    "    fig_dir / f\"{tag}_002_splitreasfit\",\n",
    "    gmm=gmm,\n",
    "    sorting=full_dpc,\n",
    "    n_jobs=4,\n",
    "    with_summaries=False,\n",
    "    dpc_par=True,\n",
    "    with_dpcs=True,\n",
    "    with_over_time=False,\n",
    "    overwrite=False,\n",
    ")"
   ]
  },
  {
   "cell_type": "code",
   "execution_count": null,
   "id": "dfe26264-2251-419d-bc1b-745e8b9e913e",
   "metadata": {},
   "outputs": [],
   "source": [
    "gc.collect()"
   ]
  },
  {
   "cell_type": "code",
   "execution_count": null,
   "id": "a50e1c2e-1828-456f-b4bc-3614bcc8d821",
   "metadata": {},
   "outputs": [],
   "source": [
    "gmm.reassign()\n",
    "gmm.m_step(force=True)"
   ]
  },
  {
   "cell_type": "code",
   "execution_count": null,
   "id": "2bde7a2f-7227-4147-acbc-aa7ce89a32aa",
   "metadata": {},
   "outputs": [],
   "source": [
    "gmm.reassign()\n",
    "gmm.m_step(force=True)"
   ]
  },
  {
   "cell_type": "code",
   "execution_count": null,
   "id": "b2251af8-3ea6-4bee-9751-c7de5fd87b0c",
   "metadata": {},
   "outputs": [],
   "source": [
    "gmm.reassign()\n",
    "gmm.m_step(force=True)"
   ]
  },
  {
   "cell_type": "code",
   "execution_count": null,
   "id": "8b8f719b-379d-40aa-90ab-008f32c7da26",
   "metadata": {},
   "outputs": [],
   "source": [
    "gmm.reassign()\n",
    "gmm.m_step(force=True)"
   ]
  },
  {
   "cell_type": "code",
   "execution_count": null,
   "id": "9211821f-4289-4405-a67e-d6074c488639",
   "metadata": {},
   "outputs": [],
   "source": [
    "gmm.reassign()\n",
    "gmm.m_step(force=True)"
   ]
  },
  {
   "cell_type": "code",
   "execution_count": null,
   "id": "6ac9a366-302a-4bdf-a582-523cefacc642",
   "metadata": {},
   "outputs": [],
   "source": [
    "gmm.reassign()\n",
    "gmm.m_step(force=True)"
   ]
  },
  {
   "cell_type": "code",
   "execution_count": null,
   "id": "3687b9ee-a7fb-434d-a3ab-a23b9a43eca4",
   "metadata": {},
   "outputs": [],
   "source": [
    "gmm.reassign()\n",
    "gmm.m_step(force=True)"
   ]
  },
  {
   "cell_type": "code",
   "execution_count": null,
   "id": "69be9e55-3cd8-4f0d-9355-4eeed190be97",
   "metadata": {},
   "outputs": [],
   "source": [
    "gmm.reassign()\n",
    "gmm.m_step(force=True)"
   ]
  },
  {
   "cell_type": "code",
   "execution_count": null,
   "id": "3b85e5c6-ff1f-4c54-bdf4-0dd68b331c0a",
   "metadata": {},
   "outputs": [],
   "source": [
    "makeplots(\n",
    "    fig_dir / f\"{tag}_003_em\",\n",
    "    gmm=gmm,\n",
    "    sorting=full_dpc,\n",
    "    n_jobs=4,\n",
    "    with_summaries=False,\n",
    "    dpc_par=True,\n",
    "    with_dpcs=True,\n",
    "    with_over_time=False,\n",
    "    overwrite=False,\n",
    ")"
   ]
  },
  {
   "cell_type": "code",
   "execution_count": null,
   "id": "d80f2eca-6492-486b-bb2a-cabc5c831624",
   "metadata": {},
   "outputs": [],
   "source": []
  },
  {
   "cell_type": "code",
   "execution_count": null,
   "id": "92fa3373-757c-4259-ba9f-2aa8ddef8a92",
   "metadata": {},
   "outputs": [],
   "source": [
    "dartvis.gmm.make_unit_gmm_summary(\n",
    "    gmm,\n",
    "    16,\n",
    ")"
   ]
  },
  {
   "cell_type": "code",
   "execution_count": null,
   "id": "9e523fc1-6de7-4209-ac16-0337c8e55c80",
   "metadata": {
    "tags": []
   },
   "outputs": [],
   "source": [
    "unit_id = 2"
   ]
  },
  {
   "cell_type": "code",
   "execution_count": null,
   "id": "22aadd85-3f20-4d9a-92f1-d3e2759fe180",
   "metadata": {
    "tags": []
   },
   "outputs": [],
   "source": [
    "in_unit, utd = gmm.get_training_data(unit_id)"
   ]
  },
  {
   "cell_type": "code",
   "execution_count": null,
   "id": "3d0db543-d8cf-4746-823d-93ca71966927",
   "metadata": {
    "tags": []
   },
   "outputs": [],
   "source": [
    "waveforms = utd[\"waveforms\"]\n",
    "n, r, c = waveforms.shape\n",
    "waveforms = gmm.data.tpca._inverse_transform_in_probe(waveforms.permute(0, 2, 1).reshape(n * c, r))\n",
    "waveforms = waveforms.reshape(n, c, -1).permute(0, 2, 1)\n",
    "amps = np.nan_to_num(waveforms.numpy(force=True)).ptp(axis=(1, 2))"
   ]
  },
  {
   "cell_type": "code",
   "execution_count": null,
   "id": "54fa1862-7324-4966-ab3b-2ffc8f8d14f6",
   "metadata": {
    "tags": []
   },
   "outputs": [],
   "source": [
    "waveforms.shape"
   ]
  },
  {
   "cell_type": "code",
   "execution_count": null,
   "id": "887b5197-54be-4f04-ab3b-b3c940d1950e",
   "metadata": {
    "tags": []
   },
   "outputs": [],
   "source": [
    "plt.hist(amps);"
   ]
  },
  {
   "cell_type": "code",
   "execution_count": null,
   "id": "2173e55c-8b30-4aa6-9b4f-4702f2655807",
   "metadata": {
    "tags": []
   },
   "outputs": [],
   "source": [
    "plt.scatter(utd[\"times\"], amps, lw=0, s=2);"
   ]
  },
  {
   "cell_type": "code",
   "execution_count": null,
   "id": "fe52a4d9-7fd2-4440-b498-947f74fa8ac4",
   "metadata": {
    "tags": []
   },
   "outputs": [],
   "source": [
    "small = torch.logical_and(utd[\"times\"] > 2500, torch.tensor(amps < 11))"
   ]
  },
  {
   "cell_type": "code",
   "execution_count": null,
   "id": "725e5e49-7ed4-4d63-a593-3cdd52afa0cf",
   "metadata": {
    "tags": []
   },
   "outputs": [],
   "source": [
    "recons = gmm[unit_id].get_means(utd[\"times\"])\n",
    "recons = gmm[unit_id].to_waveform_channels(recons, waveform_channels=utd[\"waveform_channels\"])\n",
    "n, r, c = recons.shape\n",
    "recons = gmm.data.tpca._inverse_transform_in_probe(recons.permute(0, 2, 1).reshape(n * c, r))\n",
    "recons = recons.reshape(n, -1, c).permute(0, 2, 1)"
   ]
  },
  {
   "cell_type": "code",
   "execution_count": null,
   "id": "0d932d1f-bd70-4b19-a5d9-a48091891b67",
   "metadata": {
    "tags": []
   },
   "outputs": [],
   "source": [
    "chans = utd[\"waveform_channels\"].numpy(force=True)"
   ]
  },
  {
   "cell_type": "code",
   "execution_count": null,
   "id": "9b5523db-4bdc-4fc9-8dc1-14d91c2344e4",
   "metadata": {
    "tags": []
   },
   "outputs": [],
   "source": [
    "chans.shape, waveforms.shape"
   ]
  },
  {
   "cell_type": "code",
   "execution_count": null,
   "id": "14a54aa9-465d-40f2-9a59-92525a603715",
   "metadata": {
    "tags": []
   },
   "outputs": [],
   "source": [
    "small"
   ]
  },
  {
   "cell_type": "code",
   "execution_count": null,
   "id": "0bc4106f-8c60-4bc5-9ce1-5f0c8ad524eb",
   "metadata": {
    "tags": []
   },
   "outputs": [],
   "source": [
    "small.shape"
   ]
  },
  {
   "cell_type": "code",
   "execution_count": null,
   "id": "4590c0a0-5e6b-44db-b8b3-86a198fea896",
   "metadata": {
    "tags": []
   },
   "outputs": [],
   "source": [
    "fig, ax = plt.subplots()\n",
    "dartvis.geomplot(\n",
    "    waveforms[small],\n",
    "    channels=chans[small],\n",
    "    geom=gmm.data.registered_geom.numpy(force=True),\n",
    "    max_abs_amp=15,\n",
    "    lw=1,\n",
    "    show_zero=False,\n",
    "    subar=True,\n",
    "    color=\"b\",\n",
    "    msbar=False,\n",
    "    zlim=\"tight\",\n",
    "    ax=ax,\n",
    ")\n",
    "dartvis.geomplot(\n",
    "    waveforms[~small],\n",
    "    channels=chans[~small],\n",
    "    geom=gmm.data.registered_geom.numpy(force=True),\n",
    "    max_abs_amp=15,\n",
    "    lw=1,\n",
    "    show_zero=False,\n",
    "    subar=True,\n",
    "    color=\"r\",\n",
    "    msbar=False,\n",
    "    zlim=\"tight\",\n",
    "    ax=ax,\n",
    ")"
   ]
  },
  {
   "cell_type": "code",
   "execution_count": null,
   "id": "1c18faf8-bdd5-4e5c-95f8-0af65b91aeef",
   "metadata": {
    "tags": []
   },
   "outputs": [],
   "source": [
    "fig, ax = plt.subplots()\n",
    "dartvis.geomplot(\n",
    "    waveforms[~small],\n",
    "    channels=chans[~small],\n",
    "    geom=gmm.data.registered_geom.numpy(force=True),\n",
    "    max_abs_amp=15,\n",
    "    lw=1,\n",
    "    show_zero=False,\n",
    "    subar=True,\n",
    "    color=\"r\",\n",
    "    msbar=False,\n",
    "    zlim=\"tight\",\n",
    "    ax=ax,\n",
    "    alpha=0.1,\n",
    ")\n",
    "dartvis.geomplot(\n",
    "    waveforms[small],\n",
    "    channels=chans[small],\n",
    "    geom=gmm.data.registered_geom.numpy(force=True),\n",
    "    max_abs_amp=15,\n",
    "    lw=1,\n",
    "    show_zero=False,\n",
    "    subar=True,\n",
    "    color=\"b\",\n",
    "    msbar=False,\n",
    "    zlim=\"tight\",\n",
    "    ax=ax,\n",
    "    alpha=0.1,\n",
    ")"
   ]
  },
  {
   "cell_type": "code",
   "execution_count": null,
   "id": "0c33ba72-5dee-4a00-8b14-384a8a14fe72",
   "metadata": {
    "tags": []
   },
   "outputs": [],
   "source": [
    "overlaps, rel_ix = gmm[unit_id].overlaps(utd[\"waveform_channels\"])"
   ]
  },
  {
   "cell_type": "code",
   "execution_count": null,
   "id": "b717e762-9aad-4b1f-8b12-df26968ef517",
   "metadata": {
    "tags": []
   },
   "outputs": [],
   "source": [
    "plt.hist(overlaps[small], bins=np.linspace(0.5, 1, 40), density=True, histtype=\"step\")\n",
    "plt.hist(overlaps[~small], bins=np.linspace(0.5, 1, 40), density=True, histtype=\"step\");"
   ]
  },
  {
   "cell_type": "code",
   "execution_count": null,
   "id": "b66251db-ff6d-4a05-9b49-1739837e7e15",
   "metadata": {
    "tags": []
   },
   "outputs": [],
   "source": [
    "_, _, res = gmm[unit_id].spike_badnesses(utd[\"times\"], utd[\"waveforms\"], utd[\"waveform_channels\"])"
   ]
  },
  {
   "cell_type": "code",
   "execution_count": null,
   "id": "e9d54bf5-343e-4049-b3aa-3b094da49868",
   "metadata": {
    "tags": []
   },
   "outputs": [],
   "source": [
    "plt.hist(res[\"1-r^2\"][small], bins=np.linspace(0.0, 1.5, 40), density=True, histtype=\"step\")\n",
    "plt.hist(res[\"1-r^2\"][~small], bins=np.linspace(0.0, 1.5, 40), density=True, histtype=\"step\");"
   ]
  },
  {
   "cell_type": "code",
   "execution_count": null,
   "id": "fa62c771-1327-4d6a-abaa-d4b16b3547af",
   "metadata": {
    "tags": []
   },
   "outputs": [],
   "source": [
    "plt.hist(res[\"1-scaledr^2\"][small].clip(0, 1.5), bins=np.linspace(0.0, 1.5, 40), density=True, histtype=\"step\")\n",
    "plt.hist(res[\"1-scaledr^2\"][~small].clip(0, 1.5), bins=np.linspace(0.0, 1.5, 40), density=True, histtype=\"step\");"
   ]
  },
  {
   "cell_type": "code",
   "execution_count": null,
   "id": "d09d717b-e5b3-4eb1-a9b5-e88799cad40c",
   "metadata": {
    "tags": []
   },
   "outputs": [],
   "source": [
    "overlaps[small].unique()"
   ]
  },
  {
   "cell_type": "code",
   "execution_count": null,
   "id": "fe145a21-f9cf-4781-adf6-6c6b20bca870",
   "metadata": {
    "tags": []
   },
   "outputs": [],
   "source": [
    "overlaps[~small].unique()"
   ]
  },
  {
   "cell_type": "code",
   "execution_count": null,
   "id": "64ad3ff3-638f-4054-a0e3-33b538543f88",
   "metadata": {
    "tags": []
   },
   "outputs": [],
   "source": [
    "plt.scatter(overlaps, res[\"1-scaledr^2\"], c=small, s=3, lw=0)"
   ]
  },
  {
   "cell_type": "code",
   "execution_count": null,
   "id": "34fd41a8-bb68-4081-b3d0-736ffca5dbb4",
   "metadata": {},
   "outputs": [],
   "source": []
  },
  {
   "cell_type": "code",
   "execution_count": null,
   "id": "2064a3a7-c03e-4d01-b1b5-b66d0137029f",
   "metadata": {
    "tags": []
   },
   "outputs": [],
   "source": [
    "wfs_u = gmm[unit_id].to_unit_channels(utd[\"waveforms\"], rel_ix=rel_ix)"
   ]
  },
  {
   "cell_type": "code",
   "execution_count": null,
   "id": "a177810d-e0f1-4c41-8d0b-f7a0ce2e5547",
   "metadata": {
    "tags": []
   },
   "outputs": [],
   "source": [
    "chans_u = gmm.data.cluster_channel_index[gmm[unit_id].max_channel]"
   ]
  },
  {
   "cell_type": "code",
   "execution_count": null,
   "id": "7ea009e1-8653-4c9f-9cff-3a47a42515f9",
   "metadata": {
    "tags": []
   },
   "outputs": [],
   "source": [
    "chans_u.shape, wfs_u.shape"
   ]
  },
  {
   "cell_type": "code",
   "execution_count": null,
   "id": "4f38e259-9879-4d96-8cb7-7b8d5be00d01",
   "metadata": {
    "tags": []
   },
   "outputs": [],
   "source": [
    "chans_u = chans_u[None].broadcast_to((len(wfs_u), *chans_u.shape)).contiguous()"
   ]
  },
  {
   "cell_type": "code",
   "execution_count": null,
   "id": "96e267d8-afb1-4469-a09d-87117d6b5067",
   "metadata": {
    "tags": []
   },
   "outputs": [],
   "source": [
    "n, r, c = wfs_u.shape\n",
    "wfs_ur = gmm.data.tpca._inverse_transform_in_probe(wfs_u.permute(0, 2, 1).reshape(n * c, r))\n",
    "wfs_ur = wfs_ur.reshape(n, c, -1).permute(0, 2, 1)"
   ]
  },
  {
   "cell_type": "code",
   "execution_count": null,
   "id": "99d6f4e9-faea-4f32-affd-5166e9c3c08f",
   "metadata": {
    "tags": []
   },
   "outputs": [],
   "source": [
    "wfs_ur.shape"
   ]
  },
  {
   "cell_type": "code",
   "execution_count": null,
   "id": "e9c67a01-628d-4e14-96a6-4047ee38f307",
   "metadata": {
    "tags": []
   },
   "outputs": [],
   "source": [
    "1"
   ]
  },
  {
   "cell_type": "code",
   "execution_count": null,
   "id": "1825c1fb-def0-4827-adbe-686caf2e432b",
   "metadata": {
    "tags": []
   },
   "outputs": [],
   "source": [
    "wfs_ur[~small].shape"
   ]
  },
  {
   "cell_type": "code",
   "execution_count": null,
   "id": "118dab94-a090-43c0-9667-ab3cc1d671ad",
   "metadata": {
    "tags": []
   },
   "outputs": [],
   "source": [
    "small.sum()"
   ]
  },
  {
   "cell_type": "code",
   "execution_count": null,
   "id": "0e1af54a-5bb0-4f42-8754-d8d16b332b76",
   "metadata": {
    "tags": []
   },
   "outputs": [],
   "source": [
    "small.shape"
   ]
  },
  {
   "cell_type": "code",
   "execution_count": null,
   "id": "99534086-cb0d-451a-86cf-4543f2dabce5",
   "metadata": {
    "tags": []
   },
   "outputs": [],
   "source": [
    "fig, ax = plt.subplots(figsize=(4, 4))\n",
    "dartvis.geomplot(\n",
    "    wfs_ur[~small].numpy(),\n",
    "    channels=chans_u[~small].numpy(),\n",
    "    geom=gmm.data.registered_geom.numpy(force=True),\n",
    "    max_abs_amp=15,\n",
    "    lw=1,\n",
    "    show_zero=False,\n",
    "    subar=True,\n",
    "    color=\"r\",\n",
    "    msbar=False,\n",
    "    zlim=\"tight\",\n",
    "    ax=ax,\n",
    "    alpha=0.1,\n",
    ")\n",
    "dartvis.geomplot(\n",
    "    wfs_ur[small].numpy(),\n",
    "    channels=chans_u[small].numpy(),\n",
    "    geom=gmm.data.registered_geom.numpy(force=True),\n",
    "    max_abs_amp=15,\n",
    "    lw=1,\n",
    "    show_zero=False,\n",
    "    subar=True,\n",
    "    color=\"b\",\n",
    "    msbar=False,\n",
    "    zlim=\"tight\",\n",
    "    ax=ax,\n",
    "    alpha=0.1,\n",
    ")"
   ]
  },
  {
   "cell_type": "code",
   "execution_count": null,
   "id": "1538b928-5a90-42d3-9165-f4ff6170163b",
   "metadata": {
    "tags": []
   },
   "outputs": [],
   "source": [
    "loadings, mean, components, svs = spike_interp.fit_pcas(\n",
    "    wfs_u.reshape(len(wfs_u), -1),\n",
    "    missing=None,\n",
    "    empty=None,\n",
    "    rank=2,\n",
    "    max_iter=100,\n",
    "    check_every=5,\n",
    "    n_oversamples=10,\n",
    "    atol=1e-3,\n",
    "    show_progress=False,\n",
    "    centered=True,\n",
    ")"
   ]
  },
  {
   "cell_type": "code",
   "execution_count": null,
   "id": "0a05895e-4927-4fdf-b4e5-d5c5c677147c",
   "metadata": {
    "tags": []
   },
   "outputs": [],
   "source": [
    "z = loadings.numpy()"
   ]
  },
  {
   "cell_type": "code",
   "execution_count": null,
   "id": "bcfc8c99-8f25-4700-a6ec-8c0597bb8d00",
   "metadata": {
    "tags": []
   },
   "outputs": [],
   "source": [
    "plt.scatter(*z.T, c=small)"
   ]
  },
  {
   "cell_type": "code",
   "execution_count": null,
   "id": "ef100429-053f-4afe-a804-06ab57644412",
   "metadata": {
    "tags": []
   },
   "outputs": [],
   "source": [
    "z = np.unique(z, axis=0)\n",
    "dens = density.density_peaks_clustering(\n",
    "    z,\n",
    "    # sigma_local=gmm.dpc_split_kw.sigma_local,\n",
    "    sigma_local=\"rule_of_thumb\",\n",
    "    sigma_regional=\"rule_of_thumb\",\n",
    "    n_neighbors_search=gmm.dpc_split_kw.n_neighbors_search,\n",
    "    remove_clusters_smaller_than=5,\n",
    "    return_extra=True,\n",
    ")\n",
    "\n",
    "ru = np.unique(dens[\"labels\"])\n",
    "panel, axes = dartvis.analysis_plots.density_peaks_study(\n",
    "    z,\n",
    "    dens,\n",
    "    s=10,\n",
    ")"
   ]
  },
  {
   "cell_type": "code",
   "execution_count": null,
   "id": "d381a612-50e4-4a90-8f1c-1fb1106e6754",
   "metadata": {
    "tags": []
   },
   "outputs": [],
   "source": [
    "z.shape"
   ]
  },
  {
   "cell_type": "code",
   "execution_count": null,
   "id": "dc3c78da-4db6-400f-91dc-fe465c39587a",
   "metadata": {},
   "outputs": [],
   "source": [
    "rg = np.random.default_rng(0)\n",
    "subset = np.unique(np.concatenate((np.flatnonzero(small), rg.choice(np.flatnonzero(~small), size=small.sum(), replace=False))))\n",
    "subset_mask = np.isin(subset, np.flatnonzero(small))"
   ]
  },
  {
   "cell_type": "code",
   "execution_count": null,
   "id": "ac872795-b34a-482f-9bc6-26231029cbee",
   "metadata": {},
   "outputs": [],
   "source": [
    "loadings, mean, components, svs = spike_interp.fit_pcas(\n",
    "    wfs_u[subset].reshape(len(subset), -1),\n",
    "    missing=None,\n",
    "    empty=None,\n",
    "    rank=2,\n",
    "    max_iter=100,\n",
    "    check_every=5,\n",
    "    n_oversamples=10,\n",
    "    atol=1e-3,\n",
    "    show_progress=False,\n",
    "    centered=True,\n",
    ")"
   ]
  },
  {
   "cell_type": "code",
   "execution_count": null,
   "id": "c68843f9-b396-4e18-bc2f-634b01644024",
   "metadata": {},
   "outputs": [],
   "source": [
    "z = loadings.numpy()"
   ]
  },
  {
   "cell_type": "code",
   "execution_count": null,
   "id": "11796a50-d476-43f5-adc8-d4759eabb2c6",
   "metadata": {},
   "outputs": [],
   "source": [
    "plt.scatter(*z.T, c=subset_mask)"
   ]
  },
  {
   "cell_type": "code",
   "execution_count": null,
   "id": "43843534-36fc-4b3e-8fd7-a4cb5931d2cc",
   "metadata": {},
   "outputs": [],
   "source": [
    "subci = dartsort.make_channel_index(gmm.data.registered_geom.numpy(), 10.0)\n",
    "subci.shape"
   ]
  },
  {
   "cell_type": "code",
   "execution_count": null,
   "id": "91a2c93e-5a6b-472e-b0fd-e53c898b25c6",
   "metadata": {},
   "outputs": [],
   "source": [
    "wfs_u.shape"
   ]
  },
  {
   "cell_type": "code",
   "execution_count": null,
   "id": "b12be6f2-2eba-4c1d-b1b8-f843d0a7afb2",
   "metadata": {},
   "outputs": [],
   "source": [
    "wfs_usub = dartsort.util.waveform_util.channel_subset_by_index(\n",
    "    wfs_u.numpy(),\n",
    "    torch.full((len(wfs_u),), gmm[unit_id].max_channel).numpy(),\n",
    "    gmm.data.cluster_channel_index.numpy(force=True),\n",
    "    subci,\n",
    ")"
   ]
  },
  {
   "cell_type": "code",
   "execution_count": null,
   "id": "5b3ce6d3-c024-40d5-9694-2fe59befd21e",
   "metadata": {},
   "outputs": [],
   "source": [
    "wfs_usub.shape"
   ]
  },
  {
   "cell_type": "code",
   "execution_count": null,
   "id": "ee7fc828-09b8-41fa-b89a-f25d38b39d5a",
   "metadata": {},
   "outputs": [],
   "source": [
    "torch.tensor(wfs_usub).shape"
   ]
  },
  {
   "cell_type": "code",
   "execution_count": null,
   "id": "31fc3e06-ae23-469e-a3b4-7c3024d7277e",
   "metadata": {},
   "outputs": [],
   "source": [
    "loadings, mean, components, svs = spike_interp.fit_pcas(\n",
    "    torch.tensor(wfs_usub).reshape(len(wfs_u), -1),\n",
    "    missing=None,\n",
    "    empty=None,\n",
    "    rank=2,\n",
    "    max_iter=100,\n",
    "    check_every=5,\n",
    "    n_oversamples=10,\n",
    "    atol=1e-3,\n",
    "    show_progress=False,\n",
    "    centered=True,\n",
    ")"
   ]
  },
  {
   "cell_type": "code",
   "execution_count": null,
   "id": "ba5731c6-214e-4e5f-844c-3cf2261eb717",
   "metadata": {},
   "outputs": [],
   "source": [
    "z = loadings.numpy()"
   ]
  },
  {
   "cell_type": "code",
   "execution_count": null,
   "id": "5754aad2-ac9b-4d9c-a9f8-d2f613ddb8e9",
   "metadata": {},
   "outputs": [],
   "source": [
    "plt.scatter(*z[~small].T, c=\"r\", lw=0, s=3, alpha=0.8)\n",
    "plt.scatter(*z[small].T, c=\"b\", lw=0, s=3, alpha=0.8)"
   ]
  },
  {
   "cell_type": "code",
   "execution_count": null,
   "id": "888b4751-316d-4e06-a677-d84a746c194b",
   "metadata": {},
   "outputs": [],
   "source": [
    "loadings, mean, components, svs = spike_interp.fit_pcas(\n",
    "    torch.tensor(wfs_usub[subset].reshape(len(subset), -1)),\n",
    "    missing=None,\n",
    "    empty=None,\n",
    "    rank=2,\n",
    "    max_iter=100,\n",
    "    check_every=5,\n",
    "    n_oversamples=10,\n",
    "    atol=1e-3,\n",
    "    show_progress=False,\n",
    "    centered=True,\n",
    ")"
   ]
  },
  {
   "cell_type": "code",
   "execution_count": null,
   "id": "bdeb3099-458d-4b92-a705-6da8204e339c",
   "metadata": {},
   "outputs": [],
   "source": [
    "z = loadings.numpy()"
   ]
  },
  {
   "cell_type": "code",
   "execution_count": null,
   "id": "263c6dd4-7344-49bf-ba2c-a8f057801bef",
   "metadata": {},
   "outputs": [],
   "source": [
    "plt.scatter(*z.T, c=subset_mask)"
   ]
  },
  {
   "cell_type": "code",
   "execution_count": null,
   "id": "a34d0b91-08d9-4cb6-b1ce-df72acbcd698",
   "metadata": {},
   "outputs": [],
   "source": []
  },
  {
   "cell_type": "code",
   "execution_count": null,
   "id": "70c7fa34-7f10-4117-8c9b-236c2adaa32c",
   "metadata": {},
   "outputs": [],
   "source": [
    "gc.collect()"
   ]
  },
  {
   "cell_type": "code",
   "execution_count": null,
   "id": "89c14144-4033-4bae-8550-f0c2223477e6",
   "metadata": {},
   "outputs": [],
   "source": []
  },
  {
   "cell_type": "code",
   "execution_count": null,
   "id": "b5d718c7-63aa-44e8-a7d1-994d75fb7f36",
   "metadata": {},
   "outputs": [],
   "source": []
  },
  {
   "cell_type": "code",
   "execution_count": null,
   "id": "64d5e89e-76a4-49f6-818c-434f24472e8a",
   "metadata": {},
   "outputs": [],
   "source": [
    "gmm.do_interp = True\n",
    "gmm.models.clear()"
   ]
  },
  {
   "cell_type": "code",
   "execution_count": null,
   "id": "a0205bf0-eff6-4703-8737-f9ac323dd7a0",
   "metadata": {
    "scrolled": true
   },
   "outputs": [],
   "source": [
    "gmm.m_step()\n",
    "gmm.residual_dpc_split()"
   ]
  },
  {
   "cell_type": "code",
   "execution_count": null,
   "id": "5a379018-02f6-403d-9d09-37a401a8a6de",
   "metadata": {},
   "outputs": [],
   "source": []
  }
 ],
 "metadata": {
  "kernelspec": {
   "display_name": "Python [conda env:a]",
   "language": "python",
   "name": "conda-env-a-py"
  },
  "language_info": {
   "codemirror_mode": {
    "name": "ipython",
    "version": 3
   },
   "file_extension": ".py",
   "mimetype": "text/x-python",
   "name": "python",
   "nbconvert_exporter": "python",
   "pygments_lexer": "ipython3",
   "version": "3.11.4"
  }
 },
 "nbformat": 4,
 "nbformat_minor": 5
}
