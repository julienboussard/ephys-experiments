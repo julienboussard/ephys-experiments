{
 "cells": [
  {
   "cell_type": "code",
   "execution_count": null,
   "id": "2a01e533-b963-448a-b489-2ddc264bfc05",
   "metadata": {},
   "outputs": [],
   "source": []
  },
  {
   "cell_type": "code",
   "execution_count": 1,
   "id": "4418c618-26fd-4479-bfa1-ae5f8aacda9a",
   "metadata": {
    "tags": []
   },
   "outputs": [
    {
     "data": {
      "text/plain": [
       "1"
      ]
     },
     "execution_count": 1,
     "metadata": {},
     "output_type": "execute_result"
    }
   ],
   "source": [
    "1"
   ]
  },
  {
   "cell_type": "code",
   "execution_count": 2,
   "id": "37350f5f-ac41-427d-ab4c-03b608945e7d",
   "metadata": {
    "tags": []
   },
   "outputs": [],
   "source": [
    "%load_ext autoreload\n",
    "%autoreload 2"
   ]
  },
  {
   "cell_type": "code",
   "execution_count": 3,
   "id": "c83e2ebc-ebf1-47f5-929f-31ae9d9db02a",
   "metadata": {
    "tags": []
   },
   "outputs": [],
   "source": [
    "import dartsort\n",
    "import numpy as np\n",
    "import dartsort.vis as dartvis\n",
    "import matplotlib.pyplot as plt\n",
    "from pathlib import Path\n",
    "import h5py\n",
    "import torch\n",
    "import torch.nn.functional as F\n",
    "from sklearn.decomposition import PCA, TruncatedSVD\n",
    "import spikeinterface.full as si\n",
    "from dartsort.config import *\n",
    "from dartsort.cluster import initial, density\n",
    "import dataclasses\n",
    "from dartsort.util import drift_util\n",
    "import warnings\n",
    "from tqdm.auto import trange, tqdm\n",
    "from scipy.stats import chi2\n",
    "from ephysx import spike_gmm, spike_lrgmm, spike_basic, ppca\n",
    "from matplotlib import colors\n",
    "import seaborn as sns\n",
    "from scipy.cluster.hierarchy import linkage, fcluster"
   ]
  },
  {
   "cell_type": "code",
   "execution_count": 4,
   "id": "1c74c408-7896-458f-a410-347bc8163f9c",
   "metadata": {
    "tags": []
   },
   "outputs": [],
   "source": [
    "%config InlineBackend.figure_format = 'retina'\n",
    "import matplotlib.pyplot as plt\n",
    "from matplotlib.markers import MarkerStyle\n",
    "from matplotlib.transforms import offset_copy\n",
    "from matplotlib.patches import Ellipse, Rectangle, ConnectionPatch\n",
    "from matplotlib.lines import Line2D\n",
    "from matplotlib.legend_handler import HandlerTuple\n",
    "import contextlib\n",
    "import colorcet as cc\n",
    "\n",
    "plt.rc(\"figure\", dpi=300)\n",
    "plt.rc(\"figure\", figsize=(2, 2))\n",
    "SMALL_SIZE = 5\n",
    "MEDIUM_SIZE = 7\n",
    "BIGGER_SIZE =  8\n",
    "plt.rc('font', size=SMALL_SIZE)\n",
    "plt.rc('axes', titlesize=MEDIUM_SIZE)\n",
    "plt.rc('axes', labelsize=SMALL_SIZE)\n",
    "plt.rc('xtick', labelsize=SMALL_SIZE)\n",
    "plt.rc('ytick', labelsize=SMALL_SIZE)\n",
    "plt.rc('legend', fontsize=SMALL_SIZE)\n",
    "plt.rc('figure', titlesize=BIGGER_SIZE)"
   ]
  },
  {
   "cell_type": "code",
   "execution_count": 5,
   "id": "751c5e04-f748-45f9-a4df-7d9eb2216cdd",
   "metadata": {
    "tags": []
   },
   "outputs": [],
   "source": [
    "# global\n",
    "model_radius = 15.0\n",
    "cfg = DARTsortConfig(\n",
    "    matching_iterations=2,\n",
    "    subtraction_config=SubtractionConfig(\n",
    "        detection_thresholds=(12, 9, 6, 5),\n",
    "        extract_radius=75.0,\n",
    "        max_waveforms_fit=20_000,\n",
    "        subtraction_denoising_config=FeaturizationConfig(\n",
    "            denoise_only=True,\n",
    "            input_waveforms_name=\"raw\",\n",
    "            output_waveforms_name=\"subtracted\",\n",
    "            tpca_fit_radius=model_radius,\n",
    "        ),\n",
    "        residnorm_decrease_threshold=20.0,\n",
    "    ),\n",
    "    matching_config=MatchingConfig(\n",
    "        threshold=2500.0,\n",
    "        max_waveforms_fit=20_000,\n",
    "        extract_radius=75.0,\n",
    "    ),\n",
    "    template_config=TemplateConfig(\n",
    "        denoising_fit_radius=model_radius,\n",
    "        denoising_snr_threshold=100.0,\n",
    "        superres_templates=False,\n",
    "    ),\n",
    "    clustering_config=ClusteringConfig(\n",
    "        cluster_strategy=\"density_peaks\",\n",
    "        sigma_regional=25.0,\n",
    "        noise_density=1.0,\n",
    "        ensemble_strategy=None,\n",
    "    ),\n",
    "    split_merge_config=SplitMergeConfig(\n",
    "        min_spatial_cosine=0.0,\n",
    "        linkage=\"single\",\n",
    "        # linkage=\"weighted_template\",\n",
    "        split_strategy_kwargs=dict(\n",
    "            channel_selection_radius=model_radius,\n",
    "            max_spikes=10_000,\n",
    "        ),\n",
    "        merge_template_config=TemplateConfig(\n",
    "            denoising_fit_radius=model_radius,\n",
    "            denoising_snr_threshold=100.0,\n",
    "            superres_templates=False,\n",
    "        )\n",
    "    ),\n",
    "    featurization_config=FeaturizationConfig(\n",
    "        tpca_fit_radius=model_radius,\n",
    "        localization_radius=50.0,\n",
    "        localization_model=\"dipole\",\n",
    "    ),\n",
    "    motion_estimation_config=MotionEstimationConfig(\n",
    "        max_dt_s=1000,\n",
    "        window_scale_um=250,\n",
    "        window_step_um=75,\n",
    "        window_margin_um=-150,\n",
    "        min_amplitude=15.0,\n",
    "    ),\n",
    ")"
   ]
  },
  {
   "cell_type": "code",
   "execution_count": 6,
   "id": "b1de6e98-1439-42f9-a1b6-5f737935b208",
   "metadata": {
    "tags": []
   },
   "outputs": [],
   "source": [
    "rec = si.read_binary_folder(\"/home/charlie/data/uhdzigzagzye57cmr/\")"
   ]
  },
  {
   "cell_type": "code",
   "execution_count": 7,
   "id": "60708e6e-5451-438d-976d-64cae78163a7",
   "metadata": {
    "tags": []
   },
   "outputs": [
    {
     "data": {
      "text/plain": [
       "DARTsortSorting: 1971390 spikes, 1 unit. from parent h5 file /home/charlie/data/uhdzigzagzye57cmr_sub/subtraction.h5."
      ]
     },
     "execution_count": 7,
     "metadata": {},
     "output_type": "execute_result"
    }
   ],
   "source": [
    "sub_st = dartsort.DARTsortSorting.from_peeling_hdf5(\n",
    "    \"/home/charlie/data/uhdzigzagzye57cmr_sub/subtraction.h5\",\n",
    "    load_simple_features=False,\n",
    ")\n",
    "sub_st"
   ]
  },
  {
   "cell_type": "code",
   "execution_count": 9,
   "id": "7f3db65f-c410-4e7f-b35e-ab42374868a4",
   "metadata": {
    "tags": []
   },
   "outputs": [],
   "source": [
    "motion_est = dartsort.estimate_motion(rec, sub_st, sub_st.parent_h5_path.parent, **dataclasses.asdict(cfg.motion_estimation_config))"
   ]
  },
  {
   "cell_type": "code",
   "execution_count": 10,
   "id": "1b12821b-bc4d-419b-b469-a00a0b049d1c",
   "metadata": {
    "tags": []
   },
   "outputs": [],
   "source": [
    "chunk_time_ranges = initial.chunk_time_ranges(rec, chunk_length_samples=30_000 * 300)\n",
    "chunk11_dpc = initial.cluster_chunk(sub_st.parent_h5_path, cfg.clustering_config, chunk_time_range_s=chunk_time_ranges[10], motion_est=motion_est)"
   ]
  },
  {
   "cell_type": "code",
   "execution_count": 11,
   "id": "93c2273d-01ed-4521-a395-c7d114cb7e87",
   "metadata": {
    "tags": []
   },
   "outputs": [],
   "source": [
    "mask = chunk11_dpc.labels >= 0"
   ]
  },
  {
   "cell_type": "code",
   "execution_count": 12,
   "id": "b9da6b55-61e5-42eb-bc3b-5148c7b99fcf",
   "metadata": {
    "tags": []
   },
   "outputs": [],
   "source": [
    "h5_path = chunk11_dpc.parent_h5_path"
   ]
  },
  {
   "cell_type": "code",
   "execution_count": 13,
   "id": "2ce01cc1-99e5-45e8-ae8a-e8112891a8cc",
   "metadata": {
    "tags": []
   },
   "outputs": [],
   "source": [
    "dataset_name = \"collisioncleaned_tpca_features\""
   ]
  },
  {
   "cell_type": "code",
   "execution_count": null,
   "id": "a6c3cdc5-015c-4a2a-bf73-73889fab1ef4",
   "metadata": {},
   "outputs": [],
   "source": []
  },
  {
   "cell_type": "code",
   "execution_count": 14,
   "id": "736232d5-752e-42f8-ae1e-18ea5897d8b0",
   "metadata": {
    "tags": []
   },
   "outputs": [],
   "source": [
    "def _read_by_chunk(mask, dataset):\n",
    "    \"\"\"\n",
    "    mask : boolean array of shape dataset.shape[:1]\n",
    "    dataset : chunked h5py.Dataset\n",
    "    \"\"\"\n",
    "    out = np.empty((mask.sum(), *dataset.shape[1:]), dtype=dataset.dtype)\n",
    "    n = 0\n",
    "    for sli, *_ in dataset.iter_chunks():\n",
    "        m = np.flatnonzero(mask[sli])\n",
    "        nm = m.size\n",
    "        if not nm:\n",
    "            continue\n",
    "        x = dataset[sli][m]\n",
    "        out[n : n + nm] = x\n",
    "        n += nm\n",
    "    return out"
   ]
  },
  {
   "cell_type": "code",
   "execution_count": null,
   "id": "b71256cb-2153-426a-8d66-d8744eae6310",
   "metadata": {
    "tags": []
   },
   "outputs": [],
   "source": [
    "def _read_by_chunk2(mask, dataset, axis=0):\n",
    "    \"\"\"\n",
    "    mask : boolean array of shape (dataset.shape[axis],)\n",
    "    dataset : chunked h5py.Dataset\n",
    "    \"\"\"\n",
    "    out_shape = list(dataset.shape)\n",
    "    out_shape[axis] = mask.sum()\n",
    "    out = np.empty(out_shape, dtype=dataset.dtype)\n",
    "    src_ix = [slice(None)] * dataset.ndim\n",
    "    n = 0\n",
    "    for slice_tuple in dataset.iter_chunks():\n",
    "        ax_slice = slice_tuple[axis]\n",
    "        m = np.flatnonzero(mask[ax_slice])\n",
    "        nm = m.size\n",
    "        if not nm:\n",
    "            continue\n",
    "        src_ix[axis] = m\n",
    "        x = dataset[slice_tuple][tuple(src_ix)]\n",
    "        dest_ix = (*slice_tuple[:axis], slice(n, n + nm), *slice_tuple[axis + 1 :])\n",
    "        out[dest_ix] = x\n",
    "        n += nm\n",
    "    return out"
   ]
  },
  {
   "cell_type": "code",
   "execution_count": 38,
   "id": "787ece8b-f123-4a9d-aaf7-3aa954d73a39",
   "metadata": {
    "tags": []
   },
   "outputs": [
    {
     "data": {
      "text/plain": [
       "((1971390,), 211510, 0.10728978030729587)"
      ]
     },
     "execution_count": 38,
     "metadata": {},
     "output_type": "execute_result"
    }
   ],
   "source": [
    "mask.shape, mask.sum(), mask.mean()"
   ]
  },
  {
   "cell_type": "code",
   "execution_count": 16,
   "id": "e59afcad-dbaa-49d5-9875-c97c9c190c2d",
   "metadata": {
    "tags": []
   },
   "outputs": [],
   "source": [
    "indices = np.flatnonzero(mask)"
   ]
  },
  {
   "cell_type": "code",
   "execution_count": 17,
   "id": "9c35097a-29b5-405f-9505-fa48c2484dac",
   "metadata": {
    "tags": []
   },
   "outputs": [
    {
     "name": "stdout",
     "output_type": "stream",
     "text": [
      "(1971390, 8, 198)\n",
      "(1024, 8, 198)\n"
     ]
    }
   ],
   "source": [
    "with h5py.File(h5_path, \"r\", locking=False) as h5:\n",
    "    print(h5[dataset_name].shape)\n",
    "    print(h5[dataset_name].chunks)"
   ]
  },
  {
   "cell_type": "code",
   "execution_count": 59,
   "id": "702c450e-078a-4820-8742-6bafde093faa",
   "metadata": {
    "tags": []
   },
   "outputs": [
    {
     "name": "stdout",
     "output_type": "stream",
     "text": [
      "925 ms ± 44.9 ms per loop (mean ± std. dev. of 7 runs, 1 loop each)\n"
     ]
    }
   ],
   "source": [
    "%%timeit\n",
    "with h5py.File(h5_path, \"r\", locking=False) as h5:\n",
    "    x = _read_by_chunk(mask, h5[dataset_name])\n",
    "    # y = _read_by_chunk2(mask, h5[dataset_name])"
   ]
  },
  {
   "cell_type": "code",
   "execution_count": 78,
   "id": "a446f240-3eb4-405f-981c-518912f4a3c2",
   "metadata": {
    "tags": []
   },
   "outputs": [],
   "source": [
    "m = mask.copy()\n",
    "m[np.flatnonzero(m)[8000:]] = 0"
   ]
  },
  {
   "cell_type": "code",
   "execution_count": 79,
   "id": "2ff881ee-6ffb-4a17-b8d1-018d742c8e5c",
   "metadata": {
    "tags": []
   },
   "outputs": [
    {
     "data": {
      "text/plain": [
       "((1971390,), 8000, 0.004058050411131232)"
      ]
     },
     "execution_count": 79,
     "metadata": {},
     "output_type": "execute_result"
    }
   ],
   "source": [
    "m.shape, m.sum(), m.mean()"
   ]
  },
  {
   "cell_type": "code",
   "execution_count": 80,
   "id": "7eebe9d6-a990-4ec8-a56b-37024a228b2c",
   "metadata": {
    "tags": []
   },
   "outputs": [
    {
     "name": "stdout",
     "output_type": "stream",
     "text": [
      "1.13 s ± 0 ns per loop (mean ± std. dev. of 1 run, 1 loop each)\n"
     ]
    }
   ],
   "source": [
    "%%timeit -r1\n",
    "with h5py.File(h5_path, \"r\", locking=False) as h5:\n",
    "    x = h5[dataset_name][m]"
   ]
  },
  {
   "cell_type": "code",
   "execution_count": null,
   "id": "1f45f7eb-f5f5-44d7-ad7d-c44ff8c1fc40",
   "metadata": {},
   "outputs": [],
   "source": []
  }
 ],
 "metadata": {
  "kernelspec": {
   "display_name": "Python [conda env:a]",
   "language": "python",
   "name": "conda-env-a-py"
  },
  "language_info": {
   "codemirror_mode": {
    "name": "ipython",
    "version": 3
   },
   "file_extension": ".py",
   "mimetype": "text/x-python",
   "name": "python",
   "nbconvert_exporter": "python",
   "pygments_lexer": "ipython3",
   "version": "3.11.4"
  }
 },
 "nbformat": 4,
 "nbformat_minor": 5
}
